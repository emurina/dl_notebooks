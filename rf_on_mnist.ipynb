{
  "nbformat": 4,
  "nbformat_minor": 0,
  "metadata": {
    "colab": {
      "name": "rf_on_mnist.ipynb",
      "version": "0.3.2",
      "provenance": []
    },
    "kernelspec": {
      "name": "python3",
      "display_name": "Python 3"
    }
  },
  "cells": [
    {
      "metadata": {
        "id": "yOyFh4REJccU",
        "colab_type": "text"
      },
      "cell_type": "markdown",
      "source": [
        "# MNIST digit rf baseline \n",
        "\n",
        "| [open in colab](https://colab.research.google.com/github/emurina/dl_book/blob/master/rf_on_mnist.ipynb.ipynb)\n"
      ]
    },
    {
      "metadata": {
        "id": "RLPqYR3xCyJ7",
        "colab_type": "code",
        "colab": {
          "base_uri": "https://localhost:8080/",
          "height": 34
        },
        "outputId": "358ae440-f9cd-4ab4-b713-7798190d7c36"
      },
      "cell_type": "code",
      "source": [
        "# load required libraries:\n",
        "import numpy as np\n",
        "import matplotlib.pyplot as plt\n",
        "%matplotlib inline\n",
        "plt.style.use('default')\n",
        "from sklearn.metrics import confusion_matrix\n",
        "import keras\n"
      ],
      "execution_count": 1,
      "outputs": [
        {
          "output_type": "stream",
          "text": [
            "Using TensorFlow backend.\n"
          ],
          "name": "stderr"
        }
      ]
    },
    {
      "metadata": {
        "id": "AtggeirBthEq",
        "colab_type": "code",
        "outputId": "7fc00470-fe56-481c-9f28-5fac9a1b07c3",
        "colab": {
          "base_uri": "https://localhost:8080/",
          "height": 67
        }
      },
      "cell_type": "code",
      "source": [
        "\n",
        "from keras.datasets import mnist\n",
        "(x_train, y_train), (x_test, y_test) = mnist.load_data()\n",
        "\n",
        "# separate x_train in X_train and X_val, same for y_train\n",
        "X_train=x_train[0:50000] / 255 #divide by 255 so that they are in range 0 to 1\n",
        "Y_train=keras.utils.to_categorical(y_train[0:50000],10) # one-hot encoding\n",
        "\n",
        "X_val=x_train[50000:60000] / 255\n",
        "Y_val=keras.utils.to_categorical(y_train[50000:60000],10)\n",
        "\n",
        "X_test=x_test / 255\n",
        "Y_test=keras.utils.to_categorical(y_test,10)\n",
        "\n",
        "del x_train, y_train, x_test, y_test\n",
        "\n",
        "X_train=np.reshape(X_train, (X_train.shape[0],28,28,1))\n",
        "X_val=np.reshape(X_val, (X_val.shape[0],28,28,1))\n",
        "X_test=np.reshape(X_test, (X_test.shape[0],28,28,1))\n",
        "\n",
        "print(X_train.shape)\n",
        "print(X_val.shape)\n",
        "print(X_test.shape)"
      ],
      "execution_count": 2,
      "outputs": [
        {
          "output_type": "stream",
          "text": [
            "(50000, 28, 28, 1)\n",
            "(10000, 28, 28, 1)\n",
            "(10000, 28, 28, 1)\n"
          ],
          "name": "stdout"
        }
      ]
    },
    {
      "metadata": {
        "id": "Gi-x3KyrtNht",
        "colab_type": "code",
        "outputId": "41a6893b-33d3-4cd1-ca8d-d55c1d05c2bd",
        "colab": {
          "base_uri": "https://localhost:8080/",
          "height": 34
        }
      },
      "cell_type": "code",
      "source": [
        "print(X_train.shape)"
      ],
      "execution_count": 3,
      "outputs": [
        {
          "output_type": "stream",
          "text": [
            "(50000, 28, 28, 1)\n"
          ],
          "name": "stdout"
        }
      ]
    },
    {
      "metadata": {
        "id": "tYbQtog9ChN5",
        "colab_type": "code",
        "colab": {
          "base_uri": "https://localhost:8080/",
          "height": 450
        },
        "outputId": "cad8cbb8-fe56-4d5f-bc4b-786aae09c665"
      },
      "cell_type": "code",
      "source": [
        "plt.imshow(X_train[0,:,:,0],cmap=\"gray\")"
      ],
      "execution_count": 4,
      "outputs": [
        {
          "output_type": "execute_result",
          "data": {
            "text/plain": [
              "<matplotlib.image.AxesImage at 0x7f9cdb4d7240>"
            ]
          },
          "metadata": {
            "tags": []
          },
          "execution_count": 4
        },
        {
          "output_type": "display_data",
          "data": {
            "image/png": "[encoded data removed]",
            "text/plain": [
              "<Figure size 640x480 with 1 Axes>"
            ]
          },
          "metadata": {
            "tags": []
          }
        }
      ]
    },
    {
      "metadata": {
        "id": "S3XMsglWxVmB",
        "colab_type": "code",
        "outputId": "c0eae0ac-8b3a-42a6-c91a-d7e2070bc7df",
        "colab": {
          "base_uri": "https://localhost:8080/",
          "height": 168
        }
      },
      "cell_type": "code",
      "source": [
        "\n",
        "from sklearn.ensemble import RandomForestClassifier\n",
        "from sklearn.datasets import make_classification\n",
        "\n",
        "X_train=X_train.reshape(50000,28*28*1)\n",
        "clf = RandomForestClassifier()\n",
        "clf.fit(X_train, np.argmax(Y_train,axis=1))  "
      ],
      "execution_count": 5,
      "outputs": [
        {
          "output_type": "stream",
          "text": [
            "/usr/local/lib/python3.6/dist-packages/sklearn/ensemble/forest.py:246: FutureWarning: The default value of n_estimators will change from 10 in version 0.20 to 100 in 0.22.\n",
            "  \"10 in version 0.20 to 100 in 0.22.\", FutureWarning)\n"
          ],
          "name": "stderr"
        },
        {
          "output_type": "execute_result",
          "data": {
            "text/plain": [
              "RandomForestClassifier(bootstrap=True, class_weight=None, criterion='gini',\n",
              "            max_depth=None, max_features='auto', max_leaf_nodes=None,\n",
              "            min_impurity_decrease=0.0, min_impurity_split=None,\n",
              "            min_samples_leaf=1, min_samples_split=2,\n",
              "            min_weight_fraction_leaf=0.0, n_estimators=10, n_jobs=None,\n",
              "            oob_score=False, random_state=None, verbose=0,\n",
              "            warm_start=False)"
            ]
          },
          "metadata": {
            "tags": []
          },
          "execution_count": 5
        }
      ]
    },
    {
      "metadata": {
        "id": "qMByL9N1JxxP",
        "colab_type": "code",
        "colab": {}
      },
      "cell_type": "code",
      "source": [
        "preds=clf.predict(X_test.reshape(10000,28*28*1))"
      ],
      "execution_count": 0,
      "outputs": []
    },
    {
      "metadata": {
        "id": "mq_7TOeTJ7YO",
        "colab_type": "code",
        "colab": {
          "base_uri": "https://localhost:8080/",
          "height": 202
        },
        "outputId": "36b7a3ce-6e98-46c1-b228-8dee6dd56877"
      },
      "cell_type": "code",
      "source": [
        "pred=clf.predict(X_test.reshape(10000,28*28*1))\n",
        "print(confusion_matrix(np.argmax(Y_test,axis=1),pred))\n",
        "acc_fc_orig = np.sum(np.argmax(Y_test,axis=1)==pred)/len(pred)\n",
        "print(\"Acc_fc_orig_flat = \" , acc_fc_orig)"
      ],
      "execution_count": 7,
      "outputs": [
        {
          "output_type": "stream",
          "text": [
            "[[ 966    0    4    2    0    1    4    1    1    1]\n",
            " [   0 1122    2    5    1    1    2    1    1    0]\n",
            " [   9    4  973   15    4    1    5   14    6    1]\n",
            " [   1    1   14  952    1   16    2    7   12    4]\n",
            " [   2    2    6    0  935    1    7    0    4   25]\n",
            " [   7    4    3   36    2  815   10    1    4   10]\n",
            " [  10    4    2    1    2   11  923    0    5    0]\n",
            " [   1    6   23    6    8    1    0  970    5    8]\n",
            " [   8    2   17   20    8   17    6    4  881   11]\n",
            " [  12    6    3   12   34    8    1    7   14  912]]\n",
            "Acc_fc_orig_flat =  0.9449\n"
          ],
          "name": "stdout"
        }
      ]
    }
  ]
}