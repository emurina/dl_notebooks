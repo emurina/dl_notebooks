{
  "nbformat": 4,
  "nbformat_minor": 0,
  "metadata": {
    "colab": {
      "name": "13_sentiment_analysis_with_imdb_reviews_solution.ipynb",
      "version": "0.3.2",
      "provenance": []
    },
    "kernelspec": {
      "name": "python3",
      "display_name": "Python 3"
    },
    "accelerator": "GPU"
  },
  "cells": [
    {
      "cell_type": "markdown",
      "metadata": {
        "id": "lj0kayjfOfdv",
        "colab_type": "text"
      },
      "source": [
        "## Sentiment analysis with imdb reviews\n",
        "\n",
        "In this notebook we work with the IMDb dataset, it is a binary sentiment analysis dataset consisting of 50,000 reviews from the Internet Movie Database (IMDb) labeled as positive (1) or negative (0). The dataset contains an even number of positive and negative reviews. Only highly polarizing reviews are considered. A negative review has a score ≤ 4 out of 10, and a positive review has a score ≥ 7 out of 10. We will apply a very simple preprocessing to the textreviews and then train a baseline randomforest on bag of words features. We will compare the results of the bag of word randomforest with a neural network performace where we learn a  dense word-embedding for each word and then classify it to either positive (1) or negative (0). Finally we will use an inception-like architecture with 1D convolutions and globalpooling and see if we can improve the performace. You can test the trained network on new reviews from the internet or by writting your own review for a movie you like or don't like."
      ]
    },
    {
      "cell_type": "code",
      "metadata": {
        "id": "T30znDyfOfdz",
        "colab_type": "code",
        "colab": {}
      },
      "source": [
        "import numpy as np\n",
        "import pandas as pd\n",
        "import matplotlib.pyplot as plt\n",
        "import re\n",
        "%matplotlib inline"
      ],
      "execution_count": 0,
      "outputs": []
    },
    {
      "cell_type": "code",
      "metadata": {
        "id": "rwiaITdXOfd7",
        "colab_type": "code",
        "colab": {}
      },
      "source": [
        "# Downloading the review and labels, if it does not exist\n",
        "import urllib\n",
        "import os\n",
        "if not os.path.isfile('movie_data.csv'):\n",
        "    urllib.request.urlretrieve(\n",
        "    \"https://www.dropbox.com/s/kvwi2nlrtk7axn9/movie_data.csv?dl=1\",\n",
        "    \"movie_data.csv\")"
      ],
      "execution_count": 0,
      "outputs": []
    },
    {
      "cell_type": "code",
      "metadata": {
        "id": "JTuYfofUOfeB",
        "colab_type": "code",
        "outputId": "e31e974c-895d-41b5-955a-694f010d04a2",
        "colab": {
          "base_uri": "https://localhost:8080/",
          "height": 204
        }
      },
      "source": [
        "df = pd.read_csv('movie_data.csv', encoding='utf-8')\n",
        "df[0:5]"
      ],
      "execution_count": 0,
      "outputs": [
        {
          "output_type": "execute_result",
          "data": {
            "text/html": [
              "<div>\n",
              "<style scoped>\n",
              "    .dataframe tbody tr th:only-of-type {\n",
              "        vertical-align: middle;\n",
              "    }\n",
              "\n",
              "    .dataframe tbody tr th {\n",
              "        vertical-align: top;\n",
              "    }\n",
              "\n",
              "    .dataframe thead th {\n",
              "        text-align: right;\n",
              "    }\n",
              "</style>\n",
              "<table border=\"1\" class=\"dataframe\">\n",
              "  <thead>\n",
              "    <tr style=\"text-align: right;\">\n",
              "      <th></th>\n",
              "      <th>review</th>\n",
              "      <th>sentiment</th>\n",
              "    </tr>\n",
              "  </thead>\n",
              "  <tbody>\n",
              "    <tr>\n",
              "      <th>0</th>\n",
              "      <td>I went and saw this movie last night after bei...</td>\n",
              "      <td>1</td>\n",
              "    </tr>\n",
              "    <tr>\n",
              "      <th>1</th>\n",
              "      <td>Actor turned director Bill Paxton follows up h...</td>\n",
              "      <td>1</td>\n",
              "    </tr>\n",
              "    <tr>\n",
              "      <th>2</th>\n",
              "      <td>As a recreational golfer with some knowledge o...</td>\n",
              "      <td>1</td>\n",
              "    </tr>\n",
              "    <tr>\n",
              "      <th>3</th>\n",
              "      <td>I saw this film in a sneak preview, and it is ...</td>\n",
              "      <td>1</td>\n",
              "    </tr>\n",
              "    <tr>\n",
              "      <th>4</th>\n",
              "      <td>Bill Paxton has taken the true story of the 19...</td>\n",
              "      <td>1</td>\n",
              "    </tr>\n",
              "  </tbody>\n",
              "</table>\n",
              "</div>"
            ],
            "text/plain": [
              "                                              review  sentiment\n",
              "0  I went and saw this movie last night after bei...          1\n",
              "1  Actor turned director Bill Paxton follows up h...          1\n",
              "2  As a recreational golfer with some knowledge o...          1\n",
              "3  I saw this film in a sneak preview, and it is ...          1\n",
              "4  Bill Paxton has taken the true story of the 19...          1"
            ]
          },
          "metadata": {
            "tags": []
          },
          "execution_count": 3
        }
      ]
    },
    {
      "cell_type": "markdown",
      "metadata": {
        "id": "dhE_jotWOfeL",
        "colab_type": "text"
      },
      "source": [
        "shuffle the data and extract the first 15000 reviews with the sentiments\n"
      ]
    },
    {
      "cell_type": "code",
      "metadata": {
        "id": "QKY_bQmFOfeN",
        "colab_type": "code",
        "colab": {}
      },
      "source": [
        "df=df.sample(frac=1,random_state=22).reset_index(drop=True)\n",
        "X = df.loc[0:24999, 'review'].values\n",
        "y = df.loc[0:24999, 'sentiment'].values"
      ],
      "execution_count": 0,
      "outputs": []
    },
    {
      "cell_type": "markdown",
      "metadata": {
        "id": "WKm_KAAzOfeU",
        "colab_type": "text"
      },
      "source": [
        "look at one review before we apply some text preprocessing"
      ]
    },
    {
      "cell_type": "code",
      "metadata": {
        "id": "8n2VJcDPOfeV",
        "colab_type": "code",
        "outputId": "991de680-0519-4084-aead-a6f90dff4bf3",
        "colab": {
          "base_uri": "https://localhost:8080/",
          "height": 71
        }
      },
      "source": [
        "i=0\n",
        "print(X[i])\n",
        "print(y[i])"
      ],
      "execution_count": 0,
      "outputs": [
        {
          "output_type": "stream",
          "text": [
            "This is not a new film. It is a re-cut of 1994's \"Emmanuelle, Queen of the Galaxy\", and it has been significantly truncated. Warning: Many characters appear in the credits that have been cut from the movie!<br /><br />If you want to see this one in its original form, pick up \"Queen\" - avoid this one at all costs, as the cuts make it even choppier than it was originally.\n",
            "0\n"
          ],
          "name": "stdout"
        }
      ]
    },
    {
      "cell_type": "markdown",
      "metadata": {
        "id": "Tnwg7vp6Ofec",
        "colab_type": "text"
      },
      "source": [
        "Here we do a very simple preprocessing, no stemming no lemmatization no stopwords removed  \n",
        "codecredit: https://stackabuse.com/text-classification-with-python-and-scikit-learn/"
      ]
    },
    {
      "cell_type": "code",
      "metadata": {
        "id": "GW0zbtIlOfed",
        "colab_type": "code",
        "colab": {}
      },
      "source": [
        "documents = []\n",
        "\n",
        "for i in range(0, len(X)):  \n",
        "    # Remove all the special characters\n",
        "    document = re.sub(r'\\W', ' ', str(X[i]))\n",
        "    # remove all single characters\n",
        "    document = re.sub(r'\\s+[a-zA-Z]\\s+', ' ', document)\n",
        "    # Remove single characters from the start\n",
        "    document = re.sub(r'\\^[a-zA-Z]\\s+', ' ', document) \n",
        "    # Substituting multiple spaces with single space\n",
        "    document = re.sub(r'\\s+', ' ', document, flags=re.I)\n",
        "    # Removing prefixed 'b'\n",
        "    document = re.sub(r'^b\\s+', '', document)\n",
        "    # Removing html stuff\n",
        "    document = re.sub(\"br\", '', document)\n",
        "    # Substituting multiple spaces with single space\n",
        "    document = re.sub(r'\\s+', ' ', document, flags=re.I)\n",
        "    # Converting to Lowercase\n",
        "    document = document.lower()\n",
        "    documents.append(document)"
      ],
      "execution_count": 0,
      "outputs": []
    },
    {
      "cell_type": "markdown",
      "metadata": {
        "id": "Mw8UKcGTOfeh",
        "colab_type": "text"
      },
      "source": [
        "look at the review from before after the text preprocessing"
      ]
    },
    {
      "cell_type": "code",
      "metadata": {
        "id": "4gQyS5HROfej",
        "colab_type": "code",
        "outputId": "09536c05-eeed-45a6-a19a-7d19ab99c199",
        "colab": {
          "base_uri": "https://localhost:8080/",
          "height": 54
        }
      },
      "source": [
        "documents[0]"
      ],
      "execution_count": 0,
      "outputs": [
        {
          "output_type": "execute_result",
          "data": {
            "text/plain": [
              "'this is not new film it is re cut of 1994 emmanuelle queen of the galaxy and it has been significantly truncated warning many characters appear in the credits that have been cut from the movie if you want to see this one in its original form pick up queen avoid this one at all costs as the cuts make it even choppier than it was originally '"
            ]
          },
          "metadata": {
            "tags": []
          },
          "execution_count": 7
        }
      ]
    },
    {
      "cell_type": "markdown",
      "metadata": {
        "id": "CWFpB4WTOfeu",
        "colab_type": "text"
      },
      "source": [
        "## RF Baseline"
      ]
    },
    {
      "cell_type": "markdown",
      "metadata": {
        "id": "YEFN9cp2Ofet",
        "colab_type": "text"
      },
      "source": [
        "Here we \"vectorize\" the bag of words. We choose to consider only the 6000 most frequent words and take only words that appear in at least 5 diffrent reviews, furthermore we ignore all words that appear in more than 70% of all reviews. "
      ]
    },
    {
      "cell_type": "code",
      "metadata": {
        "id": "keboNZRTOfev",
        "colab_type": "code",
        "colab": {}
      },
      "source": [
        "from sklearn.feature_extraction.text import CountVectorizer  \n",
        "vectorizer = CountVectorizer(max_features=6000, min_df=5, max_df=0.7)\n",
        " \n",
        "X = vectorizer.fit_transform(documents).toarray()  "
      ],
      "execution_count": 0,
      "outputs": []
    },
    {
      "cell_type": "code",
      "metadata": {
        "id": "5KVtAwNMOfez",
        "colab_type": "code",
        "outputId": "32a5dac2-e497-40e1-b931-f0f87930b998",
        "colab": {
          "base_uri": "https://localhost:8080/",
          "height": 544
        }
      },
      "source": [
        "print(len(vectorizer.get_feature_names()))#length of all tokens\n",
        "np.array(vectorizer.get_feature_names()[0:200])#the first 200 tokens"
      ],
      "execution_count": 0,
      "outputs": [
        {
          "output_type": "stream",
          "text": [
            "6000\n"
          ],
          "name": "stdout"
        },
        {
          "output_type": "execute_result",
          "data": {
            "text/plain": [
              "array(['00', '000', '10', '100', '11', '12', '13', '13th', '14', '15',\n",
              "       '16', '17', '18', '1930', '1930s', '1933', '1939', '1940', '1940s',\n",
              "       '1945', '1950', '1950s', '1960', '1960s', '1968', '1969', '1970',\n",
              "       '1970s', '1971', '1972', '1973', '1976', '1977', '1978', '1979',\n",
              "       '1980', '1980s', '1981', '1983', '1984', '1986', '1987', '1988',\n",
              "       '1989', '1990', '1993', '1994', '1995', '1996', '1997', '1999',\n",
              "       '19th', '1st', '20', '2000', '2001', '2002', '2003', '2004',\n",
              "       '2005', '2006', '2007', '2008', '20th', '21st', '22', '23', '24',\n",
              "       '25', '2nd', '30', '3000', '30s', '35', '3d', '3rd', '40', '40s',\n",
              "       '45', '50', '50s', '60', '60s', '70', '70s', '75', '80', '80s',\n",
              "       '90', '90s', '95', '99', 'aaron', 'abandoned', 'abc', 'abilities',\n",
              "       'ability', 'able', 'aboard', 'about', 'above', 'absence', 'absent',\n",
              "       'absolute', 'absolutely', 'absurd', 'abuse', 'abused', 'abusive',\n",
              "       'abysmal', 'academy', 'accent', 'accents', 'accept', 'acceptable',\n",
              "       'acceptance', 'accepted', 'access', 'accident', 'accidentally',\n",
              "       'acclaimed', 'accompanied', 'accomplish', 'accomplished',\n",
              "       'according', 'account', 'accuracy', 'accurate', 'accurately',\n",
              "       'accused', 'ace', 'achieve', 'achieved', 'achievement', 'acid',\n",
              "       'across', 'act', 'acted', 'acting', 'action', 'actions', 'active',\n",
              "       'activities', 'activity', 'actor', 'actors', 'actress',\n",
              "       'actresses', 'acts', 'actual', 'actually', 'ad', 'adam', 'adams',\n",
              "       'adaptation', 'adaptations', 'adapted', 'add', 'added', 'addict',\n",
              "       'addicted', 'addiction', 'adding', 'addition', 'additional',\n",
              "       'address', 'adds', 'adequate', 'admirable', 'admire', 'admission',\n",
              "       'admit', 'admittedly', 'adolescent', 'adopted', 'adorable',\n",
              "       'adult', 'adults', 'advance', 'advanced', 'advantage', 'adventure',\n",
              "       'adventures', 'advertising', 'advice', 'advise', 'aesthetic',\n",
              "       'affair', 'affairs', 'affect', 'affected', 'affection', 'afford',\n",
              "       'aforementioned', 'afraid', 'africa', 'african', 'after',\n",
              "       'afternoon', 'afterwards'], dtype='<U14')"
            ]
          },
          "metadata": {
            "tags": []
          },
          "execution_count": 20
        }
      ]
    },
    {
      "cell_type": "markdown",
      "metadata": {
        "id": "Vv6UVT8FOfe4",
        "colab_type": "text"
      },
      "source": [
        "spliting the bag of words into a train valid and testset"
      ]
    },
    {
      "cell_type": "code",
      "metadata": {
        "id": "4VW4EENZOfe5",
        "colab_type": "code",
        "colab": {}
      },
      "source": [
        "X_train = X[0:10000]\n",
        "y_train = y[0:10000]\n",
        "X_val = X[10000:20000]\n",
        "y_val = y[10000:20000]\n",
        "X_test = X[20000:25000]\n",
        "y_test = y[20000:25000]"
      ],
      "execution_count": 0,
      "outputs": []
    },
    {
      "cell_type": "markdown",
      "metadata": {
        "id": "l8egWs4JOfe-",
        "colab_type": "text"
      },
      "source": [
        "the data more or less balanced"
      ]
    },
    {
      "cell_type": "code",
      "metadata": {
        "id": "hkjuPtSGOfe_",
        "colab_type": "code",
        "outputId": "46ea640d-3c2a-4ef7-e17c-04dfe35d2e68",
        "colab": {
          "base_uri": "https://localhost:8080/",
          "height": 119
        }
      },
      "source": [
        "print(np.unique(y_train,return_counts=True))\n",
        "print(np.unique(y_val,return_counts=True))\n",
        "print(np.unique(y_test,return_counts=True))\n",
        "print(X_train.shape)\n",
        "print(X_val.shape)\n",
        "print(X_test.shape)"
      ],
      "execution_count": 0,
      "outputs": [
        {
          "output_type": "stream",
          "text": [
            "(array([0, 1]), array([4994, 5006]))\n",
            "(array([0, 1]), array([4965, 5035]))\n",
            "(array([0, 1]), array([2507, 2493]))\n",
            "(10000,)\n",
            "(10000,)\n",
            "(5000,)\n"
          ],
          "name": "stdout"
        }
      ]
    },
    {
      "cell_type": "markdown",
      "metadata": {
        "id": "sLT32ZjeOffF",
        "colab_type": "text"
      },
      "source": [
        "bag of words for the first five reviews (very sparse representation), 5000 observations, with 6000 features\n"
      ]
    },
    {
      "cell_type": "code",
      "metadata": {
        "id": "t_nrYqisOffH",
        "colab_type": "code",
        "outputId": "c991f1af-4f86-41d8-ce4e-5a7ed6e3af29",
        "colab": {
          "base_uri": "https://localhost:8080/",
          "height": 139
        }
      },
      "source": [
        "print(X_train[0:5])\n",
        "print(X_train.shape)"
      ],
      "execution_count": 0,
      "outputs": [
        {
          "output_type": "stream",
          "text": [
            "['This is not a new film. It is a re-cut of 1994\\'s \"Emmanuelle, Queen of the Galaxy\", and it has been significantly truncated. Warning: Many characters appear in the credits that have been cut from the movie!<br /><br />If you want to see this one in its original form, pick up \"Queen\" - avoid this one at all costs, as the cuts make it even choppier than it was originally.'\n",
            " 'I can only guess that this movie was an experiment that misfired. Years earlier, it would have been moving images accompanied by music. Later, it would have been sound added to silents. Eventually it would have been Technicolor, Cinemascope or Imax. This movie must have been a misguided attempt to introduce a new element to the talking picture. During all the emotional scenes, the character stops in mid dialogue and their inner thoughts are narrated while they gaze off into the distance or appeal to the camera. This interruption is painful at it\\'s very least. Imagine these top tier actors trying to look busy while the narration drones on. Painful. I have no idea who came up with this gimmick, but it was the only time I ever saw it used - and for good reason. In every scene the actors were forced to roll their eyes, wring their hands, or overact to such a degree, I actually wondered if this was really a comedy. <br /><br />The story is a hopeless soap opera that takes place over a couple of generations. Norma Shearer, disappointed in love, searches for a reason to live. She has a friend, played by Ralph Morgan, who worships her - but she takes him for granted. She is attracted to a doctor, played by Clark Gable, but he is self absorbed and isn\\'t interested in her. She settles for a weakling that needs her desperately. She marries him only to find that there is insanity in his family and she can never have a child with him. Along comes the doctor who selfishly pops a bun in her oven, only to find out later that he loves her after all. The child builds confidence in her husband who becomes a success, but she realizes that it\\'s really Clark she loves after all. Confused yet? Forget the rest, just watch a couple of episodes of \"As the World Turns\" and it\\'ll all become clear.<br /><br />If your are ever forced to watch this movie, hold out for the final scene. The gyrations of the actors put Harold LLoyd to shame. It is not to be missed.'\n",
            " 'I have loved the book \"A Little Princess\" for most of my life, and was very excited that there was a movie. But I was appalled at this adaptation. Not only is the acting wooden, and the plot a convoluted mish mash of various incidents in the book, but the theme is all wrong. The real theme of the story should be that a girl can be a princess only when she behaves like one, as Sara does when she gives 5 of her 6 buns to a beggar child, even when she herself is very hungry. The theme of the movie seems to be that all girls are princesses, which cheapens Sara\\'s actions considerably, and seems more like it should be written on a Hallmark card than applied to this story.<br /><br />There are many other things wrong with this movie- too many to list, but here are just a few of the larger ones: This story should be set in Britian in the mid 1800s, not America during the first world war. Miss Minchen is harsh to Sara from the start, making her actions when Sara is left penniless much less startling than they would be if she was syrupy sweet at the beginning, as she is supposed to be. Nowhere is it mentioned that Becky is black. Sara\\'s father does *not* come back, he is dead. It is his closest friend, and collaborator in the diamond mines who finds Sara, and restores her to her proper place. In fact, the diamond mines are not even mentioned at all, though they are the source of Sara\\'s wealth.<br /><br />All through everything that Sara has faced, she always acts like a Princess, giving what she can, and forgiving those who hurt her. She would never have called Lavinia a \"snotty two faced bully\". Such a thing is completely out of character for her, and undermines the entire philosophy that she is to be well behaved no matter what.<br /><br />This is by far the worst adaptation of a book to the screen that I have ever seen (with the notable exceptions of \"Ella Enchanted\", and \"Anne of Green Gables the Continuing Story\")The plot of the book is wonderful, and skillfully written, so I do not understand why the director felt that it needed to be changed to make it interesting. I would suggest that anyone wishing to know this story should watch the 1987 version, which is far superior. Or better still, read the book. It will be more worth your time than the hour and a half wasted on this version on the movie.'\n",
            " 'I was dreading taking my nephews to this movie, as I didn\\'t think it was going to be well done. The kids, ages 6 and 10 were set on seeing it, so I caved. I must admit that it was not nearly as bad as I had thought, but was still a far cry from the book. The movie seemed right on with the 10 year old\\'s understanding and sense of humor. I found that the 6 year old understood what was going on and he was presenting solutions to the issues that were taking place. I eventually had to explain that sometimes the movies don\\'t show the best solutions to the problems because it is more fun to watch what happens if they make the \"silly\" or \"stupid\" choices.'\n",
            " '<br /><br />\"Burning Paradise\" is a combination of neo-Shaw Brothers action and Ringo Lam\\'s urban cynicism. When one watches the film, they might feel the fight scenes are only mediocre in nature but that doesn\\'t matter, it\\'s attitude and atmosphere that counts. This great film has both!! Always trying to be different than his contemporaries, Lam gives us to traditional heroes(Fong Sai-Yuk and Hung Shi-Kwan)and puts them in a \"Raiders of the Lost Ark\" setting. However, these are not the light-hearted comedic incarnations that you might see in a Jet Li movie. Instead these guys fight to the death with brutal results. What makes the film even better is that anyone could die at anytime, there is no holding back. Too bad, they don\\'t make films like this more often.']\n",
            "(10000,)\n"
          ],
          "name": "stdout"
        }
      ]
    },
    {
      "cell_type": "markdown",
      "metadata": {
        "id": "OySVMPm_OffM",
        "colab_type": "text"
      },
      "source": [
        "let's train a radomforest on the bag of words features of the train set"
      ]
    },
    {
      "cell_type": "code",
      "metadata": {
        "id": "zqBynwKWOffQ",
        "colab_type": "code",
        "outputId": "e1181867-a20b-40b3-b97f-7a55a579ffee",
        "colab": {
          "base_uri": "https://localhost:8080/",
          "height": 136
        }
      },
      "source": [
        "from sklearn.ensemble import RandomForestClassifier\n",
        "classifier = RandomForestClassifier(n_estimators=300, random_state=36)  \n",
        "classifier.fit(X_train, y_train)"
      ],
      "execution_count": 0,
      "outputs": [
        {
          "output_type": "execute_result",
          "data": {
            "text/plain": [
              "RandomForestClassifier(bootstrap=True, class_weight=None, criterion='gini',\n",
              "                       max_depth=None, max_features='auto', max_leaf_nodes=None,\n",
              "                       min_impurity_decrease=0.0, min_impurity_split=None,\n",
              "                       min_samples_leaf=1, min_samples_split=2,\n",
              "                       min_weight_fraction_leaf=0.0, n_estimators=300,\n",
              "                       n_jobs=None, oob_score=False, random_state=36, verbose=0,\n",
              "                       warm_start=False)"
            ]
          },
          "metadata": {
            "tags": []
          },
          "execution_count": 24
        }
      ]
    },
    {
      "cell_type": "markdown",
      "metadata": {
        "id": "odquYZ9rOffY",
        "colab_type": "text"
      },
      "source": [
        "prediction on the test set with the accuracy and the confusion matrix"
      ]
    },
    {
      "cell_type": "code",
      "metadata": {
        "id": "bp5ZBTfpOffZ",
        "colab_type": "code",
        "outputId": "98d88d31-59f8-480c-c054-719fd26d4ff3",
        "colab": {
          "base_uri": "https://localhost:8080/",
          "height": 102
        }
      },
      "source": [
        "y_pred = classifier.predict(X_test)  \n",
        "print(pd.crosstab(y_test, y_pred,rownames=['true'], colnames=['pred']))\n",
        "print(\"Acc = \",np.sum(y_test==y_pred)/len(y_test))"
      ],
      "execution_count": 0,
      "outputs": [
        {
          "output_type": "stream",
          "text": [
            "pred     0     1\n",
            "true            \n",
            "0     2084   423\n",
            "1      389  2104\n",
            "Acc =  0.8376\n"
          ],
          "name": "stdout"
        }
      ]
    },
    {
      "cell_type": "markdown",
      "metadata": {
        "id": "DSu20wPwOffe",
        "colab_type": "text"
      },
      "source": [
        "## Neural network with wordembedding"
      ]
    },
    {
      "cell_type": "code",
      "metadata": {
        "id": "3HMe0a0GOffg",
        "colab_type": "code",
        "colab": {}
      },
      "source": [
        "X_train = documents[0:10000]\n",
        "y_train = y[0:10000]\n",
        "X_val = documents[10000:20000]\n",
        "y_val = y[10000:20000]\n",
        "X_test = documents[20000:25000]\n",
        "y_test = y[20000:25000]"
      ],
      "execution_count": 0,
      "outputs": []
    },
    {
      "cell_type": "code",
      "metadata": {
        "id": "7sEMGLVWOffj",
        "colab_type": "code",
        "outputId": "a78de99c-553f-4eaa-a18f-2e196aa7b041",
        "colab": {
          "base_uri": "https://localhost:8080/",
          "height": 54
        }
      },
      "source": [
        "X_train[0]"
      ],
      "execution_count": 0,
      "outputs": [
        {
          "output_type": "execute_result",
          "data": {
            "text/plain": [
              "'this is not new film it is re cut of 1994 emmanuelle queen of the galaxy and it has been significantly truncated warning many characters appear in the credits that have been cut from the movie if you want to see this one in its original form pick up queen avoid this one at all costs as the cuts make it even choppier than it was originally '"
            ]
          },
          "metadata": {
            "tags": []
          },
          "execution_count": 12
        }
      ]
    },
    {
      "cell_type": "markdown",
      "metadata": {
        "id": "dXv7H2cgOffm",
        "colab_type": "text"
      },
      "source": [
        "In the next cell we tokenize all unique words in the reviews and transform them into a sequence of the corresponding integer number of the token that belongs to the word. For example we cound transform \"the\" into the number 7. Then we take the length of the longest review and we zeropad all other reviews to that length of the longest review, so all reviews have the same length. "
      ]
    },
    {
      "cell_type": "code",
      "metadata": {
        "id": "G35l_6qjOffo",
        "colab_type": "code",
        "outputId": "77dc0d36-e088-4a51-9369-86db8566c28b",
        "colab": {
          "base_uri": "https://localhost:8080/",
          "height": 68
        }
      },
      "source": [
        "from keras.preprocessing.text import Tokenizer\n",
        "from keras.preprocessing.sequence import pad_sequences\n",
        "\n",
        "# fit tokenizer on all reviews\n",
        "total_reviews = documents\n",
        "tokenizer = Tokenizer()\n",
        "tokenizer.fit_on_texts(total_reviews) \n",
        "\n",
        "\n",
        "# transform tokens to a sequence of integers\n",
        "X_train_tokens =  tokenizer.texts_to_sequences(X_train)\n",
        "X_val_tokens = tokenizer.texts_to_sequences(X_val)\n",
        "X_test_tokens = tokenizer.texts_to_sequences(X_test)\n",
        "\n",
        "# max length of all reviews\n",
        "max_length = max([len(s.split()) for s in total_reviews])\n",
        "print(\"longest review:\",max_length,\"words\")\n",
        "\n",
        "# define vocabulary size (unique words in all reviews)\n",
        "vocab_size = len(tokenizer.word_index) + 1\n",
        "print(\"number of unique words/tokens:\",vocab_size)\n",
        "\n",
        "\n",
        "# zeropad the sequences to have the \"same\" length \n",
        "X_train_pad = pad_sequences(X_train_tokens, maxlen=max_length, padding='post')\n",
        "X_val_pad = pad_sequences(X_val_tokens, maxlen=max_length, padding='post')\n",
        "X_test_pad = pad_sequences(X_test_tokens, maxlen=max_length, padding='post')"
      ],
      "execution_count": 0,
      "outputs": [
        {
          "output_type": "stream",
          "text": [
            "Using TensorFlow backend.\n"
          ],
          "name": "stderr"
        },
        {
          "output_type": "stream",
          "text": [
            "longest review: 2381 words\n",
            "number of unique words/tokens: 76912\n"
          ],
          "name": "stdout"
        }
      ]
    },
    {
      "cell_type": "markdown",
      "metadata": {
        "id": "ib7farhIOffv",
        "colab_type": "text"
      },
      "source": [
        "this is how our input for the neural network will look like, just a sequence of integer numbers"
      ]
    },
    {
      "cell_type": "code",
      "metadata": {
        "id": "H9CRiTztOffw",
        "colab_type": "code",
        "outputId": "a5c46294-ab30-4444-93f1-433a3a84c690",
        "colab": {
          "base_uri": "https://localhost:8080/",
          "height": 34
        }
      },
      "source": [
        "X_train_pad[0]"
      ],
      "execution_count": 0,
      "outputs": [
        {
          "output_type": "execute_result",
          "data": {
            "text/plain": [
              "array([ 8,  5, 19, ...,  0,  0,  0], dtype=int32)"
            ]
          },
          "metadata": {
            "tags": []
          },
          "execution_count": 14
        }
      ]
    },
    {
      "cell_type": "markdown",
      "metadata": {
        "id": "qPiIV1SMOff2",
        "colab_type": "text"
      },
      "source": [
        "all unique tokens with the corresponding number"
      ]
    },
    {
      "cell_type": "code",
      "metadata": {
        "id": "3fskOK_MOff3",
        "colab_type": "code",
        "colab": {}
      },
      "source": [
        "#print(tokenizer.word_index)"
      ],
      "execution_count": 0,
      "outputs": []
    },
    {
      "cell_type": "markdown",
      "metadata": {
        "id": "qx-QPpLjOff7",
        "colab_type": "text"
      },
      "source": [
        "definition of the network with an embedding layer in the input that maps the numbers (words) into vectors of the same size.\n",
        "architecture inspired by: https://www.tensorflow.org/tutorials/keras/basic_text_classification\n"
      ]
    },
    {
      "cell_type": "code",
      "metadata": {
        "id": "pCNxC8sZOff8",
        "colab_type": "code",
        "outputId": "c35c90ae-1613-41c2-fe26-04b49759d5e2",
        "colab": {
          "base_uri": "https://localhost:8080/",
          "height": 272
        }
      },
      "source": [
        "from keras.models import Sequential\n",
        "from keras.layers import Dense, Embedding,GlobalAveragePooling1D,Dropout\n",
        "\n",
        "EMBEDDING_DIM = 30\n",
        "\n",
        "model = Sequential()\n",
        "model.add(Embedding(vocab_size, EMBEDDING_DIM, input_length=(None)))\n",
        "model.add(GlobalAveragePooling1D())\n",
        "#model.add(Dropout(0.5))\n",
        "model.add(Dense(20, activation='relu'))\n",
        "#model.add(Dropout(0.5))\n",
        "model.add(Dense(1, activation='sigmoid'))\n",
        "model.compile(loss='binary_crossentropy', optimizer='adam', metrics=['accuracy'])\n",
        "\n",
        "model.summary()"
      ],
      "execution_count": 0,
      "outputs": [
        {
          "output_type": "stream",
          "text": [
            "_________________________________________________________________\n",
            "Layer (type)                 Output Shape              Param #   \n",
            "=================================================================\n",
            "embedding_4 (Embedding)      (None, None, 30)          2307360   \n",
            "_________________________________________________________________\n",
            "global_average_pooling1d_4 ( (None, 30)                0         \n",
            "_________________________________________________________________\n",
            "dense_7 (Dense)              (None, 20)                620       \n",
            "_________________________________________________________________\n",
            "dense_8 (Dense)              (None, 1)                 21        \n",
            "=================================================================\n",
            "Total params: 2,308,001\n",
            "Trainable params: 2,308,001\n",
            "Non-trainable params: 0\n",
            "_________________________________________________________________\n"
          ],
          "name": "stdout"
        }
      ]
    },
    {
      "cell_type": "code",
      "metadata": {
        "id": "Z1WITi5IOfgA",
        "colab_type": "code",
        "outputId": "f255fc14-6d8b-4d0c-cc67-5586f297b33b",
        "colab": {
          "base_uri": "https://localhost:8080/",
          "height": 2754
        }
      },
      "source": [
        "history_no_dropout=model.fit(X_train_pad, y_train, batch_size=64, epochs=80, validation_data=(X_val_pad, y_val), verbose=1)"
      ],
      "execution_count": 0,
      "outputs": [
        {
          "output_type": "stream",
          "text": [
            "Train on 10000 samples, validate on 10000 samples\n",
            "Epoch 1/80\n",
            "10000/10000 [==============================] - 2s 184us/step - loss: 0.6929 - acc: 0.5013 - val_loss: 0.6920 - val_acc: 0.4984\n",
            "Epoch 2/80\n",
            "10000/10000 [==============================] - 1s 136us/step - loss: 0.6897 - acc: 0.5467 - val_loss: 0.6874 - val_acc: 0.5095\n",
            "Epoch 3/80\n",
            "10000/10000 [==============================] - 1s 136us/step - loss: 0.6777 - acc: 0.6062 - val_loss: 0.6654 - val_acc: 0.6290\n",
            "Epoch 4/80\n",
            "10000/10000 [==============================] - 1s 135us/step - loss: 0.6255 - acc: 0.7253 - val_loss: 0.5934 - val_acc: 0.6984\n",
            "Epoch 5/80\n",
            "10000/10000 [==============================] - 1s 133us/step - loss: 0.5236 - acc: 0.8018 - val_loss: 0.4987 - val_acc: 0.8082\n",
            "Epoch 6/80\n",
            "10000/10000 [==============================] - 1s 135us/step - loss: 0.4299 - acc: 0.8522 - val_loss: 0.4330 - val_acc: 0.8403\n",
            "Epoch 7/80\n",
            "10000/10000 [==============================] - 1s 134us/step - loss: 0.3627 - acc: 0.8722 - val_loss: 0.3862 - val_acc: 0.8544\n",
            "Epoch 8/80\n",
            "10000/10000 [==============================] - 1s 133us/step - loss: 0.3121 - acc: 0.8929 - val_loss: 0.3544 - val_acc: 0.8652\n",
            "Epoch 9/80\n",
            "10000/10000 [==============================] - 1s 135us/step - loss: 0.2682 - acc: 0.9115 - val_loss: 0.3350 - val_acc: 0.8686\n",
            "Epoch 10/80\n",
            "10000/10000 [==============================] - 1s 136us/step - loss: 0.2369 - acc: 0.9220 - val_loss: 0.3157 - val_acc: 0.8785\n",
            "Epoch 11/80\n",
            "10000/10000 [==============================] - 1s 135us/step - loss: 0.2112 - acc: 0.9317 - val_loss: 0.3161 - val_acc: 0.8722\n",
            "Epoch 12/80\n",
            "10000/10000 [==============================] - 1s 134us/step - loss: 0.1922 - acc: 0.9382 - val_loss: 0.3032 - val_acc: 0.8794\n",
            "Epoch 13/80\n",
            "10000/10000 [==============================] - 1s 137us/step - loss: 0.1713 - acc: 0.9459 - val_loss: 0.2916 - val_acc: 0.8850\n",
            "Epoch 14/80\n",
            "10000/10000 [==============================] - 1s 135us/step - loss: 0.1551 - acc: 0.9496 - val_loss: 0.2930 - val_acc: 0.8838\n",
            "Epoch 15/80\n",
            "10000/10000 [==============================] - 1s 135us/step - loss: 0.1404 - acc: 0.9558 - val_loss: 0.2886 - val_acc: 0.8860\n",
            "Epoch 16/80\n",
            "10000/10000 [==============================] - 1s 135us/step - loss: 0.1271 - acc: 0.9615 - val_loss: 0.2904 - val_acc: 0.8849\n",
            "Epoch 17/80\n",
            "10000/10000 [==============================] - 1s 136us/step - loss: 0.1168 - acc: 0.9631 - val_loss: 0.2863 - val_acc: 0.8873\n",
            "Epoch 18/80\n",
            "10000/10000 [==============================] - 1s 136us/step - loss: 0.1071 - acc: 0.9693 - val_loss: 0.2968 - val_acc: 0.8846\n",
            "Epoch 19/80\n",
            "10000/10000 [==============================] - 1s 137us/step - loss: 0.0950 - acc: 0.9723 - val_loss: 0.2865 - val_acc: 0.8885\n",
            "Epoch 20/80\n",
            "10000/10000 [==============================] - 1s 133us/step - loss: 0.0862 - acc: 0.9756 - val_loss: 0.2890 - val_acc: 0.8882\n",
            "Epoch 21/80\n",
            "10000/10000 [==============================] - 1s 134us/step - loss: 0.0792 - acc: 0.9787 - val_loss: 0.2904 - val_acc: 0.8877\n",
            "Epoch 22/80\n",
            "10000/10000 [==============================] - 1s 133us/step - loss: 0.0722 - acc: 0.9822 - val_loss: 0.2932 - val_acc: 0.8897\n",
            "Epoch 23/80\n",
            "10000/10000 [==============================] - 1s 134us/step - loss: 0.0665 - acc: 0.9829 - val_loss: 0.3168 - val_acc: 0.8827\n",
            "Epoch 24/80\n",
            "10000/10000 [==============================] - 1s 135us/step - loss: 0.0637 - acc: 0.9827 - val_loss: 0.3023 - val_acc: 0.8881\n",
            "Epoch 25/80\n",
            "10000/10000 [==============================] - 1s 133us/step - loss: 0.0524 - acc: 0.9891 - val_loss: 0.3018 - val_acc: 0.8885\n",
            "Epoch 26/80\n",
            "10000/10000 [==============================] - 1s 133us/step - loss: 0.0472 - acc: 0.9891 - val_loss: 0.3203 - val_acc: 0.8858\n",
            "Epoch 27/80\n",
            "10000/10000 [==============================] - 1s 135us/step - loss: 0.0429 - acc: 0.9915 - val_loss: 0.3103 - val_acc: 0.8894\n",
            "Epoch 28/80\n",
            "10000/10000 [==============================] - 1s 136us/step - loss: 0.0398 - acc: 0.9917 - val_loss: 0.3222 - val_acc: 0.8869\n",
            "Epoch 29/80\n",
            "10000/10000 [==============================] - 1s 138us/step - loss: 0.0362 - acc: 0.9930 - val_loss: 0.3302 - val_acc: 0.8874\n",
            "Epoch 30/80\n",
            "10000/10000 [==============================] - 1s 136us/step - loss: 0.0337 - acc: 0.9933 - val_loss: 0.3298 - val_acc: 0.8884\n",
            "Epoch 31/80\n",
            "10000/10000 [==============================] - 1s 135us/step - loss: 0.0286 - acc: 0.9953 - val_loss: 0.3330 - val_acc: 0.8880\n",
            "Epoch 32/80\n",
            "10000/10000 [==============================] - 1s 136us/step - loss: 0.0280 - acc: 0.9953 - val_loss: 0.3391 - val_acc: 0.8878\n",
            "Epoch 33/80\n",
            "10000/10000 [==============================] - 1s 136us/step - loss: 0.0235 - acc: 0.9965 - val_loss: 0.3411 - val_acc: 0.8880\n",
            "Epoch 34/80\n",
            "10000/10000 [==============================] - 1s 136us/step - loss: 0.0217 - acc: 0.9970 - val_loss: 0.3484 - val_acc: 0.8880\n",
            "Epoch 35/80\n",
            "10000/10000 [==============================] - 1s 136us/step - loss: 0.0189 - acc: 0.9981 - val_loss: 0.3540 - val_acc: 0.8886\n",
            "Epoch 36/80\n",
            "10000/10000 [==============================] - 1s 136us/step - loss: 0.0180 - acc: 0.9981 - val_loss: 0.3594 - val_acc: 0.8892\n",
            "Epoch 37/80\n",
            "10000/10000 [==============================] - 1s 134us/step - loss: 0.0165 - acc: 0.9981 - val_loss: 0.3682 - val_acc: 0.8869\n",
            "Epoch 38/80\n",
            "10000/10000 [==============================] - 1s 133us/step - loss: 0.0158 - acc: 0.9975 - val_loss: 0.3710 - val_acc: 0.8884\n",
            "Epoch 39/80\n",
            "10000/10000 [==============================] - 1s 134us/step - loss: 0.0143 - acc: 0.9979 - val_loss: 0.3938 - val_acc: 0.8820\n",
            "Epoch 40/80\n",
            "10000/10000 [==============================] - 1s 137us/step - loss: 0.0117 - acc: 0.9988 - val_loss: 0.4031 - val_acc: 0.8819\n",
            "Epoch 41/80\n",
            "10000/10000 [==============================] - 1s 134us/step - loss: 0.0115 - acc: 0.9988 - val_loss: 0.4459 - val_acc: 0.8722\n",
            "Epoch 42/80\n",
            "10000/10000 [==============================] - 1s 134us/step - loss: 0.0102 - acc: 0.9989 - val_loss: 0.3958 - val_acc: 0.8882\n",
            "Epoch 43/80\n",
            "10000/10000 [==============================] - 1s 136us/step - loss: 0.0096 - acc: 0.9991 - val_loss: 0.4035 - val_acc: 0.8859\n",
            "Epoch 44/80\n",
            "10000/10000 [==============================] - 1s 134us/step - loss: 0.0077 - acc: 0.9994 - val_loss: 0.4105 - val_acc: 0.8858\n",
            "Epoch 45/80\n",
            "10000/10000 [==============================] - 1s 135us/step - loss: 0.0070 - acc: 0.9997 - val_loss: 0.4200 - val_acc: 0.8853\n",
            "Epoch 46/80\n",
            "10000/10000 [==============================] - 1s 134us/step - loss: 0.0064 - acc: 0.9995 - val_loss: 0.4262 - val_acc: 0.8855\n",
            "Epoch 47/80\n",
            "10000/10000 [==============================] - 1s 134us/step - loss: 0.0063 - acc: 0.9997 - val_loss: 0.4287 - val_acc: 0.8864\n",
            "Epoch 48/80\n",
            "10000/10000 [==============================] - 1s 135us/step - loss: 0.0055 - acc: 0.9999 - val_loss: 0.4493 - val_acc: 0.8810\n",
            "Epoch 49/80\n",
            "10000/10000 [==============================] - 1s 129us/step - loss: 0.0045 - acc: 0.9999 - val_loss: 0.4441 - val_acc: 0.8851\n",
            "Epoch 50/80\n",
            "10000/10000 [==============================] - 1s 123us/step - loss: 0.0044 - acc: 0.9998 - val_loss: 0.4472 - val_acc: 0.8858\n",
            "Epoch 51/80\n",
            "10000/10000 [==============================] - 1s 127us/step - loss: 0.0043 - acc: 0.9999 - val_loss: 0.4559 - val_acc: 0.8854\n",
            "Epoch 52/80\n",
            "10000/10000 [==============================] - 1s 137us/step - loss: 0.0039 - acc: 0.9999 - val_loss: 0.4613 - val_acc: 0.8849\n",
            "Epoch 53/80\n",
            "10000/10000 [==============================] - 1s 133us/step - loss: 0.0031 - acc: 1.0000 - val_loss: 0.4683 - val_acc: 0.8847\n",
            "Epoch 54/80\n",
            "10000/10000 [==============================] - 1s 134us/step - loss: 0.0028 - acc: 1.0000 - val_loss: 0.4926 - val_acc: 0.8793\n",
            "Epoch 55/80\n",
            "10000/10000 [==============================] - 1s 133us/step - loss: 0.0028 - acc: 1.0000 - val_loss: 0.4848 - val_acc: 0.8841\n",
            "Epoch 56/80\n",
            "10000/10000 [==============================] - 1s 129us/step - loss: 0.0022 - acc: 1.0000 - val_loss: 0.4870 - val_acc: 0.8845\n",
            "Epoch 57/80\n",
            "10000/10000 [==============================] - 1s 124us/step - loss: 0.0023 - acc: 1.0000 - val_loss: 0.4972 - val_acc: 0.8832\n",
            "Epoch 58/80\n",
            "10000/10000 [==============================] - 1s 123us/step - loss: 0.0018 - acc: 1.0000 - val_loss: 0.4993 - val_acc: 0.8849\n",
            "Epoch 59/80\n",
            "10000/10000 [==============================] - 1s 124us/step - loss: 0.0023 - acc: 1.0000 - val_loss: 0.5081 - val_acc: 0.8838\n",
            "Epoch 60/80\n",
            "10000/10000 [==============================] - 1s 125us/step - loss: 0.0017 - acc: 1.0000 - val_loss: 0.5129 - val_acc: 0.8846\n",
            "Epoch 61/80\n",
            "10000/10000 [==============================] - 1s 123us/step - loss: 0.0015 - acc: 1.0000 - val_loss: 0.5203 - val_acc: 0.8836\n",
            "Epoch 62/80\n",
            "10000/10000 [==============================] - 1s 128us/step - loss: 0.0013 - acc: 1.0000 - val_loss: 0.5263 - val_acc: 0.8826\n",
            "Epoch 63/80\n",
            "10000/10000 [==============================] - 1s 128us/step - loss: 0.0012 - acc: 1.0000 - val_loss: 0.5314 - val_acc: 0.8839\n",
            "Epoch 64/80\n",
            "10000/10000 [==============================] - 1s 129us/step - loss: 0.0011 - acc: 1.0000 - val_loss: 0.5374 - val_acc: 0.8831\n",
            "Epoch 65/80\n",
            "10000/10000 [==============================] - 1s 127us/step - loss: 0.0017 - acc: 1.0000 - val_loss: 0.5781 - val_acc: 0.8771\n",
            "Epoch 66/80\n",
            "10000/10000 [==============================] - 1s 127us/step - loss: 9.6656e-04 - acc: 1.0000 - val_loss: 0.5516 - val_acc: 0.8821\n",
            "Epoch 67/80\n",
            "10000/10000 [==============================] - 1s 127us/step - loss: 8.9379e-04 - acc: 1.0000 - val_loss: 0.6097 - val_acc: 0.8736\n",
            "Epoch 68/80\n",
            "10000/10000 [==============================] - 1s 128us/step - loss: 7.8550e-04 - acc: 1.0000 - val_loss: 0.5897 - val_acc: 0.8762\n",
            "Epoch 69/80\n",
            "10000/10000 [==============================] - 1s 128us/step - loss: 7.6550e-04 - acc: 1.0000 - val_loss: 0.5709 - val_acc: 0.8824\n",
            "Epoch 70/80\n",
            "10000/10000 [==============================] - 1s 125us/step - loss: 6.1345e-04 - acc: 1.0000 - val_loss: 0.5819 - val_acc: 0.8815\n",
            "Epoch 71/80\n",
            "10000/10000 [==============================] - 1s 124us/step - loss: 5.6811e-04 - acc: 1.0000 - val_loss: 0.5803 - val_acc: 0.8821\n",
            "Epoch 72/80\n",
            "10000/10000 [==============================] - 1s 123us/step - loss: 5.8162e-04 - acc: 1.0000 - val_loss: 0.5866 - val_acc: 0.8812\n",
            "Epoch 73/80\n",
            "10000/10000 [==============================] - 1s 124us/step - loss: 4.4241e-04 - acc: 1.0000 - val_loss: 0.5959 - val_acc: 0.8814\n",
            "Epoch 74/80\n",
            "10000/10000 [==============================] - 1s 122us/step - loss: 4.6934e-04 - acc: 1.0000 - val_loss: 0.6154 - val_acc: 0.8772\n",
            "Epoch 75/80\n",
            "10000/10000 [==============================] - 1s 123us/step - loss: 4.4939e-04 - acc: 1.0000 - val_loss: 0.6048 - val_acc: 0.8812\n",
            "Epoch 76/80\n",
            "10000/10000 [==============================] - 1s 124us/step - loss: 3.5033e-04 - acc: 1.0000 - val_loss: 0.6104 - val_acc: 0.8808\n",
            "Epoch 77/80\n",
            "10000/10000 [==============================] - 1s 122us/step - loss: 3.3533e-04 - acc: 1.0000 - val_loss: 0.6151 - val_acc: 0.8813\n",
            "Epoch 78/80\n",
            "10000/10000 [==============================] - 1s 125us/step - loss: 3.1884e-04 - acc: 1.0000 - val_loss: 0.6293 - val_acc: 0.8798\n",
            "Epoch 79/80\n",
            "10000/10000 [==============================] - 1s 123us/step - loss: 3.1350e-04 - acc: 1.0000 - val_loss: 0.6269 - val_acc: 0.8813\n",
            "Epoch 80/80\n",
            "10000/10000 [==============================] - 1s 122us/step - loss: 2.8047e-04 - acc: 1.0000 - val_loss: 0.6442 - val_acc: 0.8795\n"
          ],
          "name": "stdout"
        }
      ]
    },
    {
      "cell_type": "code",
      "metadata": {
        "id": "Uj50I40pr8yK",
        "colab_type": "code",
        "outputId": "3cec6acd-e9fb-4964-c8cd-401d13ea2220",
        "colab": {
          "base_uri": "https://localhost:8080/",
          "height": 340
        }
      },
      "source": [
        "from keras.models import Sequential\n",
        "from keras.layers import Dense, Embedding,GlobalAveragePooling1D,Dropout\n",
        "\n",
        "EMBEDDING_DIM = 30\n",
        "\n",
        "model = Sequential()\n",
        "model.add(Embedding(vocab_size, EMBEDDING_DIM, input_length=(None)))\n",
        "model.add(GlobalMaxPooling1D())\n",
        "model.add(GlobalAv\n",
        "())\n",
        "model.add(Dropout(0.5))\n",
        "model.add(Dense(20, activation='relu'))\n",
        "model.add(Dropout(0.5))\n",
        "model.add(Dense(1, activation='sigmoid'))\n",
        "model.compile(loss='binary_crossentropy', optimizer='adam', metrics=['accuracy'])\n",
        "\n",
        "model.summary()"
      ],
      "execution_count": 0,
      "outputs": [
        {
          "output_type": "stream",
          "text": [
            "_________________________________________________________________\n",
            "Layer (type)                 Output Shape              Param #   \n",
            "=================================================================\n",
            "embedding_16 (Embedding)     (None, None, 30)          2307360   \n",
            "_________________________________________________________________\n",
            "global_max_pooling1d_26 (Glo (None, 30)                0         \n",
            "_________________________________________________________________\n",
            "dropout_7 (Dropout)          (None, 30)                0         \n",
            "_________________________________________________________________\n",
            "dense_18 (Dense)             (None, 20)                620       \n",
            "_________________________________________________________________\n",
            "dropout_8 (Dropout)          (None, 20)                0         \n",
            "_________________________________________________________________\n",
            "dense_19 (Dense)             (None, 1)                 21        \n",
            "=================================================================\n",
            "Total params: 2,308,001\n",
            "Trainable params: 2,308,001\n",
            "Non-trainable params: 0\n",
            "_________________________________________________________________\n"
          ],
          "name": "stdout"
        }
      ]
    },
    {
      "cell_type": "code",
      "metadata": {
        "colab_type": "code",
        "outputId": "f446059d-756a-4e82-c7d4-7e0af7586be8",
        "id": "7eg2EjEqr_cY",
        "colab": {
          "base_uri": "https://localhost:8080/",
          "height": 2754
        }
      },
      "source": [
        "history_with_dropout=model.fit(X_train_pad, y_train, batch_size=64, epochs=80, validation_data=(X_val_pad, y_val), verbose=1)"
      ],
      "execution_count": 0,
      "outputs": [
        {
          "output_type": "stream",
          "text": [
            "Train on 10000 samples, validate on 10000 samples\n",
            "Epoch 1/80\n",
            "10000/10000 [==============================] - 3s 291us/step - loss: 0.6919 - acc: 0.5196 - val_loss: 0.6858 - val_acc: 0.7229\n",
            "Epoch 2/80\n",
            "10000/10000 [==============================] - 1s 140us/step - loss: 0.6764 - acc: 0.5771 - val_loss: 0.6391 - val_acc: 0.7824\n",
            "Epoch 3/80\n",
            "10000/10000 [==============================] - 1s 142us/step - loss: 0.6219 - acc: 0.6593 - val_loss: 0.5337 - val_acc: 0.8013\n",
            "Epoch 4/80\n",
            "10000/10000 [==============================] - 1s 143us/step - loss: 0.5543 - acc: 0.7265 - val_loss: 0.4627 - val_acc: 0.8139\n",
            "Epoch 5/80\n",
            "10000/10000 [==============================] - 1s 141us/step - loss: 0.5035 - acc: 0.7666 - val_loss: 0.4260 - val_acc: 0.8278\n",
            "Epoch 6/80\n",
            "10000/10000 [==============================] - 1s 139us/step - loss: 0.4703 - acc: 0.7956 - val_loss: 0.4034 - val_acc: 0.8373\n",
            "Epoch 7/80\n",
            "10000/10000 [==============================] - 1s 141us/step - loss: 0.4286 - acc: 0.8131 - val_loss: 0.3778 - val_acc: 0.8433\n",
            "Epoch 8/80\n",
            "10000/10000 [==============================] - 1s 141us/step - loss: 0.4110 - acc: 0.8313 - val_loss: 0.3709 - val_acc: 0.8477\n",
            "Epoch 9/80\n",
            "10000/10000 [==============================] - 1s 149us/step - loss: 0.3873 - acc: 0.8441 - val_loss: 0.3608 - val_acc: 0.8503\n",
            "Epoch 10/80\n",
            "10000/10000 [==============================] - 1s 146us/step - loss: 0.3640 - acc: 0.8518 - val_loss: 0.3552 - val_acc: 0.8505\n",
            "Epoch 11/80\n",
            "10000/10000 [==============================] - 1s 147us/step - loss: 0.3364 - acc: 0.8705 - val_loss: 0.3500 - val_acc: 0.8527\n",
            "Epoch 12/80\n",
            "10000/10000 [==============================] - 1s 142us/step - loss: 0.3074 - acc: 0.8812 - val_loss: 0.3498 - val_acc: 0.8485\n",
            "Epoch 13/80\n",
            "10000/10000 [==============================] - 1s 145us/step - loss: 0.2961 - acc: 0.8870 - val_loss: 0.3461 - val_acc: 0.8489\n",
            "Epoch 14/80\n",
            "10000/10000 [==============================] - 1s 144us/step - loss: 0.2751 - acc: 0.8978 - val_loss: 0.3441 - val_acc: 0.8505\n",
            "Epoch 15/80\n",
            "10000/10000 [==============================] - 1s 147us/step - loss: 0.2716 - acc: 0.8981 - val_loss: 0.3445 - val_acc: 0.8489\n",
            "Epoch 16/80\n",
            "10000/10000 [==============================] - 1s 141us/step - loss: 0.2447 - acc: 0.9113 - val_loss: 0.3443 - val_acc: 0.8509\n",
            "Epoch 17/80\n",
            "10000/10000 [==============================] - 1s 140us/step - loss: 0.2359 - acc: 0.9125 - val_loss: 0.3466 - val_acc: 0.8483\n",
            "Epoch 18/80\n",
            "10000/10000 [==============================] - 1s 144us/step - loss: 0.2209 - acc: 0.9175 - val_loss: 0.3483 - val_acc: 0.8469\n",
            "Epoch 19/80\n",
            "10000/10000 [==============================] - 1s 142us/step - loss: 0.2087 - acc: 0.9265 - val_loss: 0.3524 - val_acc: 0.8482\n",
            "Epoch 20/80\n",
            "10000/10000 [==============================] - 1s 144us/step - loss: 0.1973 - acc: 0.9291 - val_loss: 0.3539 - val_acc: 0.8457\n",
            "Epoch 21/80\n",
            "10000/10000 [==============================] - 1s 142us/step - loss: 0.1902 - acc: 0.9312 - val_loss: 0.3556 - val_acc: 0.8455\n",
            "Epoch 22/80\n",
            "10000/10000 [==============================] - 1s 140us/step - loss: 0.1855 - acc: 0.9322 - val_loss: 0.3584 - val_acc: 0.8442\n",
            "Epoch 23/80\n",
            "10000/10000 [==============================] - 1s 142us/step - loss: 0.1650 - acc: 0.9432 - val_loss: 0.3610 - val_acc: 0.8444\n",
            "Epoch 24/80\n",
            "10000/10000 [==============================] - 1s 139us/step - loss: 0.1683 - acc: 0.9418 - val_loss: 0.3691 - val_acc: 0.8403\n",
            "Epoch 25/80\n",
            "10000/10000 [==============================] - 1s 138us/step - loss: 0.1550 - acc: 0.9420 - val_loss: 0.3714 - val_acc: 0.8420\n",
            "Epoch 26/80\n",
            "10000/10000 [==============================] - 1s 143us/step - loss: 0.1477 - acc: 0.9485 - val_loss: 0.3772 - val_acc: 0.8401\n",
            "Epoch 27/80\n",
            "10000/10000 [==============================] - 1s 139us/step - loss: 0.1311 - acc: 0.9551 - val_loss: 0.3861 - val_acc: 0.8388\n",
            "Epoch 28/80\n",
            "10000/10000 [==============================] - 1s 142us/step - loss: 0.1314 - acc: 0.9541 - val_loss: 0.3904 - val_acc: 0.8369\n",
            "Epoch 29/80\n",
            "10000/10000 [==============================] - 1s 139us/step - loss: 0.1199 - acc: 0.9596 - val_loss: 0.4001 - val_acc: 0.8354\n",
            "Epoch 30/80\n",
            "10000/10000 [==============================] - 1s 139us/step - loss: 0.1169 - acc: 0.9589 - val_loss: 0.4031 - val_acc: 0.8342\n",
            "Epoch 31/80\n",
            "10000/10000 [==============================] - 1s 140us/step - loss: 0.1205 - acc: 0.9587 - val_loss: 0.4081 - val_acc: 0.8320\n",
            "Epoch 32/80\n",
            "10000/10000 [==============================] - 1s 139us/step - loss: 0.1120 - acc: 0.9617 - val_loss: 0.4079 - val_acc: 0.8323\n",
            "Epoch 33/80\n",
            "10000/10000 [==============================] - 1s 139us/step - loss: 0.1033 - acc: 0.9647 - val_loss: 0.4182 - val_acc: 0.8295\n",
            "Epoch 34/80\n",
            "10000/10000 [==============================] - 1s 142us/step - loss: 0.1067 - acc: 0.9649 - val_loss: 0.4241 - val_acc: 0.8276\n",
            "Epoch 35/80\n",
            "10000/10000 [==============================] - 1s 139us/step - loss: 0.1025 - acc: 0.9682 - val_loss: 0.4311 - val_acc: 0.8287\n",
            "Epoch 36/80\n",
            "10000/10000 [==============================] - 1s 139us/step - loss: 0.0954 - acc: 0.9688 - val_loss: 0.4367 - val_acc: 0.8260\n",
            "Epoch 37/80\n",
            "10000/10000 [==============================] - 1s 141us/step - loss: 0.0803 - acc: 0.9736 - val_loss: 0.4542 - val_acc: 0.8235\n",
            "Epoch 38/80\n",
            "10000/10000 [==============================] - 1s 138us/step - loss: 0.0793 - acc: 0.9739 - val_loss: 0.4605 - val_acc: 0.8220\n",
            "Epoch 39/80\n",
            "10000/10000 [==============================] - 1s 139us/step - loss: 0.0817 - acc: 0.9721 - val_loss: 0.4598 - val_acc: 0.8206\n",
            "Epoch 40/80\n",
            "10000/10000 [==============================] - 1s 140us/step - loss: 0.0840 - acc: 0.9725 - val_loss: 0.4675 - val_acc: 0.8190\n",
            "Epoch 41/80\n",
            "10000/10000 [==============================] - 1s 141us/step - loss: 0.0739 - acc: 0.9762 - val_loss: 0.4752 - val_acc: 0.8176\n",
            "Epoch 42/80\n",
            "10000/10000 [==============================] - 1s 139us/step - loss: 0.0708 - acc: 0.9764 - val_loss: 0.4876 - val_acc: 0.8160\n",
            "Epoch 43/80\n",
            "10000/10000 [==============================] - 1s 139us/step - loss: 0.0680 - acc: 0.9778 - val_loss: 0.5023 - val_acc: 0.8114\n",
            "Epoch 44/80\n",
            "10000/10000 [==============================] - 1s 139us/step - loss: 0.0631 - acc: 0.9803 - val_loss: 0.5066 - val_acc: 0.8134\n",
            "Epoch 45/80\n",
            "10000/10000 [==============================] - 1s 141us/step - loss: 0.0651 - acc: 0.9769 - val_loss: 0.5081 - val_acc: 0.8116\n",
            "Epoch 46/80\n",
            "10000/10000 [==============================] - 1s 139us/step - loss: 0.0559 - acc: 0.9824 - val_loss: 0.5236 - val_acc: 0.8110\n",
            "Epoch 47/80\n",
            "10000/10000 [==============================] - 1s 139us/step - loss: 0.0593 - acc: 0.9802 - val_loss: 0.5285 - val_acc: 0.8119\n",
            "Epoch 48/80\n",
            "10000/10000 [==============================] - 1s 141us/step - loss: 0.0559 - acc: 0.9823 - val_loss: 0.5365 - val_acc: 0.8115\n",
            "Epoch 49/80\n",
            "10000/10000 [==============================] - 1s 139us/step - loss: 0.0629 - acc: 0.9795 - val_loss: 0.5276 - val_acc: 0.8108\n",
            "Epoch 50/80\n",
            "10000/10000 [==============================] - 1s 139us/step - loss: 0.0564 - acc: 0.9819 - val_loss: 0.5383 - val_acc: 0.8075\n",
            "Epoch 51/80\n",
            "10000/10000 [==============================] - 1s 140us/step - loss: 0.0475 - acc: 0.9858 - val_loss: 0.5594 - val_acc: 0.8052\n",
            "Epoch 52/80\n",
            "10000/10000 [==============================] - 1s 139us/step - loss: 0.0447 - acc: 0.9841 - val_loss: 0.5710 - val_acc: 0.8046\n",
            "Epoch 53/80\n",
            "10000/10000 [==============================] - 1s 139us/step - loss: 0.0451 - acc: 0.9857 - val_loss: 0.5822 - val_acc: 0.8018\n",
            "Epoch 54/80\n",
            "10000/10000 [==============================] - 1s 139us/step - loss: 0.0473 - acc: 0.9846 - val_loss: 0.5701 - val_acc: 0.8031\n",
            "Epoch 55/80\n",
            "10000/10000 [==============================] - 1s 137us/step - loss: 0.0425 - acc: 0.9877 - val_loss: 0.6010 - val_acc: 0.7986\n",
            "Epoch 56/80\n",
            "10000/10000 [==============================] - 1s 140us/step - loss: 0.0392 - acc: 0.9874 - val_loss: 0.6144 - val_acc: 0.8021\n",
            "Epoch 57/80\n",
            "10000/10000 [==============================] - 1s 139us/step - loss: 0.0393 - acc: 0.9875 - val_loss: 0.6218 - val_acc: 0.7998\n",
            "Epoch 58/80\n",
            "10000/10000 [==============================] - 1s 138us/step - loss: 0.0406 - acc: 0.9849 - val_loss: 0.6283 - val_acc: 0.7953\n",
            "Epoch 59/80\n",
            "10000/10000 [==============================] - 1s 141us/step - loss: 0.0386 - acc: 0.9880 - val_loss: 0.6271 - val_acc: 0.7968\n",
            "Epoch 60/80\n",
            "10000/10000 [==============================] - 1s 138us/step - loss: 0.0333 - acc: 0.9893 - val_loss: 0.6505 - val_acc: 0.7932\n",
            "Epoch 61/80\n",
            "10000/10000 [==============================] - 1s 139us/step - loss: 0.0359 - acc: 0.9896 - val_loss: 0.6532 - val_acc: 0.7924\n",
            "Epoch 62/80\n",
            "10000/10000 [==============================] - 1s 140us/step - loss: 0.0351 - acc: 0.9897 - val_loss: 0.6518 - val_acc: 0.7941\n",
            "Epoch 63/80\n",
            "10000/10000 [==============================] - 1s 140us/step - loss: 0.0370 - acc: 0.9898 - val_loss: 0.6505 - val_acc: 0.7923\n",
            "Epoch 64/80\n",
            "10000/10000 [==============================] - 1s 140us/step - loss: 0.0284 - acc: 0.9921 - val_loss: 0.6759 - val_acc: 0.7923\n",
            "Epoch 65/80\n",
            "10000/10000 [==============================] - 1s 140us/step - loss: 0.0317 - acc: 0.9908 - val_loss: 0.6752 - val_acc: 0.7916\n",
            "Epoch 66/80\n",
            "10000/10000 [==============================] - 1s 140us/step - loss: 0.0274 - acc: 0.9911 - val_loss: 0.6977 - val_acc: 0.7898\n",
            "Epoch 67/80\n",
            "10000/10000 [==============================] - 1s 138us/step - loss: 0.0273 - acc: 0.9911 - val_loss: 0.6917 - val_acc: 0.7881\n",
            "Epoch 68/80\n",
            "10000/10000 [==============================] - 1s 139us/step - loss: 0.0271 - acc: 0.9928 - val_loss: 0.7117 - val_acc: 0.7853\n",
            "Epoch 69/80\n",
            "10000/10000 [==============================] - 1s 139us/step - loss: 0.0260 - acc: 0.9919 - val_loss: 0.7274 - val_acc: 0.7837\n",
            "Epoch 70/80\n",
            "10000/10000 [==============================] - 1s 141us/step - loss: 0.0294 - acc: 0.9914 - val_loss: 0.7142 - val_acc: 0.7840\n",
            "Epoch 71/80\n",
            "10000/10000 [==============================] - 1s 138us/step - loss: 0.0259 - acc: 0.9919 - val_loss: 0.7349 - val_acc: 0.7835\n",
            "Epoch 72/80\n",
            "10000/10000 [==============================] - 1s 139us/step - loss: 0.0253 - acc: 0.9919 - val_loss: 0.7520 - val_acc: 0.7833\n",
            "Epoch 73/80\n",
            "10000/10000 [==============================] - 1s 140us/step - loss: 0.0201 - acc: 0.9936 - val_loss: 0.7775 - val_acc: 0.7820\n",
            "Epoch 74/80\n",
            "10000/10000 [==============================] - 1s 140us/step - loss: 0.0270 - acc: 0.9922 - val_loss: 0.7598 - val_acc: 0.7814\n",
            "Epoch 75/80\n",
            "10000/10000 [==============================] - 1s 140us/step - loss: 0.0227 - acc: 0.9927 - val_loss: 0.7681 - val_acc: 0.7799\n",
            "Epoch 76/80\n",
            "10000/10000 [==============================] - 1s 141us/step - loss: 0.0248 - acc: 0.9924 - val_loss: 0.7745 - val_acc: 0.7754\n",
            "Epoch 77/80\n",
            "10000/10000 [==============================] - 1s 139us/step - loss: 0.0203 - acc: 0.9932 - val_loss: 0.7890 - val_acc: 0.7768\n",
            "Epoch 78/80\n",
            "10000/10000 [==============================] - 1s 140us/step - loss: 0.0238 - acc: 0.9937 - val_loss: 0.7859 - val_acc: 0.7799\n",
            "Epoch 79/80\n",
            "10000/10000 [==============================] - 1s 141us/step - loss: 0.0189 - acc: 0.9949 - val_loss: 0.8127 - val_acc: 0.7798\n",
            "Epoch 80/80\n",
            "10000/10000 [==============================] - 1s 139us/step - loss: 0.0222 - acc: 0.9943 - val_loss: 0.8092 - val_acc: 0.7762\n"
          ],
          "name": "stdout"
        }
      ]
    },
    {
      "cell_type": "code",
      "metadata": {
        "id": "ZmG-_oo3r8vT",
        "colab_type": "code",
        "outputId": "74cbf768-086e-42ae-97f4-31d164b5c724",
        "colab": {
          "base_uri": "https://localhost:8080/",
          "height": 573
        }
      },
      "source": [
        "# summarize history \n",
        "plt.plot(history_no_dropout.history['val_acc'],color=\"blue\")\n",
        "plt.plot(history_with_dropout.history['val_acc'],color=\"red\")\n",
        "\n",
        "plt.title('model accuracy')\n",
        "plt.ylabel('accuracy')\n",
        "plt.xlabel('epoch')\n",
        "plt.legend(['wo_dropo', 'w_dropo'], loc='lower right')\n",
        "plt.show()\n",
        "\n",
        "plt.plot(history_no_dropout.history['val_loss'],color=\"blue\")\n",
        "plt.plot(history_with_dropout.history['val_loss'],color=\"red\")\n",
        "plt.title('model loss')\n",
        "plt.ylabel('loss')\n",
        "plt.xlabel('epoch')\n",
        "plt.legend(['wo_dropo', 'w_dropo'], loc='lower right')\n",
        "plt.show()"
      ],
      "execution_count": 0,
      "outputs": [
        {
          "output_type": "display_data",
          "data": {
            "image/png": "[encoded data removed]",
            "text/plain": [
              "<Figure size 432x288 with 1 Axes>"
            ]
          },
          "metadata": {
            "tags": []
          }
        },
        {
          "output_type": "display_data",
          "data": {
            "image/png": "[encoded data removed]",
            "text/plain": [
              "<Figure size 432x288 with 1 Axes>"
            ]
          },
          "metadata": {
            "tags": []
          }
        }
      ]
    },
    {
      "cell_type": "markdown",
      "metadata": {
        "id": "raNGqCQJtwVR",
        "colab_type": "text"
      },
      "source": [
        "#### Performace is almost the same around 88% acc, the model with dropout seems to overfit a bit more"
      ]
    },
    {
      "cell_type": "code",
      "metadata": {
        "id": "ATsMpPPwOfgJ",
        "colab_type": "code",
        "outputId": "90770ac8-ccab-480d-8859-b684b0d87026",
        "colab": {
          "base_uri": "https://localhost:8080/",
          "height": 102
        }
      },
      "source": [
        "y_pred = model.predict_classes(X_test_pad)  \n",
        "y_pred=y_pred.reshape(len(y_pred))\n",
        "print(pd.crosstab(y_test, y_pred,rownames=['true'], colnames=['pred']))\n",
        "print(\"Acc = \",np.sum(y_test==y_pred)/len(y_test))"
      ],
      "execution_count": 0,
      "outputs": [
        {
          "output_type": "stream",
          "text": [
            "pred     0     1\n",
            "true            \n",
            "0     2218   289\n",
            "1      274  2219\n",
            "Acc =  0.8874\n"
          ],
          "name": "stdout"
        }
      ]
    },
    {
      "cell_type": "markdown",
      "metadata": {
        "id": "5Vqy51AWuDCI",
        "colab_type": "text"
      },
      "source": [
        "## model with 1d conv after emb"
      ]
    },
    {
      "cell_type": "code",
      "metadata": {
        "id": "rnak5Px9r8r7",
        "colab_type": "code",
        "outputId": "bd608bd1-638c-4cc4-f0d8-6b3d86acf454",
        "colab": {
          "base_uri": "https://localhost:8080/",
          "height": 714
        }
      },
      "source": [
        "from keras.models import Model\n",
        "from keras.layers import Input, Activation,Dense, Concatenate, Dropout, Embedding, Conv1D,GlobalMaxPooling1D, Flatten ,MaxPooling1D, GlobalAvgPool1D,BatchNormalization\n",
        "EMBEDDING_DIM = 30\n",
        "\n",
        "\n",
        "a = Input(shape=(max_length,))\n",
        "\n",
        "x = Embedding(vocab_size+ 1, EMBEDDING_DIM)(a)\n",
        "x1 = Conv1D(filters=20,kernel_size=(3),activation=\"relu\",padding=\"same\")(x)\n",
        "#x1= Dropout(0.2)(x1)\n",
        "x2 = Conv1D(filters=20,kernel_size=(5),activation=\"relu\",padding=\"same\")(x)\n",
        "#x2= Dropout(0.2)(x2)\n",
        "x3 = Conv1D(filters=20,kernel_size=(7),activation=\"relu\",padding=\"same\")(x)\n",
        "#x3= Dropout(0.2)(x3)\n",
        "x4 = Conv1D(filters=20,kernel_size=(9),activation=\"relu\",padding=\"same\")(x)\n",
        "#x4= Dropout(0.2)(x4)\n",
        "x5 = Conv1D(filters=20,kernel_size=(11),activation=\"relu\",padding=\"same\")(x)\n",
        "#x5= Dropout(0.2)(x5)\n",
        "\n",
        "\n",
        "g1 = GlobalAvgPool1D()(x1)\n",
        "g2 = GlobalAvgPool1D()(x2)\n",
        "g3 = GlobalAvgPool1D()(x3)\n",
        "g4 = GlobalAvgPool1D()(x4)\n",
        "g5 = GlobalAvgPool1D()(x5)\n",
        "\n",
        "b1= Concatenate()([g1,g2,g3,g4,g5])\n",
        "#b1 = Dense(2000)(b1)\n",
        "#b1 = BatchNormalization()(b1)\n",
        "#b1 = Activation(\"relu\")(b1)\n",
        "#b1= Dropout(0.3)(b1)\n",
        "#b1 = Dense(4000)(b1)\n",
        "#b1 = BatchNormalization()(b1)\n",
        "#b1 = Activation(\"relu\")(b1)\n",
        "#b1= Dropout(0.3)(b1)\n",
        "out= Dense(1, activation='sigmoid')(b1)\n",
        "model = Model(inputs=a, outputs=out)\n",
        "model.compile(loss='binary_crossentropy', optimizer='adam', metrics=['accuracy'])\n",
        "\n",
        "\n",
        "\n",
        "\n",
        "print('Summary of the built model...')\n",
        "print(model.summary())\n",
        "\n",
        "\n",
        "## try with flatten after emb and then dense (not good  ~ 66 val acc )\n",
        "## try with globalpool after emb and then dense (works alright ~ 80 val acc )"
      ],
      "execution_count": 0,
      "outputs": [
        {
          "output_type": "stream",
          "text": [
            "Summary of the built model...\n",
            "__________________________________________________________________________________________________\n",
            "Layer (type)                    Output Shape         Param #     Connected to                     \n",
            "==================================================================================================\n",
            "input_13 (InputLayer)           (None, 2381)         0                                            \n",
            "__________________________________________________________________________________________________\n",
            "embedding_19 (Embedding)        (None, 2381, 30)     2307390     input_13[0][0]                   \n",
            "__________________________________________________________________________________________________\n",
            "conv1d_36 (Conv1D)              (None, 2381, 20)     1820        embedding_19[0][0]               \n",
            "__________________________________________________________________________________________________\n",
            "conv1d_37 (Conv1D)              (None, 2381, 20)     3020        embedding_19[0][0]               \n",
            "__________________________________________________________________________________________________\n",
            "conv1d_38 (Conv1D)              (None, 2381, 20)     4220        embedding_19[0][0]               \n",
            "__________________________________________________________________________________________________\n",
            "conv1d_39 (Conv1D)              (None, 2381, 20)     5420        embedding_19[0][0]               \n",
            "__________________________________________________________________________________________________\n",
            "conv1d_40 (Conv1D)              (None, 2381, 20)     6620        embedding_19[0][0]               \n",
            "__________________________________________________________________________________________________\n",
            "global_average_pooling1d_11 (Gl (None, 20)           0           conv1d_36[0][0]                  \n",
            "__________________________________________________________________________________________________\n",
            "global_average_pooling1d_12 (Gl (None, 20)           0           conv1d_37[0][0]                  \n",
            "__________________________________________________________________________________________________\n",
            "global_average_pooling1d_13 (Gl (None, 20)           0           conv1d_38[0][0]                  \n",
            "__________________________________________________________________________________________________\n",
            "global_average_pooling1d_14 (Gl (None, 20)           0           conv1d_39[0][0]                  \n",
            "__________________________________________________________________________________________________\n",
            "global_average_pooling1d_15 (Gl (None, 20)           0           conv1d_40[0][0]                  \n",
            "__________________________________________________________________________________________________\n",
            "concatenate_8 (Concatenate)     (None, 100)          0           global_average_pooling1d_11[0][0]\n",
            "                                                                 global_average_pooling1d_12[0][0]\n",
            "                                                                 global_average_pooling1d_13[0][0]\n",
            "                                                                 global_average_pooling1d_14[0][0]\n",
            "                                                                 global_average_pooling1d_15[0][0]\n",
            "__________________________________________________________________________________________________\n",
            "dense_22 (Dense)                (None, 1)            101         concatenate_8[0][0]              \n",
            "==================================================================================================\n",
            "Total params: 2,328,591\n",
            "Trainable params: 2,328,591\n",
            "Non-trainable params: 0\n",
            "__________________________________________________________________________________________________\n",
            "None\n"
          ],
          "name": "stdout"
        }
      ]
    },
    {
      "cell_type": "code",
      "metadata": {
        "id": "t1y30SLor8pd",
        "colab_type": "code",
        "outputId": "0550c3fc-ffd7-4722-cd63-56e7864c9e75",
        "colab": {
          "base_uri": "https://localhost:8080/",
          "height": 204
        }
      },
      "source": [
        "#global max\n",
        "history_1dconv_inception_no_fc_part_no_dropout=model.fit(X_train_pad, y_train, batch_size=64, epochs=5, validation_data=(X_val_pad, y_val), verbose=1)"
      ],
      "execution_count": 0,
      "outputs": [
        {
          "output_type": "stream",
          "text": [
            "Train on 10000 samples, validate on 10000 samples\n",
            "Epoch 1/5\n",
            "10000/10000 [==============================] - 7s 663us/step - loss: 0.6414 - acc: 0.6819 - val_loss: 0.4991 - val_acc: 0.7901\n",
            "Epoch 2/5\n",
            "10000/10000 [==============================] - 5s 485us/step - loss: 0.3719 - acc: 0.8428 - val_loss: 0.3401 - val_acc: 0.8541\n",
            "Epoch 3/5\n",
            "10000/10000 [==============================] - 5s 490us/step - loss: 0.2046 - acc: 0.9277 - val_loss: 0.3092 - val_acc: 0.8684\n",
            "Epoch 4/5\n",
            "10000/10000 [==============================] - 5s 493us/step - loss: 0.0946 - acc: 0.9739 - val_loss: 0.3239 - val_acc: 0.8655\n",
            "Epoch 5/5\n",
            "10000/10000 [==============================] - 5s 493us/step - loss: 0.0372 - acc: 0.9938 - val_loss: 0.3556 - val_acc: 0.8654\n"
          ],
          "name": "stdout"
        }
      ]
    },
    {
      "cell_type": "code",
      "metadata": {
        "id": "_MS7mHJ6r8m-",
        "colab_type": "code",
        "outputId": "4c1f1178-9685-46dc-98e1-0063c385afe1",
        "colab": {
          "base_uri": "https://localhost:8080/",
          "height": 374
        }
      },
      "source": [
        "#global ave\n",
        "history_1dconv_inception_no_fc_part_no_dropout=model.fit(X_train_pad, y_train, batch_size=64, epochs=10, validation_data=(X_val_pad, y_val), verbose=1)"
      ],
      "execution_count": 0,
      "outputs": [
        {
          "output_type": "stream",
          "text": [
            "Train on 10000 samples, validate on 10000 samples\n",
            "Epoch 1/10\n",
            "10000/10000 [==============================] - 7s 693us/step - loss: 0.6771 - acc: 0.6129 - val_loss: 0.6187 - val_acc: 0.7738\n",
            "Epoch 2/10\n",
            "10000/10000 [==============================] - 5s 472us/step - loss: 0.4676 - acc: 0.8478 - val_loss: 0.3835 - val_acc: 0.8626\n",
            "Epoch 3/10\n",
            "10000/10000 [==============================] - 5s 473us/step - loss: 0.2703 - acc: 0.9153 - val_loss: 0.3056 - val_acc: 0.8854\n",
            "Epoch 4/10\n",
            "10000/10000 [==============================] - 5s 475us/step - loss: 0.1764 - acc: 0.9480 - val_loss: 0.2858 - val_acc: 0.8861\n",
            "Epoch 5/10\n",
            "10000/10000 [==============================] - 5s 476us/step - loss: 0.1207 - acc: 0.9652 - val_loss: 0.2810 - val_acc: 0.8917\n",
            "Epoch 6/10\n",
            "10000/10000 [==============================] - 5s 478us/step - loss: 0.0839 - acc: 0.9798 - val_loss: 0.2872 - val_acc: 0.8898\n",
            "Epoch 7/10\n",
            "10000/10000 [==============================] - 5s 476us/step - loss: 0.0588 - acc: 0.9878 - val_loss: 0.2966 - val_acc: 0.8915\n",
            "Epoch 8/10\n",
            "10000/10000 [==============================] - 5s 479us/step - loss: 0.0414 - acc: 0.9928 - val_loss: 0.3077 - val_acc: 0.8905\n",
            "Epoch 9/10\n",
            "10000/10000 [==============================] - 5s 478us/step - loss: 0.0296 - acc: 0.9968 - val_loss: 0.3260 - val_acc: 0.8887\n",
            "Epoch 10/10\n",
            "10000/10000 [==============================] - 5s 473us/step - loss: 0.0215 - acc: 0.9984 - val_loss: 0.3378 - val_acc: 0.8886\n"
          ],
          "name": "stdout"
        }
      ]
    },
    {
      "cell_type": "code",
      "metadata": {
        "colab_type": "code",
        "outputId": "d1549a60-b9c5-4ba2-9660-1da703833e24",
        "id": "gfqP8a_nwNXd",
        "colab": {
          "base_uri": "https://localhost:8080/",
          "height": 564
        }
      },
      "source": [
        "from keras.models import Model\n",
        "from keras.layers import Input, Activation,Dense,CuDNNLSTM, Concatenate, Dropout, Embedding, Conv1D,GlobalMaxPooling1D, Flatten ,MaxPooling1D, GlobalAvgPool1D,BatchNormalization\n",
        "EMBEDDING_DIM = 30\n",
        "\n",
        "\n",
        "a = Input(shape=(max_length,))\n",
        "\n",
        "x = Embedding(vocab_size+ 1, EMBEDDING_DIM)(a)\n",
        "#x1 = Conv1D(filters=20,kernel_size=(3),activation=\"relu\",padding=\"same\")(x)\n",
        "##x1= Dropout(0.2)(x1)\n",
        "#x2 = Conv1D(filters=20,kernel_size=(5),activation=\"relu\",padding=\"same\")(x)\n",
        "##x2= Dropout(0.2)(x2)\n",
        "#x3 = Conv1D(filters=20,kernel_size=(7),activation=\"relu\",padding=\"same\")(x)\n",
        "##x3= Dropout(0.2)(x3)\n",
        "#x4 = Conv1D(filters=20,kernel_size=(9),activation=\"relu\",padding=\"same\")(x)\n",
        "##x4= Dropout(0.2)(x4)\n",
        "#x5 = Conv1D(filters=20,kernel_size=(11),activation=\"relu\",padding=\"same\")(x)\n",
        "##x5= Dropout(0.2)(x5)\n",
        "#\n",
        "#\n",
        "#g1 = GlobalMaxPooling1D()(x1)\n",
        "#g2 = GlobalMaxPooling1D()(x2)\n",
        "#g3 = GlobalMaxPooling1D()(x3)\n",
        "#g4 = GlobalMaxPooling1D()(x4)\n",
        "#g5 = GlobalMaxPooling1D()(x5)\n",
        "#\n",
        "#b1= Concatenate()([g1,g2,g3,g4,g5])\n",
        "#b1 = Dense(2000)(b1)\n",
        "#b1 = BatchNormalization()(b1)\n",
        "#b1 = Activation(\"relu\")(b1)\n",
        "#b1= Dropout(0.3)(b1)\n",
        "#b1 = Dense(4000)(b1)\n",
        "#b1 = BatchNormalization()(b1)\n",
        "#b1 = Activation(\"relu\")(b1)\n",
        "#b1= Dropout(0.3)(b1)\n",
        "\n",
        "x1 = CuDNNLSTM(20)(x)\n",
        "\n",
        "\n",
        "\n",
        "out= Dense(1, activation='sigmoid')(x1)\n",
        "model = Model(inputs=a, outputs=out)\n",
        "model.compile(loss='binary_crossentropy', optimizer='adam', metrics=['accuracy'])\n",
        "\n",
        "\n",
        "\n",
        "\n",
        "print('Summary of the built model...')\n",
        "print(model.summary())\n",
        "\n",
        "\n",
        "## try with flatten after emb and then dense (not good  ~ 66 val acc )\n",
        "## try with globalpool after emb and then dense (works alright ~ 80 val acc )"
      ],
      "execution_count": 0,
      "outputs": [
        {
          "output_type": "stream",
          "text": [
            "WARNING: Logging before flag parsing goes to stderr.\n",
            "W0619 12:59:38.564084 139948565362560 deprecation_wrapper.py:119] From /usr/local/lib/python3.6/dist-packages/keras/backend/tensorflow_backend.py:74: The name tf.get_default_graph is deprecated. Please use tf.compat.v1.get_default_graph instead.\n",
            "\n",
            "W0619 12:59:38.589675 139948565362560 deprecation_wrapper.py:119] From /usr/local/lib/python3.6/dist-packages/keras/backend/tensorflow_backend.py:517: The name tf.placeholder is deprecated. Please use tf.compat.v1.placeholder instead.\n",
            "\n",
            "W0619 12:59:38.596537 139948565362560 deprecation_wrapper.py:119] From /usr/local/lib/python3.6/dist-packages/keras/backend/tensorflow_backend.py:4138: The name tf.random_uniform is deprecated. Please use tf.random.uniform instead.\n",
            "\n",
            "W0619 12:59:39.959272 139948565362560 deprecation_wrapper.py:119] From /usr/local/lib/python3.6/dist-packages/keras/optimizers.py:790: The name tf.train.Optimizer is deprecated. Please use tf.compat.v1.train.Optimizer instead.\n",
            "\n",
            "W0619 12:59:39.979807 139948565362560 deprecation_wrapper.py:119] From /usr/local/lib/python3.6/dist-packages/keras/backend/tensorflow_backend.py:3376: The name tf.log is deprecated. Please use tf.math.log instead.\n",
            "\n",
            "W0619 12:59:39.985745 139948565362560 deprecation.py:323] From /usr/local/lib/python3.6/dist-packages/tensorflow/python/ops/nn_impl.py:180: add_dispatch_support.<locals>.wrapper (from tensorflow.python.ops.array_ops) is deprecated and will be removed in a future version.\n",
            "Instructions for updating:\n",
            "Use tf.where in 2.0, which has the same broadcast rule as np.where\n"
          ],
          "name": "stderr"
        },
        {
          "output_type": "stream",
          "text": [
            "Summary of the built model...\n",
            "_________________________________________________________________\n",
            "Layer (type)                 Output Shape              Param #   \n",
            "=================================================================\n",
            "input_1 (InputLayer)         (None, 2381)              0         \n",
            "_________________________________________________________________\n",
            "embedding_1 (Embedding)      (None, 2381, 30)          2307390   \n",
            "_________________________________________________________________\n",
            "cu_dnnlstm_1 (CuDNNLSTM)     (None, 20)                4160      \n",
            "_________________________________________________________________\n",
            "dense_1 (Dense)              (None, 1)                 21        \n",
            "=================================================================\n",
            "Total params: 2,311,571\n",
            "Trainable params: 2,311,571\n",
            "Non-trainable params: 0\n",
            "_________________________________________________________________\n",
            "None\n"
          ],
          "name": "stdout"
        }
      ]
    },
    {
      "cell_type": "code",
      "metadata": {
        "colab_type": "code",
        "outputId": "607f2ba1-82d4-47ed-84ac-b1db3169e7f8",
        "id": "uMJ0GiJawNXq",
        "colab": {
          "base_uri": "https://localhost:8080/",
          "height": 615
        }
      },
      "source": [
        "history_1dconv_inception_no_fc_part_no_dropout=model.fit(X_train_pad, y_train, batch_size=64, epochs=80, validation_data=(X_val_pad, y_val), verbose=1)"
      ],
      "execution_count": 0,
      "outputs": [
        {
          "output_type": "stream",
          "text": [
            "W0619 12:59:40.292163 139948565362560 deprecation_wrapper.py:119] From /usr/local/lib/python3.6/dist-packages/keras/backend/tensorflow_backend.py:986: The name tf.assign_add is deprecated. Please use tf.compat.v1.assign_add instead.\n",
            "\n"
          ],
          "name": "stderr"
        },
        {
          "output_type": "stream",
          "text": [
            "Train on 10000 samples, validate on 10000 samples\n",
            "Epoch 1/80\n",
            "10000/10000 [==============================] - 23s 2ms/step - loss: 0.6935 - acc: 0.4974 - val_loss: 0.6933 - val_acc: 0.5035\n",
            "Epoch 2/80\n",
            "10000/10000 [==============================] - 21s 2ms/step - loss: 0.6932 - acc: 0.5023 - val_loss: 0.6934 - val_acc: 0.5035\n",
            "Epoch 3/80\n",
            "10000/10000 [==============================] - 21s 2ms/step - loss: 0.6933 - acc: 0.4970 - val_loss: 0.6933 - val_acc: 0.4965\n",
            "Epoch 4/80\n",
            "10000/10000 [==============================] - 21s 2ms/step - loss: 0.6933 - acc: 0.4930 - val_loss: 0.6931 - val_acc: 0.5035\n",
            "Epoch 5/80\n",
            "10000/10000 [==============================] - 21s 2ms/step - loss: 0.6932 - acc: 0.4975 - val_loss: 0.6932 - val_acc: 0.4965\n",
            "Epoch 6/80\n",
            "10000/10000 [==============================] - 21s 2ms/step - loss: 0.6932 - acc: 0.5019 - val_loss: 0.6933 - val_acc: 0.4965\n",
            "Epoch 7/80\n",
            " 5440/10000 [===============>..............] - ETA: 6s - loss: 0.6931 - acc: 0.5088"
          ],
          "name": "stdout"
        },
        {
          "output_type": "error",
          "ename": "KeyboardInterrupt",
          "evalue": "ignored",
          "traceback": [
            "\u001b[0;31m---------------------------------------------------------------------------\u001b[0m",
            "\u001b[0;31mKeyboardInterrupt\u001b[0m                         Traceback (most recent call last)",
            "\u001b[0;32m<ipython-input-17-b76c41448a0e>\u001b[0m in \u001b[0;36m<module>\u001b[0;34m()\u001b[0m\n\u001b[0;32m----> 1\u001b[0;31m \u001b[0mhistory_1dconv_inception_no_fc_part_no_dropout\u001b[0m\u001b[0;34m=\u001b[0m\u001b[0mmodel\u001b[0m\u001b[0;34m.\u001b[0m\u001b[0mfit\u001b[0m\u001b[0;34m(\u001b[0m\u001b[0mX_train_pad\u001b[0m\u001b[0;34m,\u001b[0m \u001b[0my_train\u001b[0m\u001b[0;34m,\u001b[0m \u001b[0mbatch_size\u001b[0m\u001b[0;34m=\u001b[0m\u001b[0;36m64\u001b[0m\u001b[0;34m,\u001b[0m \u001b[0mepochs\u001b[0m\u001b[0;34m=\u001b[0m\u001b[0;36m80\u001b[0m\u001b[0;34m,\u001b[0m \u001b[0mvalidation_data\u001b[0m\u001b[0;34m=\u001b[0m\u001b[0;34m(\u001b[0m\u001b[0mX_val_pad\u001b[0m\u001b[0;34m,\u001b[0m \u001b[0my_val\u001b[0m\u001b[0;34m)\u001b[0m\u001b[0;34m,\u001b[0m \u001b[0mverbose\u001b[0m\u001b[0;34m=\u001b[0m\u001b[0;36m1\u001b[0m\u001b[0;34m)\u001b[0m\u001b[0;34m\u001b[0m\u001b[0;34m\u001b[0m\u001b[0m\n\u001b[0m",
            "\u001b[0;32m/usr/local/lib/python3.6/dist-packages/keras/engine/training.py\u001b[0m in \u001b[0;36mfit\u001b[0;34m(self, x, y, batch_size, epochs, verbose, callbacks, validation_split, validation_data, shuffle, class_weight, sample_weight, initial_epoch, steps_per_epoch, validation_steps, **kwargs)\u001b[0m\n\u001b[1;32m   1037\u001b[0m                                         \u001b[0minitial_epoch\u001b[0m\u001b[0;34m=\u001b[0m\u001b[0minitial_epoch\u001b[0m\u001b[0;34m,\u001b[0m\u001b[0;34m\u001b[0m\u001b[0;34m\u001b[0m\u001b[0m\n\u001b[1;32m   1038\u001b[0m                                         \u001b[0msteps_per_epoch\u001b[0m\u001b[0;34m=\u001b[0m\u001b[0msteps_per_epoch\u001b[0m\u001b[0;34m,\u001b[0m\u001b[0;34m\u001b[0m\u001b[0;34m\u001b[0m\u001b[0m\n\u001b[0;32m-> 1039\u001b[0;31m                                         validation_steps=validation_steps)\n\u001b[0m\u001b[1;32m   1040\u001b[0m \u001b[0;34m\u001b[0m\u001b[0m\n\u001b[1;32m   1041\u001b[0m     def evaluate(self, x=None, y=None,\n",
            "\u001b[0;32m/usr/local/lib/python3.6/dist-packages/keras/engine/training_arrays.py\u001b[0m in \u001b[0;36mfit_loop\u001b[0;34m(model, f, ins, out_labels, batch_size, epochs, verbose, callbacks, val_f, val_ins, shuffle, callback_metrics, initial_epoch, steps_per_epoch, validation_steps)\u001b[0m\n\u001b[1;32m    197\u001b[0m                     \u001b[0mins_batch\u001b[0m\u001b[0;34m[\u001b[0m\u001b[0mi\u001b[0m\u001b[0;34m]\u001b[0m \u001b[0;34m=\u001b[0m \u001b[0mins_batch\u001b[0m\u001b[0;34m[\u001b[0m\u001b[0mi\u001b[0m\u001b[0;34m]\u001b[0m\u001b[0;34m.\u001b[0m\u001b[0mtoarray\u001b[0m\u001b[0;34m(\u001b[0m\u001b[0;34m)\u001b[0m\u001b[0;34m\u001b[0m\u001b[0;34m\u001b[0m\u001b[0m\n\u001b[1;32m    198\u001b[0m \u001b[0;34m\u001b[0m\u001b[0m\n\u001b[0;32m--> 199\u001b[0;31m                 \u001b[0mouts\u001b[0m \u001b[0;34m=\u001b[0m \u001b[0mf\u001b[0m\u001b[0;34m(\u001b[0m\u001b[0mins_batch\u001b[0m\u001b[0;34m)\u001b[0m\u001b[0;34m\u001b[0m\u001b[0;34m\u001b[0m\u001b[0m\n\u001b[0m\u001b[1;32m    200\u001b[0m                 \u001b[0mouts\u001b[0m \u001b[0;34m=\u001b[0m \u001b[0mto_list\u001b[0m\u001b[0;34m(\u001b[0m\u001b[0mouts\u001b[0m\u001b[0;34m)\u001b[0m\u001b[0;34m\u001b[0m\u001b[0;34m\u001b[0m\u001b[0m\n\u001b[1;32m    201\u001b[0m                 \u001b[0;32mfor\u001b[0m \u001b[0ml\u001b[0m\u001b[0;34m,\u001b[0m \u001b[0mo\u001b[0m \u001b[0;32min\u001b[0m \u001b[0mzip\u001b[0m\u001b[0;34m(\u001b[0m\u001b[0mout_labels\u001b[0m\u001b[0;34m,\u001b[0m \u001b[0mouts\u001b[0m\u001b[0;34m)\u001b[0m\u001b[0;34m:\u001b[0m\u001b[0;34m\u001b[0m\u001b[0;34m\u001b[0m\u001b[0m\n",
            "\u001b[0;32m/usr/local/lib/python3.6/dist-packages/keras/backend/tensorflow_backend.py\u001b[0m in \u001b[0;36m__call__\u001b[0;34m(self, inputs)\u001b[0m\n\u001b[1;32m   2713\u001b[0m                 \u001b[0;32mreturn\u001b[0m \u001b[0mself\u001b[0m\u001b[0;34m.\u001b[0m\u001b[0m_legacy_call\u001b[0m\u001b[0;34m(\u001b[0m\u001b[0minputs\u001b[0m\u001b[0;34m)\u001b[0m\u001b[0;34m\u001b[0m\u001b[0;34m\u001b[0m\u001b[0m\n\u001b[1;32m   2714\u001b[0m \u001b[0;34m\u001b[0m\u001b[0m\n\u001b[0;32m-> 2715\u001b[0;31m             \u001b[0;32mreturn\u001b[0m \u001b[0mself\u001b[0m\u001b[0;34m.\u001b[0m\u001b[0m_call\u001b[0m\u001b[0;34m(\u001b[0m\u001b[0minputs\u001b[0m\u001b[0;34m)\u001b[0m\u001b[0;34m\u001b[0m\u001b[0;34m\u001b[0m\u001b[0m\n\u001b[0m\u001b[1;32m   2716\u001b[0m         \u001b[0;32melse\u001b[0m\u001b[0;34m:\u001b[0m\u001b[0;34m\u001b[0m\u001b[0;34m\u001b[0m\u001b[0m\n\u001b[1;32m   2717\u001b[0m             \u001b[0;32mif\u001b[0m \u001b[0mpy_any\u001b[0m\u001b[0;34m(\u001b[0m\u001b[0mis_tensor\u001b[0m\u001b[0;34m(\u001b[0m\u001b[0mx\u001b[0m\u001b[0;34m)\u001b[0m \u001b[0;32mfor\u001b[0m \u001b[0mx\u001b[0m \u001b[0;32min\u001b[0m \u001b[0minputs\u001b[0m\u001b[0;34m)\u001b[0m\u001b[0;34m:\u001b[0m\u001b[0;34m\u001b[0m\u001b[0;34m\u001b[0m\u001b[0m\n",
            "\u001b[0;32m/usr/local/lib/python3.6/dist-packages/keras/backend/tensorflow_backend.py\u001b[0m in \u001b[0;36m_call\u001b[0;34m(self, inputs)\u001b[0m\n\u001b[1;32m   2673\u001b[0m             \u001b[0mfetched\u001b[0m \u001b[0;34m=\u001b[0m \u001b[0mself\u001b[0m\u001b[0;34m.\u001b[0m\u001b[0m_callable_fn\u001b[0m\u001b[0;34m(\u001b[0m\u001b[0;34m*\u001b[0m\u001b[0marray_vals\u001b[0m\u001b[0;34m,\u001b[0m \u001b[0mrun_metadata\u001b[0m\u001b[0;34m=\u001b[0m\u001b[0mself\u001b[0m\u001b[0;34m.\u001b[0m\u001b[0mrun_metadata\u001b[0m\u001b[0;34m)\u001b[0m\u001b[0;34m\u001b[0m\u001b[0;34m\u001b[0m\u001b[0m\n\u001b[1;32m   2674\u001b[0m         \u001b[0;32melse\u001b[0m\u001b[0;34m:\u001b[0m\u001b[0;34m\u001b[0m\u001b[0;34m\u001b[0m\u001b[0m\n\u001b[0;32m-> 2675\u001b[0;31m             \u001b[0mfetched\u001b[0m \u001b[0;34m=\u001b[0m \u001b[0mself\u001b[0m\u001b[0;34m.\u001b[0m\u001b[0m_callable_fn\u001b[0m\u001b[0;34m(\u001b[0m\u001b[0;34m*\u001b[0m\u001b[0marray_vals\u001b[0m\u001b[0;34m)\u001b[0m\u001b[0;34m\u001b[0m\u001b[0;34m\u001b[0m\u001b[0m\n\u001b[0m\u001b[1;32m   2676\u001b[0m         \u001b[0;32mreturn\u001b[0m \u001b[0mfetched\u001b[0m\u001b[0;34m[\u001b[0m\u001b[0;34m:\u001b[0m\u001b[0mlen\u001b[0m\u001b[0;34m(\u001b[0m\u001b[0mself\u001b[0m\u001b[0;34m.\u001b[0m\u001b[0moutputs\u001b[0m\u001b[0;34m)\u001b[0m\u001b[0;34m]\u001b[0m\u001b[0;34m\u001b[0m\u001b[0;34m\u001b[0m\u001b[0m\n\u001b[1;32m   2677\u001b[0m \u001b[0;34m\u001b[0m\u001b[0m\n",
            "\u001b[0;32m/usr/local/lib/python3.6/dist-packages/tensorflow/python/client/session.py\u001b[0m in \u001b[0;36m__call__\u001b[0;34m(self, *args, **kwargs)\u001b[0m\n\u001b[1;32m   1456\u001b[0m         ret = tf_session.TF_SessionRunCallable(self._session._session,\n\u001b[1;32m   1457\u001b[0m                                                \u001b[0mself\u001b[0m\u001b[0;34m.\u001b[0m\u001b[0m_handle\u001b[0m\u001b[0;34m,\u001b[0m \u001b[0margs\u001b[0m\u001b[0;34m,\u001b[0m\u001b[0;34m\u001b[0m\u001b[0;34m\u001b[0m\u001b[0m\n\u001b[0;32m-> 1458\u001b[0;31m                                                run_metadata_ptr)\n\u001b[0m\u001b[1;32m   1459\u001b[0m         \u001b[0;32mif\u001b[0m \u001b[0mrun_metadata\u001b[0m\u001b[0;34m:\u001b[0m\u001b[0;34m\u001b[0m\u001b[0;34m\u001b[0m\u001b[0m\n\u001b[1;32m   1460\u001b[0m           \u001b[0mproto_data\u001b[0m \u001b[0;34m=\u001b[0m \u001b[0mtf_session\u001b[0m\u001b[0;34m.\u001b[0m\u001b[0mTF_GetBuffer\u001b[0m\u001b[0;34m(\u001b[0m\u001b[0mrun_metadata_ptr\u001b[0m\u001b[0;34m)\u001b[0m\u001b[0;34m\u001b[0m\u001b[0;34m\u001b[0m\u001b[0m\n",
            "\u001b[0;31mKeyboardInterrupt\u001b[0m: "
          ]
        }
      ]
    },
    {
      "cell_type": "code",
      "metadata": {
        "id": "nYQVSCGkwMY5",
        "colab_type": "code",
        "colab": {}
      },
      "source": [
        ""
      ],
      "execution_count": 0,
      "outputs": []
    },
    {
      "cell_type": "markdown",
      "metadata": {
        "id": "eRazIfcj1H0A",
        "colab_type": "text"
      },
      "source": [
        "### emb and attention"
      ]
    },
    {
      "cell_type": "code",
      "metadata": {
        "id": "cwy9oZy3wMd2",
        "colab_type": "code",
        "outputId": "a6646967-bc9a-49ba-e003-04130f88bf93",
        "colab": {
          "base_uri": "https://localhost:8080/",
          "height": 595
        }
      },
      "source": [
        "from keras.models import Model\n",
        "from keras.layers import Input, Activation,Dense,CuDNNLSTM,RepeatVector,Permute,multiply,Lambda, Concatenate, Dropout, Embedding, Conv1D,GlobalMaxPooling1D, Flatten ,MaxPooling1D, GlobalAvgPool1D,BatchNormalization\n",
        "from keras import backend as K\n",
        "EMBEDDING_DIM = 30\n",
        "\n",
        "\n",
        "a = Input(shape=(max_length,))\n",
        "\n",
        "x = Embedding(vocab_size+ 1, EMBEDDING_DIM)(a)\n",
        "attention = Dense(10, activation='tanh')(x) \n",
        "attention = Dense(1, activation='tanh')(attention) \n",
        "attention = Flatten()(attention)\n",
        "attention_1 = Activation('softmax')(attention)\n",
        "attention = RepeatVector(30)(attention_1)\n",
        "attention = Permute([2, 1])(attention)\n",
        "\n",
        "sent_representation = multiply([x, attention])\n",
        "sent_representation_1 = Lambda(lambda xin: K.sum(xin, axis=-1))(sent_representation)\n",
        "#sent_representation = Dense(10, activation='relu')(sent_representation)\n",
        "#sent_representation = Flatten()(sent_representation)\n",
        "\n",
        "sent_representation_2 = Dropout(0.5)(sent_representation_1)\n",
        "\n",
        "\n",
        "\n",
        "out= Dense(1, activation='sigmoid')(sent_representation_2)\n",
        "model = Model(inputs=a, outputs=out)\n",
        "model.compile(loss='binary_crossentropy', optimizer='adam', metrics=['accuracy'])\n",
        "\n",
        "\n",
        "\n",
        "\n",
        "print('Summary of the built model...')\n",
        "print(model.summary())\n",
        "\n",
        "\n",
        "## try with flatten after emb and then dense (not good  ~ 66 val acc )\n",
        "## try with globalpool after emb and then dense (works alright ~ 80 val acc )"
      ],
      "execution_count": 0,
      "outputs": [
        {
          "output_type": "stream",
          "text": [
            "Summary of the built model...\n",
            "__________________________________________________________________________________________________\n",
            "Layer (type)                    Output Shape         Param #     Connected to                     \n",
            "==================================================================================================\n",
            "input_20 (InputLayer)           (None, 2381)         0                                            \n",
            "__________________________________________________________________________________________________\n",
            "embedding_20 (Embedding)        (None, 2381, 30)     2307390     input_20[0][0]                   \n",
            "__________________________________________________________________________________________________\n",
            "dense_38 (Dense)                (None, 2381, 10)     310         embedding_20[0][0]               \n",
            "__________________________________________________________________________________________________\n",
            "dense_39 (Dense)                (None, 2381, 1)      11          dense_38[0][0]                   \n",
            "__________________________________________________________________________________________________\n",
            "flatten_22 (Flatten)            (None, 2381)         0           dense_39[0][0]                   \n",
            "__________________________________________________________________________________________________\n",
            "activation_19 (Activation)      (None, 2381)         0           flatten_22[0][0]                 \n",
            "__________________________________________________________________________________________________\n",
            "repeat_vector_18 (RepeatVector) (None, 30, 2381)     0           activation_19[0][0]              \n",
            "__________________________________________________________________________________________________\n",
            "permute_17 (Permute)            (None, 2381, 30)     0           repeat_vector_18[0][0]           \n",
            "__________________________________________________________________________________________________\n",
            "multiply_16 (Multiply)          (None, 2381, 30)     0           embedding_20[0][0]               \n",
            "                                                                 permute_17[0][0]                 \n",
            "__________________________________________________________________________________________________\n",
            "lambda_9 (Lambda)               (None, 2381)         0           multiply_16[0][0]                \n",
            "__________________________________________________________________________________________________\n",
            "dropout_3 (Dropout)             (None, 2381)         0           lambda_9[0][0]                   \n",
            "__________________________________________________________________________________________________\n",
            "dense_40 (Dense)                (None, 1)            2382        dropout_3[0][0]                  \n",
            "==================================================================================================\n",
            "Total params: 2,310,093\n",
            "Trainable params: 2,310,093\n",
            "Non-trainable params: 0\n",
            "__________________________________________________________________________________________________\n",
            "None\n"
          ],
          "name": "stdout"
        }
      ]
    },
    {
      "cell_type": "code",
      "metadata": {
        "id": "9ZuVt0sSwMiq",
        "colab_type": "code",
        "outputId": "05776791-3f37-42fc-e6ea-bb54854b337c",
        "colab": {
          "base_uri": "https://localhost:8080/",
          "height": 2754
        }
      },
      "source": [
        "#witn tanh\n",
        "history_attention=model.fit(X_train_pad, y_train, batch_size=64, epochs=80, validation_data=(X_val_pad, y_val), verbose=1)"
      ],
      "execution_count": 0,
      "outputs": [
        {
          "output_type": "stream",
          "text": [
            "Train on 10000 samples, validate on 10000 samples\n",
            "Epoch 1/80\n",
            "10000/10000 [==============================] - 3s 313us/step - loss: 0.6932 - acc: 0.4964 - val_loss: 0.6931 - val_acc: 0.5035\n",
            "Epoch 2/80\n",
            "10000/10000 [==============================] - 2s 200us/step - loss: 0.6932 - acc: 0.5006 - val_loss: 0.6931 - val_acc: 0.5035\n",
            "Epoch 3/80\n",
            "10000/10000 [==============================] - 2s 199us/step - loss: 0.6924 - acc: 0.5518 - val_loss: 0.6894 - val_acc: 0.7035\n",
            "Epoch 4/80\n",
            "10000/10000 [==============================] - 2s 197us/step - loss: 0.6778 - acc: 0.7247 - val_loss: 0.6658 - val_acc: 0.7542\n",
            "Epoch 5/80\n",
            "10000/10000 [==============================] - 2s 198us/step - loss: 0.6439 - acc: 0.7694 - val_loss: 0.6323 - val_acc: 0.7622\n",
            "Epoch 6/80\n",
            "10000/10000 [==============================] - 2s 202us/step - loss: 0.6061 - acc: 0.7828 - val_loss: 0.5987 - val_acc: 0.7800\n",
            "Epoch 7/80\n",
            "10000/10000 [==============================] - 2s 201us/step - loss: 0.5709 - acc: 0.7883 - val_loss: 0.5688 - val_acc: 0.7935\n",
            "Epoch 8/80\n",
            "10000/10000 [==============================] - 2s 200us/step - loss: 0.5395 - acc: 0.8068 - val_loss: 0.5423 - val_acc: 0.7971\n",
            "Epoch 9/80\n",
            "10000/10000 [==============================] - 2s 202us/step - loss: 0.5100 - acc: 0.8117 - val_loss: 0.5179 - val_acc: 0.8064\n",
            "Epoch 10/80\n",
            "10000/10000 [==============================] - 2s 200us/step - loss: 0.4889 - acc: 0.8145 - val_loss: 0.4980 - val_acc: 0.8125\n",
            "Epoch 11/80\n",
            "10000/10000 [==============================] - 2s 200us/step - loss: 0.4661 - acc: 0.8220 - val_loss: 0.4804 - val_acc: 0.8186\n",
            "Epoch 12/80\n",
            "10000/10000 [==============================] - 2s 202us/step - loss: 0.4467 - acc: 0.8305 - val_loss: 0.4647 - val_acc: 0.8255\n",
            "Epoch 13/80\n",
            "10000/10000 [==============================] - 2s 198us/step - loss: 0.4295 - acc: 0.8399 - val_loss: 0.4509 - val_acc: 0.8283\n",
            "Epoch 14/80\n",
            "10000/10000 [==============================] - 2s 200us/step - loss: 0.4166 - acc: 0.8422 - val_loss: 0.4384 - val_acc: 0.8342\n",
            "Epoch 15/80\n",
            "10000/10000 [==============================] - 2s 201us/step - loss: 0.4013 - acc: 0.8474 - val_loss: 0.4270 - val_acc: 0.8381\n",
            "Epoch 16/80\n",
            "10000/10000 [==============================] - 2s 199us/step - loss: 0.3873 - acc: 0.8584 - val_loss: 0.4167 - val_acc: 0.8416\n",
            "Epoch 17/80\n",
            "10000/10000 [==============================] - 2s 199us/step - loss: 0.3749 - acc: 0.8651 - val_loss: 0.4071 - val_acc: 0.8449\n",
            "Epoch 18/80\n",
            "10000/10000 [==============================] - 2s 202us/step - loss: 0.3670 - acc: 0.8636 - val_loss: 0.3975 - val_acc: 0.8491\n",
            "Epoch 19/80\n",
            "10000/10000 [==============================] - 2s 199us/step - loss: 0.3556 - acc: 0.8705 - val_loss: 0.3894 - val_acc: 0.8525\n",
            "Epoch 20/80\n",
            "10000/10000 [==============================] - 2s 197us/step - loss: 0.3436 - acc: 0.8756 - val_loss: 0.3819 - val_acc: 0.8564\n",
            "Epoch 21/80\n",
            "10000/10000 [==============================] - 2s 197us/step - loss: 0.3368 - acc: 0.8810 - val_loss: 0.3750 - val_acc: 0.8586\n",
            "Epoch 22/80\n",
            "10000/10000 [==============================] - 2s 200us/step - loss: 0.3288 - acc: 0.8797 - val_loss: 0.3686 - val_acc: 0.8614\n",
            "Epoch 23/80\n",
            "10000/10000 [==============================] - 2s 201us/step - loss: 0.3188 - acc: 0.8855 - val_loss: 0.3627 - val_acc: 0.8630\n",
            "Epoch 24/80\n",
            "10000/10000 [==============================] - 2s 200us/step - loss: 0.3137 - acc: 0.8850 - val_loss: 0.3574 - val_acc: 0.8651\n",
            "Epoch 25/80\n",
            "10000/10000 [==============================] - 2s 197us/step - loss: 0.3041 - acc: 0.8912 - val_loss: 0.3523 - val_acc: 0.8658\n",
            "Epoch 26/80\n",
            "10000/10000 [==============================] - 2s 200us/step - loss: 0.3020 - acc: 0.8902 - val_loss: 0.3471 - val_acc: 0.8689\n",
            "Epoch 27/80\n",
            "10000/10000 [==============================] - 2s 199us/step - loss: 0.2896 - acc: 0.8959 - val_loss: 0.3423 - val_acc: 0.8713\n",
            "Epoch 28/80\n",
            "10000/10000 [==============================] - 2s 198us/step - loss: 0.2875 - acc: 0.8980 - val_loss: 0.3379 - val_acc: 0.8730\n",
            "Epoch 29/80\n",
            "10000/10000 [==============================] - 2s 198us/step - loss: 0.2815 - acc: 0.9011 - val_loss: 0.3339 - val_acc: 0.8740\n",
            "Epoch 30/80\n",
            "10000/10000 [==============================] - 2s 199us/step - loss: 0.2784 - acc: 0.9015 - val_loss: 0.3300 - val_acc: 0.8734\n",
            "Epoch 31/80\n",
            "10000/10000 [==============================] - 2s 199us/step - loss: 0.2694 - acc: 0.9044 - val_loss: 0.3269 - val_acc: 0.8750\n",
            "Epoch 32/80\n",
            "10000/10000 [==============================] - 2s 200us/step - loss: 0.2630 - acc: 0.9080 - val_loss: 0.3237 - val_acc: 0.8757\n",
            "Epoch 33/80\n",
            "10000/10000 [==============================] - 2s 200us/step - loss: 0.2553 - acc: 0.9106 - val_loss: 0.3205 - val_acc: 0.8772\n",
            "Epoch 34/80\n",
            "10000/10000 [==============================] - 2s 198us/step - loss: 0.2518 - acc: 0.9103 - val_loss: 0.3176 - val_acc: 0.8785\n",
            "Epoch 35/80\n",
            "10000/10000 [==============================] - 2s 196us/step - loss: 0.2436 - acc: 0.9174 - val_loss: 0.3149 - val_acc: 0.8785\n",
            "Epoch 36/80\n",
            "10000/10000 [==============================] - 2s 197us/step - loss: 0.2436 - acc: 0.9157 - val_loss: 0.3122 - val_acc: 0.8798\n",
            "Epoch 37/80\n",
            "10000/10000 [==============================] - 2s 198us/step - loss: 0.2386 - acc: 0.9170 - val_loss: 0.3100 - val_acc: 0.8803\n",
            "Epoch 38/80\n",
            "10000/10000 [==============================] - 2s 199us/step - loss: 0.2338 - acc: 0.9212 - val_loss: 0.3077 - val_acc: 0.8815\n",
            "Epoch 39/80\n",
            "10000/10000 [==============================] - 2s 197us/step - loss: 0.2297 - acc: 0.9222 - val_loss: 0.3053 - val_acc: 0.8826\n",
            "Epoch 40/80\n",
            "10000/10000 [==============================] - 2s 197us/step - loss: 0.2279 - acc: 0.9206 - val_loss: 0.3033 - val_acc: 0.8827\n",
            "Epoch 41/80\n",
            "10000/10000 [==============================] - 2s 195us/step - loss: 0.2253 - acc: 0.9211 - val_loss: 0.3010 - val_acc: 0.8827\n",
            "Epoch 42/80\n",
            "10000/10000 [==============================] - 2s 200us/step - loss: 0.2209 - acc: 0.9224 - val_loss: 0.2993 - val_acc: 0.8822\n",
            "Epoch 43/80\n",
            "10000/10000 [==============================] - 2s 201us/step - loss: 0.2141 - acc: 0.9293 - val_loss: 0.2972 - val_acc: 0.8835\n",
            "Epoch 44/80\n",
            "10000/10000 [==============================] - 2s 202us/step - loss: 0.2144 - acc: 0.9292 - val_loss: 0.2956 - val_acc: 0.8835\n",
            "Epoch 45/80\n",
            "10000/10000 [==============================] - 2s 201us/step - loss: 0.2065 - acc: 0.9338 - val_loss: 0.2941 - val_acc: 0.8829\n",
            "Epoch 46/80\n",
            "10000/10000 [==============================] - 2s 201us/step - loss: 0.2026 - acc: 0.9314 - val_loss: 0.2925 - val_acc: 0.8839\n",
            "Epoch 47/80\n",
            "10000/10000 [==============================] - 2s 201us/step - loss: 0.2005 - acc: 0.9338 - val_loss: 0.2911 - val_acc: 0.8844\n",
            "Epoch 48/80\n",
            "10000/10000 [==============================] - 2s 197us/step - loss: 0.1955 - acc: 0.9346 - val_loss: 0.2899 - val_acc: 0.8849\n",
            "Epoch 49/80\n",
            "10000/10000 [==============================] - 2s 197us/step - loss: 0.1995 - acc: 0.9319 - val_loss: 0.2887 - val_acc: 0.8851\n",
            "Epoch 50/80\n",
            "10000/10000 [==============================] - 2s 198us/step - loss: 0.1938 - acc: 0.9355 - val_loss: 0.2874 - val_acc: 0.8860\n",
            "Epoch 51/80\n",
            "10000/10000 [==============================] - 2s 199us/step - loss: 0.1894 - acc: 0.9369 - val_loss: 0.2863 - val_acc: 0.8861\n",
            "Epoch 52/80\n",
            "10000/10000 [==============================] - 2s 196us/step - loss: 0.1887 - acc: 0.9362 - val_loss: 0.2851 - val_acc: 0.8865\n",
            "Epoch 53/80\n",
            "10000/10000 [==============================] - 2s 197us/step - loss: 0.1868 - acc: 0.9384 - val_loss: 0.2838 - val_acc: 0.8864\n",
            "Epoch 54/80\n",
            "10000/10000 [==============================] - 2s 198us/step - loss: 0.1798 - acc: 0.9398 - val_loss: 0.2826 - val_acc: 0.8872\n",
            "Epoch 55/80\n",
            "10000/10000 [==============================] - 2s 201us/step - loss: 0.1785 - acc: 0.9413 - val_loss: 0.2817 - val_acc: 0.8872\n",
            "Epoch 56/80\n",
            "10000/10000 [==============================] - 2s 197us/step - loss: 0.1744 - acc: 0.9431 - val_loss: 0.2808 - val_acc: 0.8870\n",
            "Epoch 57/80\n",
            "10000/10000 [==============================] - 2s 199us/step - loss: 0.1759 - acc: 0.9414 - val_loss: 0.2798 - val_acc: 0.8880\n",
            "Epoch 58/80\n",
            "10000/10000 [==============================] - 2s 199us/step - loss: 0.1679 - acc: 0.9472 - val_loss: 0.2790 - val_acc: 0.8877\n",
            "Epoch 59/80\n",
            "10000/10000 [==============================] - 2s 196us/step - loss: 0.1658 - acc: 0.9458 - val_loss: 0.2784 - val_acc: 0.8887\n",
            "Epoch 60/80\n",
            "10000/10000 [==============================] - 2s 196us/step - loss: 0.1658 - acc: 0.9466 - val_loss: 0.2779 - val_acc: 0.8880\n",
            "Epoch 61/80\n",
            "10000/10000 [==============================] - 2s 198us/step - loss: 0.1618 - acc: 0.9469 - val_loss: 0.2769 - val_acc: 0.8880\n",
            "Epoch 62/80\n",
            "10000/10000 [==============================] - 2s 197us/step - loss: 0.1631 - acc: 0.9470 - val_loss: 0.2759 - val_acc: 0.8882\n",
            "Epoch 63/80\n",
            "10000/10000 [==============================] - 2s 197us/step - loss: 0.1595 - acc: 0.9463 - val_loss: 0.2754 - val_acc: 0.8884\n",
            "Epoch 64/80\n",
            "10000/10000 [==============================] - 2s 199us/step - loss: 0.1592 - acc: 0.9476 - val_loss: 0.2749 - val_acc: 0.8882\n",
            "Epoch 65/80\n",
            "10000/10000 [==============================] - 2s 201us/step - loss: 0.1507 - acc: 0.9529 - val_loss: 0.2740 - val_acc: 0.8884\n",
            "Epoch 66/80\n",
            "10000/10000 [==============================] - 2s 197us/step - loss: 0.1518 - acc: 0.9505 - val_loss: 0.2739 - val_acc: 0.8882\n",
            "Epoch 67/80\n",
            "10000/10000 [==============================] - 2s 197us/step - loss: 0.1471 - acc: 0.9528 - val_loss: 0.2733 - val_acc: 0.8891\n",
            "Epoch 68/80\n",
            "10000/10000 [==============================] - 2s 198us/step - loss: 0.1459 - acc: 0.9547 - val_loss: 0.2728 - val_acc: 0.8887\n",
            "Epoch 69/80\n",
            "10000/10000 [==============================] - 2s 196us/step - loss: 0.1460 - acc: 0.9538 - val_loss: 0.2724 - val_acc: 0.8888\n",
            "Epoch 70/80\n",
            "10000/10000 [==============================] - 2s 204us/step - loss: 0.1441 - acc: 0.9533 - val_loss: 0.2721 - val_acc: 0.8885\n",
            "Epoch 71/80\n",
            "10000/10000 [==============================] - 2s 201us/step - loss: 0.1400 - acc: 0.9530 - val_loss: 0.2718 - val_acc: 0.8882\n",
            "Epoch 72/80\n",
            "10000/10000 [==============================] - 2s 199us/step - loss: 0.1428 - acc: 0.9550 - val_loss: 0.2715 - val_acc: 0.8896\n",
            "Epoch 73/80\n",
            "10000/10000 [==============================] - 2s 200us/step - loss: 0.1337 - acc: 0.9586 - val_loss: 0.2709 - val_acc: 0.8891\n",
            "Epoch 74/80\n",
            "10000/10000 [==============================] - 2s 200us/step - loss: 0.1414 - acc: 0.9534 - val_loss: 0.2707 - val_acc: 0.8890\n",
            "Epoch 75/80\n",
            "10000/10000 [==============================] - 2s 196us/step - loss: 0.1341 - acc: 0.9573 - val_loss: 0.2703 - val_acc: 0.8890\n",
            "Epoch 76/80\n",
            "10000/10000 [==============================] - 2s 196us/step - loss: 0.1341 - acc: 0.9585 - val_loss: 0.2701 - val_acc: 0.8883\n",
            "Epoch 77/80\n",
            "10000/10000 [==============================] - 2s 195us/step - loss: 0.1315 - acc: 0.9585 - val_loss: 0.2698 - val_acc: 0.8878\n",
            "Epoch 78/80\n",
            "10000/10000 [==============================] - 2s 196us/step - loss: 0.1294 - acc: 0.9604 - val_loss: 0.2697 - val_acc: 0.8888\n",
            "Epoch 79/80\n",
            "10000/10000 [==============================] - 2s 195us/step - loss: 0.1285 - acc: 0.9600 - val_loss: 0.2694 - val_acc: 0.8883\n",
            "Epoch 80/80\n",
            "10000/10000 [==============================] - 2s 199us/step - loss: 0.1219 - acc: 0.9609 - val_loss: 0.2696 - val_acc: 0.8886\n"
          ],
          "name": "stdout"
        }
      ]
    },
    {
      "cell_type": "code",
      "metadata": {
        "id": "Tv2g74wz3gGi",
        "colab_type": "code",
        "outputId": "e9687463-fda6-4a0d-99a8-89ced1908718",
        "colab": {
          "base_uri": "https://localhost:8080/",
          "height": 4029
        }
      },
      "source": [
        "#with relu does not work!\n",
        "#history_attention=model.fit(X_train_pad, y_train, batch_size=64, epochs=120, validation_data=(X_val_pad, y_val), verbose=1)"
      ],
      "execution_count": 0,
      "outputs": [
        {
          "output_type": "stream",
          "text": [
            "Train on 10000 samples, validate on 10000 samples\n",
            "Epoch 1/120\n",
            "10000/10000 [==============================] - 2s 180us/step - loss: 0.0851 - acc: 0.9836 - val_loss: 0.2867 - val_acc: 0.8824\n",
            "Epoch 2/120\n",
            "10000/10000 [==============================] - 2s 171us/step - loss: 0.0833 - acc: 0.9846 - val_loss: 0.2874 - val_acc: 0.8818\n",
            "Epoch 3/120\n",
            "10000/10000 [==============================] - 2s 167us/step - loss: 0.0815 - acc: 0.9846 - val_loss: 0.2870 - val_acc: 0.8828\n",
            "Epoch 4/120\n",
            "10000/10000 [==============================] - 2s 169us/step - loss: 0.0797 - acc: 0.9852 - val_loss: 0.2868 - val_acc: 0.8831\n",
            "Epoch 5/120\n",
            "10000/10000 [==============================] - 2s 167us/step - loss: 0.0780 - acc: 0.9857 - val_loss: 0.2878 - val_acc: 0.8817\n",
            "Epoch 6/120\n",
            "10000/10000 [==============================] - 2s 168us/step - loss: 0.0763 - acc: 0.9858 - val_loss: 0.2871 - val_acc: 0.8830\n",
            "Epoch 7/120\n",
            "10000/10000 [==============================] - 2s 169us/step - loss: 0.0745 - acc: 0.9873 - val_loss: 0.2884 - val_acc: 0.8809\n",
            "Epoch 8/120\n",
            "10000/10000 [==============================] - 2s 170us/step - loss: 0.0729 - acc: 0.9875 - val_loss: 0.2905 - val_acc: 0.8806\n",
            "Epoch 9/120\n",
            "10000/10000 [==============================] - 2s 170us/step - loss: 0.0713 - acc: 0.9878 - val_loss: 0.2891 - val_acc: 0.8804\n",
            "Epoch 10/120\n",
            "10000/10000 [==============================] - 2s 171us/step - loss: 0.0698 - acc: 0.9880 - val_loss: 0.2893 - val_acc: 0.8803\n",
            "Epoch 11/120\n",
            "10000/10000 [==============================] - 2s 171us/step - loss: 0.0681 - acc: 0.9890 - val_loss: 0.2888 - val_acc: 0.8821\n",
            "Epoch 12/120\n",
            "10000/10000 [==============================] - 2s 172us/step - loss: 0.0666 - acc: 0.9890 - val_loss: 0.2892 - val_acc: 0.8817\n",
            "Epoch 13/120\n",
            "10000/10000 [==============================] - 2s 174us/step - loss: 0.0651 - acc: 0.9894 - val_loss: 0.2898 - val_acc: 0.8811\n",
            "Epoch 14/120\n",
            "10000/10000 [==============================] - 2s 170us/step - loss: 0.0637 - acc: 0.9902 - val_loss: 0.2896 - val_acc: 0.8814\n",
            "Epoch 15/120\n",
            "10000/10000 [==============================] - 2s 172us/step - loss: 0.0623 - acc: 0.9901 - val_loss: 0.2911 - val_acc: 0.8809\n",
            "Epoch 16/120\n",
            "10000/10000 [==============================] - 2s 171us/step - loss: 0.0610 - acc: 0.9906 - val_loss: 0.2919 - val_acc: 0.8808\n",
            "Epoch 17/120\n",
            "10000/10000 [==============================] - 2s 169us/step - loss: 0.0597 - acc: 0.9907 - val_loss: 0.2926 - val_acc: 0.8802\n",
            "Epoch 18/120\n",
            "10000/10000 [==============================] - 2s 172us/step - loss: 0.0582 - acc: 0.9912 - val_loss: 0.2925 - val_acc: 0.8808\n",
            "Epoch 19/120\n",
            "10000/10000 [==============================] - 2s 173us/step - loss: 0.0569 - acc: 0.9916 - val_loss: 0.2919 - val_acc: 0.8804\n",
            "Epoch 20/120\n",
            "10000/10000 [==============================] - 2s 169us/step - loss: 0.0557 - acc: 0.9919 - val_loss: 0.2922 - val_acc: 0.8798\n",
            "Epoch 21/120\n",
            "10000/10000 [==============================] - 2s 170us/step - loss: 0.0544 - acc: 0.9918 - val_loss: 0.2939 - val_acc: 0.8805\n",
            "Epoch 22/120\n",
            "10000/10000 [==============================] - 2s 170us/step - loss: 0.0532 - acc: 0.9922 - val_loss: 0.2937 - val_acc: 0.8804\n",
            "Epoch 23/120\n",
            "10000/10000 [==============================] - 2s 169us/step - loss: 0.0519 - acc: 0.9926 - val_loss: 0.2965 - val_acc: 0.8804\n",
            "Epoch 24/120\n",
            "10000/10000 [==============================] - 2s 169us/step - loss: 0.0507 - acc: 0.9931 - val_loss: 0.2947 - val_acc: 0.8801\n",
            "Epoch 25/120\n",
            "10000/10000 [==============================] - 2s 169us/step - loss: 0.0496 - acc: 0.9937 - val_loss: 0.2961 - val_acc: 0.8802\n",
            "Epoch 26/120\n",
            "10000/10000 [==============================] - 2s 168us/step - loss: 0.0484 - acc: 0.9936 - val_loss: 0.2965 - val_acc: 0.8803\n",
            "Epoch 27/120\n",
            "10000/10000 [==============================] - 2s 169us/step - loss: 0.0473 - acc: 0.9941 - val_loss: 0.2980 - val_acc: 0.8796\n",
            "Epoch 28/120\n",
            "10000/10000 [==============================] - 2s 168us/step - loss: 0.0463 - acc: 0.9942 - val_loss: 0.2987 - val_acc: 0.8791\n",
            "Epoch 29/120\n",
            "10000/10000 [==============================] - 2s 168us/step - loss: 0.0452 - acc: 0.9947 - val_loss: 0.2983 - val_acc: 0.8806\n",
            "Epoch 30/120\n",
            "10000/10000 [==============================] - 2s 169us/step - loss: 0.0441 - acc: 0.9951 - val_loss: 0.2991 - val_acc: 0.8804\n",
            "Epoch 31/120\n",
            "10000/10000 [==============================] - 2s 170us/step - loss: 0.0431 - acc: 0.9951 - val_loss: 0.3012 - val_acc: 0.8791\n",
            "Epoch 32/120\n",
            "10000/10000 [==============================] - 2s 168us/step - loss: 0.0421 - acc: 0.9957 - val_loss: 0.3020 - val_acc: 0.8790\n",
            "Epoch 33/120\n",
            "10000/10000 [==============================] - 2s 169us/step - loss: 0.0411 - acc: 0.9959 - val_loss: 0.3026 - val_acc: 0.8789\n",
            "Epoch 34/120\n",
            "10000/10000 [==============================] - 2s 168us/step - loss: 0.0402 - acc: 0.9962 - val_loss: 0.3021 - val_acc: 0.8795\n",
            "Epoch 35/120\n",
            "10000/10000 [==============================] - 2s 168us/step - loss: 0.0393 - acc: 0.9961 - val_loss: 0.3032 - val_acc: 0.8795\n",
            "Epoch 36/120\n",
            "10000/10000 [==============================] - 2s 169us/step - loss: 0.0383 - acc: 0.9968 - val_loss: 0.3035 - val_acc: 0.8789\n",
            "Epoch 37/120\n",
            "10000/10000 [==============================] - 2s 167us/step - loss: 0.0374 - acc: 0.9965 - val_loss: 0.3041 - val_acc: 0.8788\n",
            "Epoch 38/120\n",
            "10000/10000 [==============================] - 2s 168us/step - loss: 0.0366 - acc: 0.9968 - val_loss: 0.3061 - val_acc: 0.8784\n",
            "Epoch 39/120\n",
            "10000/10000 [==============================] - 2s 168us/step - loss: 0.0357 - acc: 0.9969 - val_loss: 0.3060 - val_acc: 0.8789\n",
            "Epoch 40/120\n",
            "10000/10000 [==============================] - 2s 169us/step - loss: 0.0349 - acc: 0.9970 - val_loss: 0.3064 - val_acc: 0.8787\n",
            "Epoch 41/120\n",
            "10000/10000 [==============================] - 2s 168us/step - loss: 0.0340 - acc: 0.9970 - val_loss: 0.3093 - val_acc: 0.8783\n",
            "Epoch 42/120\n",
            "10000/10000 [==============================] - 2s 167us/step - loss: 0.0332 - acc: 0.9974 - val_loss: 0.3088 - val_acc: 0.8781\n",
            "Epoch 43/120\n",
            "10000/10000 [==============================] - 2s 168us/step - loss: 0.0324 - acc: 0.9975 - val_loss: 0.3095 - val_acc: 0.8783\n",
            "Epoch 44/120\n",
            "10000/10000 [==============================] - 2s 168us/step - loss: 0.0317 - acc: 0.9973 - val_loss: 0.3117 - val_acc: 0.8781\n",
            "Epoch 45/120\n",
            "10000/10000 [==============================] - 2s 167us/step - loss: 0.0309 - acc: 0.9978 - val_loss: 0.3123 - val_acc: 0.8778\n",
            "Epoch 46/120\n",
            "10000/10000 [==============================] - 2s 169us/step - loss: 0.0302 - acc: 0.9979 - val_loss: 0.3120 - val_acc: 0.8781\n",
            "Epoch 47/120\n",
            "10000/10000 [==============================] - 2s 166us/step - loss: 0.0295 - acc: 0.9978 - val_loss: 0.3142 - val_acc: 0.8777\n",
            "Epoch 48/120\n",
            "10000/10000 [==============================] - 2s 166us/step - loss: 0.0287 - acc: 0.9980 - val_loss: 0.3171 - val_acc: 0.8764\n",
            "Epoch 49/120\n",
            "10000/10000 [==============================] - 2s 169us/step - loss: 0.0281 - acc: 0.9980 - val_loss: 0.3156 - val_acc: 0.8778\n",
            "Epoch 50/120\n",
            "10000/10000 [==============================] - 2s 168us/step - loss: 0.0274 - acc: 0.9981 - val_loss: 0.3168 - val_acc: 0.8773\n",
            "Epoch 51/120\n",
            "10000/10000 [==============================] - 2s 169us/step - loss: 0.0267 - acc: 0.9982 - val_loss: 0.3173 - val_acc: 0.8781\n",
            "Epoch 52/120\n",
            "10000/10000 [==============================] - 2s 169us/step - loss: 0.0261 - acc: 0.9982 - val_loss: 0.3198 - val_acc: 0.8761\n",
            "Epoch 53/120\n",
            "10000/10000 [==============================] - 2s 167us/step - loss: 0.0255 - acc: 0.9981 - val_loss: 0.3192 - val_acc: 0.8780\n",
            "Epoch 54/120\n",
            "10000/10000 [==============================] - 2s 168us/step - loss: 0.0249 - acc: 0.9983 - val_loss: 0.3218 - val_acc: 0.8757\n",
            "Epoch 55/120\n",
            "10000/10000 [==============================] - 2s 168us/step - loss: 0.0243 - acc: 0.9984 - val_loss: 0.3239 - val_acc: 0.8754\n",
            "Epoch 56/120\n",
            "10000/10000 [==============================] - 2s 168us/step - loss: 0.0236 - acc: 0.9985 - val_loss: 0.3257 - val_acc: 0.8750\n",
            "Epoch 57/120\n",
            "10000/10000 [==============================] - 2s 168us/step - loss: 0.0231 - acc: 0.9985 - val_loss: 0.3244 - val_acc: 0.8761\n",
            "Epoch 58/120\n",
            "10000/10000 [==============================] - 2s 167us/step - loss: 0.0225 - acc: 0.9987 - val_loss: 0.3256 - val_acc: 0.8758\n",
            "Epoch 59/120\n",
            "10000/10000 [==============================] - 2s 168us/step - loss: 0.0220 - acc: 0.9988 - val_loss: 0.3279 - val_acc: 0.8757\n",
            "Epoch 60/120\n",
            "10000/10000 [==============================] - 2s 168us/step - loss: 0.0215 - acc: 0.9987 - val_loss: 0.3273 - val_acc: 0.8762\n",
            "Epoch 61/120\n",
            "10000/10000 [==============================] - 2s 169us/step - loss: 0.0209 - acc: 0.9988 - val_loss: 0.3306 - val_acc: 0.8748\n",
            "Epoch 62/120\n",
            "10000/10000 [==============================] - 2s 171us/step - loss: 0.0204 - acc: 0.9989 - val_loss: 0.3305 - val_acc: 0.8748\n",
            "Epoch 63/120\n",
            "10000/10000 [==============================] - 2s 171us/step - loss: 0.0199 - acc: 0.9988 - val_loss: 0.3322 - val_acc: 0.8745\n",
            "Epoch 64/120\n",
            "10000/10000 [==============================] - 2s 171us/step - loss: 0.0194 - acc: 0.9989 - val_loss: 0.3336 - val_acc: 0.8746\n",
            "Epoch 65/120\n",
            "10000/10000 [==============================] - 2s 173us/step - loss: 0.0189 - acc: 0.9988 - val_loss: 0.3336 - val_acc: 0.8757\n",
            "Epoch 66/120\n",
            "10000/10000 [==============================] - 2s 169us/step - loss: 0.0184 - acc: 0.9990 - val_loss: 0.3341 - val_acc: 0.8765\n",
            "Epoch 67/120\n",
            "10000/10000 [==============================] - 2s 170us/step - loss: 0.0180 - acc: 0.9988 - val_loss: 0.3367 - val_acc: 0.8736\n",
            "Epoch 68/120\n",
            "10000/10000 [==============================] - 2s 171us/step - loss: 0.0176 - acc: 0.9990 - val_loss: 0.3370 - val_acc: 0.8755\n",
            "Epoch 69/120\n",
            "10000/10000 [==============================] - 2s 169us/step - loss: 0.0171 - acc: 0.9990 - val_loss: 0.3383 - val_acc: 0.8751\n",
            "Epoch 70/120\n",
            "10000/10000 [==============================] - 2s 168us/step - loss: 0.0167 - acc: 0.9989 - val_loss: 0.3402 - val_acc: 0.8742\n",
            "Epoch 71/120\n",
            "10000/10000 [==============================] - 2s 168us/step - loss: 0.0163 - acc: 0.9991 - val_loss: 0.3421 - val_acc: 0.8734\n",
            "Epoch 72/120\n",
            "10000/10000 [==============================] - 2s 170us/step - loss: 0.0158 - acc: 0.9992 - val_loss: 0.3424 - val_acc: 0.8742\n",
            "Epoch 73/120\n",
            "10000/10000 [==============================] - 2s 166us/step - loss: 0.0154 - acc: 0.9991 - val_loss: 0.3485 - val_acc: 0.8718\n",
            "Epoch 74/120\n",
            "10000/10000 [==============================] - 2s 169us/step - loss: 0.0151 - acc: 0.9991 - val_loss: 0.3481 - val_acc: 0.8730\n",
            "Epoch 75/120\n",
            "10000/10000 [==============================] - 2s 167us/step - loss: 0.0147 - acc: 0.9994 - val_loss: 0.3471 - val_acc: 0.8739\n",
            "Epoch 76/120\n",
            "10000/10000 [==============================] - 2s 168us/step - loss: 0.0143 - acc: 0.9994 - val_loss: 0.3482 - val_acc: 0.8741\n",
            "Epoch 77/120\n",
            "10000/10000 [==============================] - 2s 168us/step - loss: 0.0139 - acc: 0.9994 - val_loss: 0.3498 - val_acc: 0.8739\n",
            "Epoch 78/120\n",
            "10000/10000 [==============================] - 2s 166us/step - loss: 0.0136 - acc: 0.9995 - val_loss: 0.3509 - val_acc: 0.8739\n",
            "Epoch 79/120\n",
            "10000/10000 [==============================] - 2s 168us/step - loss: 0.0132 - acc: 0.9996 - val_loss: 0.3544 - val_acc: 0.8725\n",
            "Epoch 80/120\n",
            "10000/10000 [==============================] - 2s 168us/step - loss: 0.0129 - acc: 0.9996 - val_loss: 0.3553 - val_acc: 0.8731\n",
            "Epoch 81/120\n",
            "10000/10000 [==============================] - 2s 167us/step - loss: 0.0126 - acc: 0.9996 - val_loss: 0.3542 - val_acc: 0.8732\n",
            "Epoch 82/120\n",
            "10000/10000 [==============================] - 2s 168us/step - loss: 0.0123 - acc: 0.9996 - val_loss: 0.3578 - val_acc: 0.8721\n",
            "Epoch 83/120\n",
            "10000/10000 [==============================] - 2s 167us/step - loss: 0.0119 - acc: 0.9996 - val_loss: 0.3581 - val_acc: 0.8733\n",
            "Epoch 84/120\n",
            "10000/10000 [==============================] - 2s 170us/step - loss: 0.0116 - acc: 0.9996 - val_loss: 0.3597 - val_acc: 0.8729\n",
            "Epoch 85/120\n",
            "10000/10000 [==============================] - 2s 169us/step - loss: 0.0113 - acc: 0.9996 - val_loss: 0.3604 - val_acc: 0.8725\n",
            "Epoch 86/120\n",
            "10000/10000 [==============================] - 2s 167us/step - loss: 0.0110 - acc: 0.9996 - val_loss: 0.3649 - val_acc: 0.8703\n",
            "Epoch 87/120\n",
            "10000/10000 [==============================] - 2s 168us/step - loss: 0.0108 - acc: 0.9998 - val_loss: 0.3638 - val_acc: 0.8726\n",
            "Epoch 88/120\n",
            "10000/10000 [==============================] - 2s 169us/step - loss: 0.0105 - acc: 0.9997 - val_loss: 0.3650 - val_acc: 0.8726\n",
            "Epoch 89/120\n",
            "10000/10000 [==============================] - 2s 167us/step - loss: 0.0102 - acc: 0.9997 - val_loss: 0.3660 - val_acc: 0.8727\n",
            "Epoch 90/120\n",
            "10000/10000 [==============================] - 2s 170us/step - loss: 0.0099 - acc: 0.9998 - val_loss: 0.3674 - val_acc: 0.8724\n",
            "Epoch 91/120\n",
            "10000/10000 [==============================] - 2s 168us/step - loss: 0.0097 - acc: 0.9998 - val_loss: 0.3691 - val_acc: 0.8721\n",
            "Epoch 92/120\n",
            "10000/10000 [==============================] - 2s 167us/step - loss: 0.0094 - acc: 0.9998 - val_loss: 0.3717 - val_acc: 0.8706\n",
            "Epoch 93/120\n",
            "10000/10000 [==============================] - 2s 169us/step - loss: 0.0092 - acc: 0.9998 - val_loss: 0.3720 - val_acc: 0.8724\n",
            "Epoch 94/120\n",
            "10000/10000 [==============================] - 2s 168us/step - loss: 0.0089 - acc: 0.9998 - val_loss: 0.3747 - val_acc: 0.8704\n",
            "Epoch 95/120\n",
            "10000/10000 [==============================] - 2s 169us/step - loss: 0.0087 - acc: 0.9998 - val_loss: 0.3757 - val_acc: 0.8708\n",
            "Epoch 96/120\n",
            "10000/10000 [==============================] - 2s 168us/step - loss: 0.0085 - acc: 0.9998 - val_loss: 0.3777 - val_acc: 0.8705\n",
            "Epoch 97/120\n",
            "10000/10000 [==============================] - 2s 167us/step - loss: 0.0082 - acc: 0.9998 - val_loss: 0.3798 - val_acc: 0.8704\n",
            "Epoch 98/120\n",
            "10000/10000 [==============================] - 2s 168us/step - loss: 0.0080 - acc: 0.9998 - val_loss: 0.3809 - val_acc: 0.8704\n",
            "Epoch 99/120\n",
            "10000/10000 [==============================] - 2s 168us/step - loss: 0.0078 - acc: 0.9999 - val_loss: 0.3824 - val_acc: 0.8697\n",
            "Epoch 100/120\n",
            "10000/10000 [==============================] - 2s 169us/step - loss: 0.0076 - acc: 0.9998 - val_loss: 0.3836 - val_acc: 0.8708\n",
            "Epoch 101/120\n",
            "10000/10000 [==============================] - 2s 169us/step - loss: 0.0074 - acc: 0.9999 - val_loss: 0.3863 - val_acc: 0.8698\n",
            "Epoch 102/120\n",
            "10000/10000 [==============================] - 2s 168us/step - loss: 0.0072 - acc: 0.9999 - val_loss: 0.3874 - val_acc: 0.8700\n",
            "Epoch 103/120\n",
            "10000/10000 [==============================] - 2s 167us/step - loss: 0.0070 - acc: 0.9999 - val_loss: 0.3907 - val_acc: 0.8684\n",
            "Epoch 104/120\n",
            "10000/10000 [==============================] - 2s 168us/step - loss: 0.0068 - acc: 0.9999 - val_loss: 0.3907 - val_acc: 0.8699\n",
            "Epoch 105/120\n",
            "10000/10000 [==============================] - 2s 166us/step - loss: 0.0066 - acc: 0.9999 - val_loss: 0.3908 - val_acc: 0.8711\n",
            "Epoch 106/120\n",
            "10000/10000 [==============================] - 2s 168us/step - loss: 0.0065 - acc: 0.9999 - val_loss: 0.3954 - val_acc: 0.8682\n",
            "Epoch 107/120\n",
            "10000/10000 [==============================] - 2s 169us/step - loss: 0.0063 - acc: 0.9999 - val_loss: 0.3944 - val_acc: 0.8701\n",
            "Epoch 108/120\n",
            "10000/10000 [==============================] - 2s 167us/step - loss: 0.0061 - acc: 0.9999 - val_loss: 0.3984 - val_acc: 0.8684\n",
            "Epoch 109/120\n",
            " 2624/10000 [======>.......................] - ETA: 0s - loss: 0.0058 - acc: 1.0000"
          ],
          "name": "stdout"
        },
        {
          "output_type": "error",
          "ename": "KeyboardInterrupt",
          "evalue": "ignored",
          "traceback": [
            "\u001b[0;31m---------------------------------------------------------------------------\u001b[0m",
            "\u001b[0;31mKeyboardInterrupt\u001b[0m                         Traceback (most recent call last)",
            "\u001b[0;32m<ipython-input-43-0cb09bc2fd35>\u001b[0m in \u001b[0;36m<module>\u001b[0;34m()\u001b[0m\n\u001b[0;32m----> 1\u001b[0;31m \u001b[0mhistory_attention\u001b[0m\u001b[0;34m=\u001b[0m\u001b[0mmodel\u001b[0m\u001b[0;34m.\u001b[0m\u001b[0mfit\u001b[0m\u001b[0;34m(\u001b[0m\u001b[0mX_train_pad\u001b[0m\u001b[0;34m,\u001b[0m \u001b[0my_train\u001b[0m\u001b[0;34m,\u001b[0m \u001b[0mbatch_size\u001b[0m\u001b[0;34m=\u001b[0m\u001b[0;36m64\u001b[0m\u001b[0;34m,\u001b[0m \u001b[0mepochs\u001b[0m\u001b[0;34m=\u001b[0m\u001b[0;36m120\u001b[0m\u001b[0;34m,\u001b[0m \u001b[0mvalidation_data\u001b[0m\u001b[0;34m=\u001b[0m\u001b[0;34m(\u001b[0m\u001b[0mX_val_pad\u001b[0m\u001b[0;34m,\u001b[0m \u001b[0my_val\u001b[0m\u001b[0;34m)\u001b[0m\u001b[0;34m,\u001b[0m \u001b[0mverbose\u001b[0m\u001b[0;34m=\u001b[0m\u001b[0;36m1\u001b[0m\u001b[0;34m)\u001b[0m\u001b[0;34m\u001b[0m\u001b[0;34m\u001b[0m\u001b[0m\n\u001b[0m",
            "\u001b[0;32m/usr/local/lib/python3.6/dist-packages/keras/engine/training.py\u001b[0m in \u001b[0;36mfit\u001b[0;34m(self, x, y, batch_size, epochs, verbose, callbacks, validation_split, validation_data, shuffle, class_weight, sample_weight, initial_epoch, steps_per_epoch, validation_steps, **kwargs)\u001b[0m\n\u001b[1;32m   1037\u001b[0m                                         \u001b[0minitial_epoch\u001b[0m\u001b[0;34m=\u001b[0m\u001b[0minitial_epoch\u001b[0m\u001b[0;34m,\u001b[0m\u001b[0;34m\u001b[0m\u001b[0;34m\u001b[0m\u001b[0m\n\u001b[1;32m   1038\u001b[0m                                         \u001b[0msteps_per_epoch\u001b[0m\u001b[0;34m=\u001b[0m\u001b[0msteps_per_epoch\u001b[0m\u001b[0;34m,\u001b[0m\u001b[0;34m\u001b[0m\u001b[0;34m\u001b[0m\u001b[0m\n\u001b[0;32m-> 1039\u001b[0;31m                                         validation_steps=validation_steps)\n\u001b[0m\u001b[1;32m   1040\u001b[0m \u001b[0;34m\u001b[0m\u001b[0m\n\u001b[1;32m   1041\u001b[0m     def evaluate(self, x=None, y=None,\n",
            "\u001b[0;32m/usr/local/lib/python3.6/dist-packages/keras/engine/training_arrays.py\u001b[0m in \u001b[0;36mfit_loop\u001b[0;34m(model, f, ins, out_labels, batch_size, epochs, verbose, callbacks, val_f, val_ins, shuffle, callback_metrics, initial_epoch, steps_per_epoch, validation_steps)\u001b[0m\n\u001b[1;32m    197\u001b[0m                     \u001b[0mins_batch\u001b[0m\u001b[0;34m[\u001b[0m\u001b[0mi\u001b[0m\u001b[0;34m]\u001b[0m \u001b[0;34m=\u001b[0m \u001b[0mins_batch\u001b[0m\u001b[0;34m[\u001b[0m\u001b[0mi\u001b[0m\u001b[0;34m]\u001b[0m\u001b[0;34m.\u001b[0m\u001b[0mtoarray\u001b[0m\u001b[0;34m(\u001b[0m\u001b[0;34m)\u001b[0m\u001b[0;34m\u001b[0m\u001b[0;34m\u001b[0m\u001b[0m\n\u001b[1;32m    198\u001b[0m \u001b[0;34m\u001b[0m\u001b[0m\n\u001b[0;32m--> 199\u001b[0;31m                 \u001b[0mouts\u001b[0m \u001b[0;34m=\u001b[0m \u001b[0mf\u001b[0m\u001b[0;34m(\u001b[0m\u001b[0mins_batch\u001b[0m\u001b[0;34m)\u001b[0m\u001b[0;34m\u001b[0m\u001b[0;34m\u001b[0m\u001b[0m\n\u001b[0m\u001b[1;32m    200\u001b[0m                 \u001b[0mouts\u001b[0m \u001b[0;34m=\u001b[0m \u001b[0mto_list\u001b[0m\u001b[0;34m(\u001b[0m\u001b[0mouts\u001b[0m\u001b[0;34m)\u001b[0m\u001b[0;34m\u001b[0m\u001b[0;34m\u001b[0m\u001b[0m\n\u001b[1;32m    201\u001b[0m                 \u001b[0;32mfor\u001b[0m \u001b[0ml\u001b[0m\u001b[0;34m,\u001b[0m \u001b[0mo\u001b[0m \u001b[0;32min\u001b[0m \u001b[0mzip\u001b[0m\u001b[0;34m(\u001b[0m\u001b[0mout_labels\u001b[0m\u001b[0;34m,\u001b[0m \u001b[0mouts\u001b[0m\u001b[0;34m)\u001b[0m\u001b[0;34m:\u001b[0m\u001b[0;34m\u001b[0m\u001b[0;34m\u001b[0m\u001b[0m\n",
            "\u001b[0;32m/usr/local/lib/python3.6/dist-packages/keras/backend/tensorflow_backend.py\u001b[0m in \u001b[0;36m__call__\u001b[0;34m(self, inputs)\u001b[0m\n\u001b[1;32m   2713\u001b[0m                 \u001b[0;32mreturn\u001b[0m \u001b[0mself\u001b[0m\u001b[0;34m.\u001b[0m\u001b[0m_legacy_call\u001b[0m\u001b[0;34m(\u001b[0m\u001b[0minputs\u001b[0m\u001b[0;34m)\u001b[0m\u001b[0;34m\u001b[0m\u001b[0;34m\u001b[0m\u001b[0m\n\u001b[1;32m   2714\u001b[0m \u001b[0;34m\u001b[0m\u001b[0m\n\u001b[0;32m-> 2715\u001b[0;31m             \u001b[0;32mreturn\u001b[0m \u001b[0mself\u001b[0m\u001b[0;34m.\u001b[0m\u001b[0m_call\u001b[0m\u001b[0;34m(\u001b[0m\u001b[0minputs\u001b[0m\u001b[0;34m)\u001b[0m\u001b[0;34m\u001b[0m\u001b[0;34m\u001b[0m\u001b[0m\n\u001b[0m\u001b[1;32m   2716\u001b[0m         \u001b[0;32melse\u001b[0m\u001b[0;34m:\u001b[0m\u001b[0;34m\u001b[0m\u001b[0;34m\u001b[0m\u001b[0m\n\u001b[1;32m   2717\u001b[0m             \u001b[0;32mif\u001b[0m \u001b[0mpy_any\u001b[0m\u001b[0;34m(\u001b[0m\u001b[0mis_tensor\u001b[0m\u001b[0;34m(\u001b[0m\u001b[0mx\u001b[0m\u001b[0;34m)\u001b[0m \u001b[0;32mfor\u001b[0m \u001b[0mx\u001b[0m \u001b[0;32min\u001b[0m \u001b[0minputs\u001b[0m\u001b[0;34m)\u001b[0m\u001b[0;34m:\u001b[0m\u001b[0;34m\u001b[0m\u001b[0;34m\u001b[0m\u001b[0m\n",
            "\u001b[0;32m/usr/local/lib/python3.6/dist-packages/keras/backend/tensorflow_backend.py\u001b[0m in \u001b[0;36m_call\u001b[0;34m(self, inputs)\u001b[0m\n\u001b[1;32m   2673\u001b[0m             \u001b[0mfetched\u001b[0m \u001b[0;34m=\u001b[0m \u001b[0mself\u001b[0m\u001b[0;34m.\u001b[0m\u001b[0m_callable_fn\u001b[0m\u001b[0;34m(\u001b[0m\u001b[0;34m*\u001b[0m\u001b[0marray_vals\u001b[0m\u001b[0;34m,\u001b[0m \u001b[0mrun_metadata\u001b[0m\u001b[0;34m=\u001b[0m\u001b[0mself\u001b[0m\u001b[0;34m.\u001b[0m\u001b[0mrun_metadata\u001b[0m\u001b[0;34m)\u001b[0m\u001b[0;34m\u001b[0m\u001b[0;34m\u001b[0m\u001b[0m\n\u001b[1;32m   2674\u001b[0m         \u001b[0;32melse\u001b[0m\u001b[0;34m:\u001b[0m\u001b[0;34m\u001b[0m\u001b[0;34m\u001b[0m\u001b[0m\n\u001b[0;32m-> 2675\u001b[0;31m             \u001b[0mfetched\u001b[0m \u001b[0;34m=\u001b[0m \u001b[0mself\u001b[0m\u001b[0;34m.\u001b[0m\u001b[0m_callable_fn\u001b[0m\u001b[0;34m(\u001b[0m\u001b[0;34m*\u001b[0m\u001b[0marray_vals\u001b[0m\u001b[0;34m)\u001b[0m\u001b[0;34m\u001b[0m\u001b[0;34m\u001b[0m\u001b[0m\n\u001b[0m\u001b[1;32m   2676\u001b[0m         \u001b[0;32mreturn\u001b[0m \u001b[0mfetched\u001b[0m\u001b[0;34m[\u001b[0m\u001b[0;34m:\u001b[0m\u001b[0mlen\u001b[0m\u001b[0;34m(\u001b[0m\u001b[0mself\u001b[0m\u001b[0;34m.\u001b[0m\u001b[0moutputs\u001b[0m\u001b[0;34m)\u001b[0m\u001b[0;34m]\u001b[0m\u001b[0;34m\u001b[0m\u001b[0;34m\u001b[0m\u001b[0m\n\u001b[1;32m   2677\u001b[0m \u001b[0;34m\u001b[0m\u001b[0m\n",
            "\u001b[0;32m/usr/local/lib/python3.6/dist-packages/tensorflow/python/client/session.py\u001b[0m in \u001b[0;36m__call__\u001b[0;34m(self, *args, **kwargs)\u001b[0m\n\u001b[1;32m   1456\u001b[0m         ret = tf_session.TF_SessionRunCallable(self._session._session,\n\u001b[1;32m   1457\u001b[0m                                                \u001b[0mself\u001b[0m\u001b[0;34m.\u001b[0m\u001b[0m_handle\u001b[0m\u001b[0;34m,\u001b[0m \u001b[0margs\u001b[0m\u001b[0;34m,\u001b[0m\u001b[0;34m\u001b[0m\u001b[0;34m\u001b[0m\u001b[0m\n\u001b[0;32m-> 1458\u001b[0;31m                                                run_metadata_ptr)\n\u001b[0m\u001b[1;32m   1459\u001b[0m         \u001b[0;32mif\u001b[0m \u001b[0mrun_metadata\u001b[0m\u001b[0;34m:\u001b[0m\u001b[0;34m\u001b[0m\u001b[0;34m\u001b[0m\u001b[0m\n\u001b[1;32m   1460\u001b[0m           \u001b[0mproto_data\u001b[0m \u001b[0;34m=\u001b[0m \u001b[0mtf_session\u001b[0m\u001b[0;34m.\u001b[0m\u001b[0mTF_GetBuffer\u001b[0m\u001b[0;34m(\u001b[0m\u001b[0mrun_metadata_ptr\u001b[0m\u001b[0;34m)\u001b[0m\u001b[0;34m\u001b[0m\u001b[0;34m\u001b[0m\u001b[0m\n",
            "\u001b[0;31mKeyboardInterrupt\u001b[0m: "
          ]
        }
      ]
    },
    {
      "cell_type": "code",
      "metadata": {
        "id": "6BVTwphlwMnw",
        "colab_type": "code",
        "outputId": "aa1f6125-fac4-41d3-af17-e6317dbb6422",
        "colab": {
          "base_uri": "https://localhost:8080/",
          "height": 102
        }
      },
      "source": [
        "y_pred = (model.predict(X_test_pad)>0.5)*1\n",
        "y_pred=y_pred.reshape(len(y_pred))\n",
        "print(pd.crosstab(y_test, y_pred,rownames=['true'], colnames=['pred']))\n",
        "print(\"Acc = \",np.sum(y_test==y_pred)/len(y_test))"
      ],
      "execution_count": 0,
      "outputs": [
        {
          "output_type": "stream",
          "text": [
            "pred     0     1\n",
            "true            \n",
            "0     2234   273\n",
            "1      263  2230\n",
            "Acc =  0.8928\n"
          ],
          "name": "stdout"
        }
      ]
    },
    {
      "cell_type": "code",
      "metadata": {
        "id": "VkCIJaW3wMwM",
        "colab_type": "code",
        "outputId": "88f32cd3-abb9-4574-c570-c2384c4d18ab",
        "colab": {
          "base_uri": "https://localhost:8080/",
          "height": 54
        }
      },
      "source": [
        "X[5]"
      ],
      "execution_count": 0,
      "outputs": [
        {
          "output_type": "execute_result",
          "data": {
            "text/plain": [
              "\"Only watched this to see Joe Morton in an early role and honestly wished I hadn't bothered, he can and has since, done much better than this crap. Cannot understand why anyone finds this kind of stupidity funny but each to his own; it is an absolute mess and not funny in the least. No wait, ONE line only was funny, where Mr Kent (Joe) and his family are having dinner with this nut job as he's been invited for dinner (Lord alone knows why). Pest to Mr Kent: You know what it's like dog, you've been there Mrs Kent: Not lately, Joe's expression was funny but that's it one line does not make a great comedy and this tat is so far away from being funny it should be consigned to the nearest trash cart, it's only good enough for that. Joe Morton - glad to see you don't appear in rubbish like this anymore; you are far superior and a great great actor.\""
            ]
          },
          "metadata": {
            "tags": []
          },
          "execution_count": 138
        }
      ]
    },
    {
      "cell_type": "code",
      "metadata": {
        "id": "jlabaVGTDWPP",
        "colab_type": "code",
        "outputId": "3e5d1ead-64e1-46e1-a45b-28697232e5d6",
        "colab": {
          "base_uri": "https://localhost:8080/",
          "height": 34
        }
      },
      "source": [
        "len(X[5])"
      ],
      "execution_count": 0,
      "outputs": [
        {
          "output_type": "execute_result",
          "data": {
            "text/plain": [
              "853"
            ]
          },
          "metadata": {
            "tags": []
          },
          "execution_count": 139
        }
      ]
    },
    {
      "cell_type": "code",
      "metadata": {
        "id": "r-VnN1DjwM1J",
        "colab_type": "code",
        "colab": {}
      },
      "source": [
        "model_attention_weights=Model(inputs=a, outputs=attention_1)\n"
      ],
      "execution_count": 0,
      "outputs": []
    },
    {
      "cell_type": "code",
      "metadata": {
        "id": "o0DgJ6VYwM5L",
        "colab_type": "code",
        "colab": {}
      },
      "source": [
        "weights=model_attention_weights.predict(X_train_pad)"
      ],
      "execution_count": 0,
      "outputs": []
    },
    {
      "cell_type": "code",
      "metadata": {
        "id": "_2QUULSG_yft",
        "colab_type": "code",
        "outputId": "77ecf10f-4e80-44a9-a3f2-95f53a10b9b6",
        "colab": {
          "base_uri": "https://localhost:8080/",
          "height": 51
        }
      },
      "source": [
        "print(model.predict(X_train_pad[5:6]))\n",
        "print(y[5])"
      ],
      "execution_count": 0,
      "outputs": [
        {
          "output_type": "stream",
          "text": [
            "[[0.05689497]]\n",
            "0\n"
          ],
          "name": "stdout"
        }
      ]
    },
    {
      "cell_type": "code",
      "metadata": {
        "id": "6GGrGEL4wNCQ",
        "colab_type": "code",
        "outputId": "f8bb3aee-f0e5-498a-9338-578f42e59505",
        "colab": {
          "base_uri": "https://localhost:8080/",
          "height": 34
        }
      },
      "source": [
        "weights.shape"
      ],
      "execution_count": 0,
      "outputs": [
        {
          "output_type": "execute_result",
          "data": {
            "text/plain": [
              "(10000, 2381)"
            ]
          },
          "metadata": {
            "tags": []
          },
          "execution_count": 144
        }
      ]
    },
    {
      "cell_type": "code",
      "metadata": {
        "id": "P5A54L2AwNGe",
        "colab_type": "code",
        "outputId": "01b8039c-3a47-4e98-b895-2ad05fd979e0",
        "colab": {
          "base_uri": "https://localhost:8080/",
          "height": 51
        }
      },
      "source": [
        "weights[5]"
      ],
      "execution_count": 0,
      "outputs": [
        {
          "output_type": "execute_result",
          "data": {
            "text/plain": [
              "array([0.00254924, 0.00254924, 0.00034501, ..., 0.000345  , 0.000345  ,\n",
              "       0.000345  ], dtype=float32)"
            ]
          },
          "metadata": {
            "tags": []
          },
          "execution_count": 145
        }
      ]
    },
    {
      "cell_type": "code",
      "metadata": {
        "id": "GU-NhFPwr8kQ",
        "colab_type": "code",
        "outputId": "c7b3cd06-2963-4640-eaf7-7f20f747026c",
        "colab": {
          "base_uri": "https://localhost:8080/",
          "height": 422
        }
      },
      "source": [
        "plt.hist(weights[5],bins=20)"
      ],
      "execution_count": 0,
      "outputs": [
        {
          "output_type": "execute_result",
          "data": {
            "text/plain": [
              "(array([2300.,    0.,    0.,    0.,    0.,    0.,    0.,    0.,    0.,\n",
              "           0.,    0.,    0.,    0.,    0.,    0.,    0.,    0.,    0.,\n",
              "           0.,   81.]),\n",
              " array([0.000345  , 0.00045521, 0.00056543, 0.00067564, 0.00078585,\n",
              "        0.00089606, 0.00100627, 0.00111648, 0.0012267 , 0.00133691,\n",
              "        0.00144712, 0.00155733, 0.00166754, 0.00177775, 0.00188797,\n",
              "        0.00199818, 0.00210839, 0.0022186 , 0.00232881, 0.00243902,\n",
              "        0.00254924], dtype=float32),\n",
              " <a list of 20 Patch objects>)"
            ]
          },
          "metadata": {
            "tags": []
          },
          "execution_count": 146
        },
        {
          "output_type": "display_data",
          "data": {
            "image/png": "[encoded data removed]",
            "text/plain": [
              "<Figure size 432x288 with 1 Axes>"
            ]
          },
          "metadata": {
            "tags": []
          }
        }
      ]
    },
    {
      "cell_type": "code",
      "metadata": {
        "id": "WaBKjyefr8hR",
        "colab_type": "code",
        "outputId": "f20836e9-2220-4fe4-9129-abfacc97e900",
        "colab": {
          "base_uri": "https://localhost:8080/",
          "height": 422
        }
      },
      "source": [
        "plt.hist(weights[5][-len(X[5]):],bins=20)"
      ],
      "execution_count": 0,
      "outputs": [
        {
          "output_type": "execute_result",
          "data": {
            "text/plain": [
              "(array([  0.,   0.,   0.,   0.,   0.,   0.,   0.,   0.,   0.,   0., 853.,\n",
              "          0.,   0.,   0.,   0.,   0.,   0.,   0.,   0.,   0.]),\n",
              " array([-4.9965501e-01, -4.4965500e-01, -3.9965498e-01, -3.4965500e-01,\n",
              "        -2.9965499e-01, -2.4965499e-01, -1.9965500e-01, -1.4965500e-01,\n",
              "        -9.9654995e-02, -4.9654994e-02,  3.4500423e-04,  5.0345004e-02,\n",
              "         1.0034500e-01,  1.5034500e-01,  2.0034501e-01,  2.5034499e-01,\n",
              "         3.0034500e-01,  3.5034502e-01,  4.0034500e-01,  4.5034501e-01,\n",
              "         5.0034499e-01], dtype=float32),\n",
              " <a list of 20 Patch objects>)"
            ]
          },
          "metadata": {
            "tags": []
          },
          "execution_count": 148
        },
        {
          "output_type": "display_data",
          "data": {
            "image/png": "[encoded data removed]",
            "text/plain": [
              "<Figure size 432x288 with 1 Axes>"
            ]
          },
          "metadata": {
            "tags": []
          }
        }
      ]
    },
    {
      "cell_type": "code",
      "metadata": {
        "id": "513Wk8sGDluf",
        "colab_type": "code",
        "outputId": "b5c0ef03-60f3-42b9-d05c-d817abb9bf32",
        "colab": {
          "base_uri": "https://localhost:8080/",
          "height": 34
        }
      },
      "source": [
        "np.unique(weights[5][-len(X[5]):])"
      ],
      "execution_count": 0,
      "outputs": [
        {
          "output_type": "execute_result",
          "data": {
            "text/plain": [
              "array([0.000345], dtype=float32)"
            ]
          },
          "metadata": {
            "tags": []
          },
          "execution_count": 149
        }
      ]
    },
    {
      "cell_type": "code",
      "metadata": {
        "id": "Lb8cnnbLAZyG",
        "colab_type": "code",
        "colab": {}
      },
      "source": [
        ""
      ],
      "execution_count": 0,
      "outputs": []
    },
    {
      "cell_type": "code",
      "metadata": {
        "id": "Kt5eEkfGAZvP",
        "colab_type": "code",
        "colab": {}
      },
      "source": [
        ""
      ],
      "execution_count": 0,
      "outputs": []
    },
    {
      "cell_type": "code",
      "metadata": {
        "id": "7DgqDLfyAZsf",
        "colab_type": "code",
        "colab": {}
      },
      "source": [
        ""
      ],
      "execution_count": 0,
      "outputs": []
    },
    {
      "cell_type": "code",
      "metadata": {
        "id": "AKAbiCuVAZpp",
        "colab_type": "code",
        "colab": {}
      },
      "source": [
        ""
      ],
      "execution_count": 0,
      "outputs": []
    },
    {
      "cell_type": "markdown",
      "metadata": {
        "id": "QhrS0yPLOfgI",
        "colab_type": "text"
      },
      "source": [
        "prediction on the test set with the accuracy and the confusion matrix. Are we better than the RF baseline?"
      ]
    },
    {
      "cell_type": "markdown",
      "metadata": {
        "id": "R_a9qkStOfgN",
        "colab_type": "text"
      },
      "source": [
        "\n",
        "### We need to go deeper! \n",
        "Write your own review or test the model on some reviews of Inception or some other movie, note that we can use an arbitrary length for the review.  \n",
        "Visit: https://www.imdb.com/title/tt1375666/reviews?ref_=tt_ov_rt  \n",
        "remeber 0 is negative and 1 is postive"
      ]
    },
    {
      "cell_type": "code",
      "metadata": {
        "id": "BfWmcDquOfgO",
        "colab_type": "code",
        "outputId": "d1633d51-198e-4063-d3cb-cfea8447ab28",
        "colab": {
          "base_uri": "https://localhost:8080/",
          "height": 357
        }
      },
      "source": [
        "#paste new reviews here in the sample list\n",
        "sample=list([\"Inception is truly one of a kind. A concept which has long gestated in Christopher Nolan's mind, his eye for drama mixed with his large scale sensibilities ring true in Blockbuster season making Inception a true original in the sea of reboots, remakes and sequels.To try and explain Inceptions many plot twists and incredibly intelligent arcs, would be a foolish task. As Nolan himself has been reluctant to. The best way to approach the film would be with an open mind, if you are prepared to be taken on a ride of a lifetime, then trust that you 100% will. If Avatar was a seminal film in technology (although coming out as a rather poor film, in my opinion), then Inception is seminal in it's storytelling. With a 148 minute running time, you would expect a lot to take place, but what you wouldn't expect is the pace of it all. I did not think at one time in the film about how long was left. I was simply blown away by the depth in every single part of the film. If my enthusiasm for the storytelling aspect of the film has left you worried about the spectacle, then don't worry. They are, as hinted in the trailer, incredible, looking real and unbelievable simultaneously. The most pleasing thing about the action set pieces, is that they are genuinely used to illustrate the story, rather than to blow stuff up a la Michael Bay. With this complex movie in it's high concept, a stellar cast is needed. And Nolan as always, delivers with just that. This is vintage DiCaprio, perhaps only equalled in The Aviator, which is even more impressive as his role as Cobb in Inception is not a showy one, needing DiCaprio to be the constant at the centre of the film. And he pulls off Cobb's emotional contradictions sublimely. The rest of the cast members all shine in parts of the films, Cillian Murphy shows off his usually non-existent tender side, Gordon-Levitt bottles his usual charm for his confidently reserved turn as the reliable Arthur, Watanabe is devilish as the seemingly ambiguous Saito, Page shows why she's the next big female star and Tom Hardy revels in being the comic relief of the film compared to his recent turns as decidedly psychopathic characters. Overall, Nolan has indeed surpassed himself. He has created a world as expansive as his Gotham, a plot dwarfing the intricacies of Memento and one which blows The Prestige's cinematic reveal out of the water. This is truly unmissable cinema. Revel in it, we've still got to wait a whole two years before Batman 3.\",\n",
        "             \"Based on reviews I was hoping this was a different American film in the sense that it will have substance, subtlety and that it will make me think. It did not, it did not and it did not again. It is your typical Hollywood flick with car chases, shooting galore, explosions, fistfights, pretty boys and girls - the whole nine yards to sell tickets to the ADHD generation of teenagers. I gave it 3 stars - instead of just 2 - because the special effects are absolutely astonishing. This film wishes to be clever but really is not and does not make a lot of sense either. It reminded me of the teachers/professors who were confusing on purpose in order to make us believe they are smarter than we were.\"])\n",
        "sample_tokens=tokenizer.texts_to_sequences(sample)\n",
        "#print(np.array(sample_tokens))\n",
        "print(model.predict(np.array(sample_tokens[0:1])))\n",
        "print(model.predict(np.array(sample_tokens[1:2])))"
      ],
      "execution_count": 0,
      "outputs": [
        {
          "output_type": "error",
          "ename": "ValueError",
          "evalue": "ignored",
          "traceback": [
            "\u001b[0;31m---------------------------------------------------------------------------\u001b[0m",
            "\u001b[0;31mValueError\u001b[0m                                Traceback (most recent call last)",
            "\u001b[0;32m<ipython-input-127-cacb51cf0df0>\u001b[0m in \u001b[0;36m<module>\u001b[0;34m()\u001b[0m\n\u001b[1;32m      3\u001b[0m \u001b[0msample_tokens\u001b[0m\u001b[0;34m=\u001b[0m\u001b[0mtokenizer\u001b[0m\u001b[0;34m.\u001b[0m\u001b[0mtexts_to_sequences\u001b[0m\u001b[0;34m(\u001b[0m\u001b[0msample\u001b[0m\u001b[0;34m)\u001b[0m\u001b[0;34m\u001b[0m\u001b[0;34m\u001b[0m\u001b[0m\n\u001b[1;32m      4\u001b[0m \u001b[0;31m#print(np.array(sample_tokens))\u001b[0m\u001b[0;34m\u001b[0m\u001b[0;34m\u001b[0m\u001b[0;34m\u001b[0m\u001b[0m\n\u001b[0;32m----> 5\u001b[0;31m \u001b[0mprint\u001b[0m\u001b[0;34m(\u001b[0m\u001b[0mmodel\u001b[0m\u001b[0;34m.\u001b[0m\u001b[0mpredict\u001b[0m\u001b[0;34m(\u001b[0m\u001b[0mnp\u001b[0m\u001b[0;34m.\u001b[0m\u001b[0marray\u001b[0m\u001b[0;34m(\u001b[0m\u001b[0msample_tokens\u001b[0m\u001b[0;34m[\u001b[0m\u001b[0;36m0\u001b[0m\u001b[0;34m:\u001b[0m\u001b[0;36m1\u001b[0m\u001b[0;34m]\u001b[0m\u001b[0;34m)\u001b[0m\u001b[0;34m)\u001b[0m\u001b[0;34m)\u001b[0m\u001b[0;34m\u001b[0m\u001b[0;34m\u001b[0m\u001b[0m\n\u001b[0m\u001b[1;32m      6\u001b[0m \u001b[0mprint\u001b[0m\u001b[0;34m(\u001b[0m\u001b[0mmodel\u001b[0m\u001b[0;34m.\u001b[0m\u001b[0mpredict\u001b[0m\u001b[0;34m(\u001b[0m\u001b[0mnp\u001b[0m\u001b[0;34m.\u001b[0m\u001b[0marray\u001b[0m\u001b[0;34m(\u001b[0m\u001b[0msample_tokens\u001b[0m\u001b[0;34m[\u001b[0m\u001b[0;36m1\u001b[0m\u001b[0;34m:\u001b[0m\u001b[0;36m2\u001b[0m\u001b[0;34m]\u001b[0m\u001b[0;34m)\u001b[0m\u001b[0;34m)\u001b[0m\u001b[0;34m)\u001b[0m\u001b[0;34m\u001b[0m\u001b[0;34m\u001b[0m\u001b[0m\n",
            "\u001b[0;32m/usr/local/lib/python3.6/dist-packages/keras/engine/training.py\u001b[0m in \u001b[0;36mpredict\u001b[0;34m(self, x, batch_size, verbose, steps)\u001b[0m\n\u001b[1;32m   1147\u001b[0m                              'argument.')\n\u001b[1;32m   1148\u001b[0m         \u001b[0;31m# Validate user data.\u001b[0m\u001b[0;34m\u001b[0m\u001b[0;34m\u001b[0m\u001b[0;34m\u001b[0m\u001b[0m\n\u001b[0;32m-> 1149\u001b[0;31m         \u001b[0mx\u001b[0m\u001b[0;34m,\u001b[0m \u001b[0m_\u001b[0m\u001b[0;34m,\u001b[0m \u001b[0m_\u001b[0m \u001b[0;34m=\u001b[0m \u001b[0mself\u001b[0m\u001b[0;34m.\u001b[0m\u001b[0m_standardize_user_data\u001b[0m\u001b[0;34m(\u001b[0m\u001b[0mx\u001b[0m\u001b[0;34m)\u001b[0m\u001b[0;34m\u001b[0m\u001b[0;34m\u001b[0m\u001b[0m\n\u001b[0m\u001b[1;32m   1150\u001b[0m         \u001b[0;32mif\u001b[0m \u001b[0mself\u001b[0m\u001b[0;34m.\u001b[0m\u001b[0mstateful\u001b[0m\u001b[0;34m:\u001b[0m\u001b[0;34m\u001b[0m\u001b[0;34m\u001b[0m\u001b[0m\n\u001b[1;32m   1151\u001b[0m             \u001b[0;32mif\u001b[0m \u001b[0mx\u001b[0m\u001b[0;34m[\u001b[0m\u001b[0;36m0\u001b[0m\u001b[0;34m]\u001b[0m\u001b[0;34m.\u001b[0m\u001b[0mshape\u001b[0m\u001b[0;34m[\u001b[0m\u001b[0;36m0\u001b[0m\u001b[0;34m]\u001b[0m \u001b[0;34m>\u001b[0m \u001b[0mbatch_size\u001b[0m \u001b[0;32mand\u001b[0m \u001b[0mx\u001b[0m\u001b[0;34m[\u001b[0m\u001b[0;36m0\u001b[0m\u001b[0;34m]\u001b[0m\u001b[0;34m.\u001b[0m\u001b[0mshape\u001b[0m\u001b[0;34m[\u001b[0m\u001b[0;36m0\u001b[0m\u001b[0;34m]\u001b[0m \u001b[0;34m%\u001b[0m \u001b[0mbatch_size\u001b[0m \u001b[0;34m!=\u001b[0m \u001b[0;36m0\u001b[0m\u001b[0;34m:\u001b[0m\u001b[0;34m\u001b[0m\u001b[0;34m\u001b[0m\u001b[0m\n",
            "\u001b[0;32m/usr/local/lib/python3.6/dist-packages/keras/engine/training.py\u001b[0m in \u001b[0;36m_standardize_user_data\u001b[0;34m(self, x, y, sample_weight, class_weight, check_array_lengths, batch_size)\u001b[0m\n\u001b[1;32m    749\u001b[0m             \u001b[0mfeed_input_shapes\u001b[0m\u001b[0;34m,\u001b[0m\u001b[0;34m\u001b[0m\u001b[0;34m\u001b[0m\u001b[0m\n\u001b[1;32m    750\u001b[0m             \u001b[0mcheck_batch_axis\u001b[0m\u001b[0;34m=\u001b[0m\u001b[0;32mFalse\u001b[0m\u001b[0;34m,\u001b[0m  \u001b[0;31m# Don't enforce the batch size.\u001b[0m\u001b[0;34m\u001b[0m\u001b[0;34m\u001b[0m\u001b[0m\n\u001b[0;32m--> 751\u001b[0;31m             exception_prefix='input')\n\u001b[0m\u001b[1;32m    752\u001b[0m \u001b[0;34m\u001b[0m\u001b[0m\n\u001b[1;32m    753\u001b[0m         \u001b[0;32mif\u001b[0m \u001b[0my\u001b[0m \u001b[0;32mis\u001b[0m \u001b[0;32mnot\u001b[0m \u001b[0;32mNone\u001b[0m\u001b[0;34m:\u001b[0m\u001b[0;34m\u001b[0m\u001b[0;34m\u001b[0m\u001b[0m\n",
            "\u001b[0;32m/usr/local/lib/python3.6/dist-packages/keras/engine/training_utils.py\u001b[0m in \u001b[0;36mstandardize_input_data\u001b[0;34m(data, names, shapes, check_batch_axis, exception_prefix)\u001b[0m\n\u001b[1;32m    136\u001b[0m                             \u001b[0;34m': expected '\u001b[0m \u001b[0;34m+\u001b[0m \u001b[0mnames\u001b[0m\u001b[0;34m[\u001b[0m\u001b[0mi\u001b[0m\u001b[0;34m]\u001b[0m \u001b[0;34m+\u001b[0m \u001b[0;34m' to have shape '\u001b[0m \u001b[0;34m+\u001b[0m\u001b[0;34m\u001b[0m\u001b[0;34m\u001b[0m\u001b[0m\n\u001b[1;32m    137\u001b[0m                             \u001b[0mstr\u001b[0m\u001b[0;34m(\u001b[0m\u001b[0mshape\u001b[0m\u001b[0;34m)\u001b[0m \u001b[0;34m+\u001b[0m \u001b[0;34m' but got array with shape '\u001b[0m \u001b[0;34m+\u001b[0m\u001b[0;34m\u001b[0m\u001b[0;34m\u001b[0m\u001b[0m\n\u001b[0;32m--> 138\u001b[0;31m                             str(data_shape))\n\u001b[0m\u001b[1;32m    139\u001b[0m     \u001b[0;32mreturn\u001b[0m \u001b[0mdata\u001b[0m\u001b[0;34m\u001b[0m\u001b[0;34m\u001b[0m\u001b[0m\n\u001b[1;32m    140\u001b[0m \u001b[0;34m\u001b[0m\u001b[0m\n",
            "\u001b[0;31mValueError\u001b[0m: Error when checking input: expected input_20 to have shape (2381,) but got array with shape (432,)"
          ]
        }
      ]
    },
    {
      "cell_type": "markdown",
      "metadata": {
        "id": "phMBGCA0OfgR",
        "colab_type": "text"
      },
      "source": [
        "### Optional: Neural network with wordembedding (inception like) with Keras functional api  "
      ]
    },
    {
      "cell_type": "code",
      "metadata": {
        "id": "UxlHDe18OfgS",
        "colab_type": "code",
        "outputId": "2d32fe00-9856-415b-efac-67f2d3811343",
        "colab": {}
      },
      "source": [
        "from keras.models import Model\n",
        "from keras.layers import Input, Dense, Concatenate, Dropout, Embedding, Conv1D,GlobalMaxPooling1D,GlobalAveragePooling1D\n",
        "EMBEDDING_DIM = 30\n",
        "\n",
        "\n",
        "a = Input(shape=(max_length,))\n",
        "x = Embedding(vocab_size, EMBEDDING_DIM)(a)\n",
        "x1 = Conv1D(filters=50,kernel_size=(3),activation=\"relu\",padding=\"same\")(x)\n",
        "x2 = Conv1D(filters=50,kernel_size=(5),activation=\"relu\",padding=\"same\")(x)\n",
        "x3 = Conv1D(filters=50,kernel_size=(7),activation=\"relu\",padding=\"same\")(x)\n",
        "\n",
        "g1 = GlobalAveragePooling1D()(x1)\n",
        "g2 = GlobalAveragePooling1D()(x2)\n",
        "g3 = GlobalAveragePooling1D()(x3)\n",
        "conc= Concatenate()([g1,g2,g3])\n",
        "conc = Dropout(0.3)(conc)\n",
        "conc = Dense(50, activation='relu')(conc)\n",
        "conc = Dropout(0.3)(conc)\n",
        "out= Dense(1, activation='sigmoid')(conc)\n",
        "model = Model(inputs=a, outputs=out)\n",
        "model.compile(loss='binary_crossentropy', optimizer='adam', metrics=['accuracy'])\n",
        "model.summary()"
      ],
      "execution_count": 0,
      "outputs": [
        {
          "output_type": "stream",
          "text": [
            "WARNING:tensorflow:From /usr/local/lib/python3.5/dist-packages/tensorflow/python/util/deprecation.py:497: calling conv1d (from tensorflow.python.ops.nn_ops) with data_format=NHWC is deprecated and will be removed in a future version.\n",
            "Instructions for updating:\n",
            "`NHWC` for data_format is deprecated, use `NWC` instead\n",
            "__________________________________________________________________________________________________\n",
            "Layer (type)                    Output Shape         Param #     Connected to                     \n",
            "==================================================================================================\n",
            "input_1 (InputLayer)            (None, 2381)         0                                            \n",
            "__________________________________________________________________________________________________\n",
            "embedding_2 (Embedding)         (None, 2381, 30)     1868910     input_1[0][0]                    \n",
            "__________________________________________________________________________________________________\n",
            "conv1d_1 (Conv1D)               (None, 2381, 50)     4550        embedding_2[0][0]                \n",
            "__________________________________________________________________________________________________\n",
            "conv1d_2 (Conv1D)               (None, 2381, 50)     7550        embedding_2[0][0]                \n",
            "__________________________________________________________________________________________________\n",
            "conv1d_3 (Conv1D)               (None, 2381, 50)     10550       embedding_2[0][0]                \n",
            "__________________________________________________________________________________________________\n",
            "global_average_pooling1d_2 (Glo (None, 50)           0           conv1d_1[0][0]                   \n",
            "__________________________________________________________________________________________________\n",
            "global_average_pooling1d_3 (Glo (None, 50)           0           conv1d_2[0][0]                   \n",
            "__________________________________________________________________________________________________\n",
            "global_average_pooling1d_4 (Glo (None, 50)           0           conv1d_3[0][0]                   \n",
            "__________________________________________________________________________________________________\n",
            "concatenate_1 (Concatenate)     (None, 150)          0           global_average_pooling1d_2[0][0] \n",
            "                                                                 global_average_pooling1d_3[0][0] \n",
            "                                                                 global_average_pooling1d_4[0][0] \n",
            "__________________________________________________________________________________________________\n",
            "dropout_3 (Dropout)             (None, 150)          0           concatenate_1[0][0]              \n",
            "__________________________________________________________________________________________________\n",
            "dense_3 (Dense)                 (None, 50)           7550        dropout_3[0][0]                  \n",
            "__________________________________________________________________________________________________\n",
            "dropout_4 (Dropout)             (None, 50)           0           dense_3[0][0]                    \n",
            "__________________________________________________________________________________________________\n",
            "dense_4 (Dense)                 (None, 1)            51          dropout_4[0][0]                  \n",
            "==================================================================================================\n",
            "Total params: 1,899,161\n",
            "Trainable params: 1,899,161\n",
            "Non-trainable params: 0\n",
            "__________________________________________________________________________________________________\n"
          ],
          "name": "stdout"
        }
      ]
    },
    {
      "cell_type": "code",
      "metadata": {
        "id": "YaFMf-8EOfgW",
        "colab_type": "code",
        "outputId": "457e1edb-6ed7-4f50-947d-3eccc1b48782",
        "colab": {}
      },
      "source": [
        "history=model.fit(X_train_pad, y_train, batch_size=64, epochs=10, validation_data=(X_val_pad, y_val), verbose=1)"
      ],
      "execution_count": 0,
      "outputs": [
        {
          "output_type": "stream",
          "text": [
            "Train on 5000 samples, validate on 5000 samples\n",
            "Epoch 1/10\n",
            "5000/5000 [==============================] - 134s 27ms/step - loss: 0.6932 - acc: 0.5112 - val_loss: 0.6917 - val_acc: 0.5066\n",
            "Epoch 2/10\n",
            "5000/5000 [==============================] - 134s 27ms/step - loss: 0.6681 - acc: 0.6152 - val_loss: 0.6030 - val_acc: 0.7400\n",
            "Epoch 3/10\n",
            "5000/5000 [==============================] - 136s 27ms/step - loss: 0.4087 - acc: 0.8516 - val_loss: 0.3498 - val_acc: 0.8606\n",
            "Epoch 4/10\n",
            "5000/5000 [==============================] - 131s 26ms/step - loss: 0.1911 - acc: 0.9340 - val_loss: 0.3343 - val_acc: 0.8676\n",
            "Epoch 5/10\n",
            "5000/5000 [==============================] - 137s 27ms/step - loss: 0.1122 - acc: 0.9638 - val_loss: 0.3568 - val_acc: 0.8668\n",
            "Epoch 6/10\n",
            "5000/5000 [==============================] - 135s 27ms/step - loss: 0.0660 - acc: 0.9808 - val_loss: 0.3933 - val_acc: 0.8650\n",
            "Epoch 7/10\n",
            "5000/5000 [==============================] - 134s 27ms/step - loss: 0.0432 - acc: 0.9896 - val_loss: 0.4086 - val_acc: 0.8654\n",
            "Epoch 8/10\n",
            "5000/5000 [==============================] - 133s 27ms/step - loss: 0.0259 - acc: 0.9962 - val_loss: 0.4439 - val_acc: 0.8652\n",
            "Epoch 9/10\n",
            "5000/5000 [==============================] - 133s 27ms/step - loss: 0.0177 - acc: 0.9966 - val_loss: 0.4750 - val_acc: 0.8652\n",
            "Epoch 10/10\n",
            "5000/5000 [==============================] - 132s 26ms/step - loss: 0.0137 - acc: 0.9976 - val_loss: 0.5142 - val_acc: 0.8660\n"
          ],
          "name": "stdout"
        }
      ]
    },
    {
      "cell_type": "code",
      "metadata": {
        "id": "63SJzB8AOfgZ",
        "colab_type": "code",
        "outputId": "6e2e949a-d881-4981-b58a-7c32a4812c8e",
        "colab": {}
      },
      "source": [
        "# summarize history \n",
        "plt.plot(history.history['acc'])\n",
        "plt.plot(history.history['val_acc'])\n",
        "plt.title('model accuracy')\n",
        "plt.ylabel('accuracy')\n",
        "plt.xlabel('epoch')\n",
        "plt.legend(['train', 'valid'], loc='lower right')\n",
        "plt.show()\n",
        "plt.plot(history.history['loss'])\n",
        "plt.plot(history.history['val_loss'])\n",
        "plt.title('model loss')\n",
        "plt.ylabel('loss')\n",
        "plt.xlabel('epoch')\n",
        "plt.legend(['train', 'valid'], loc='upper right')\n",
        "plt.show()"
      ],
      "execution_count": 0,
      "outputs": [
        {
          "output_type": "display_data",
          "data": {
            "image/png": "[encoded data removed]",
            "text/plain": [
              "<matplotlib.figure.Figure at 0x7f236015f4a8>"
            ]
          },
          "metadata": {
            "tags": []
          }
        },
        {
          "output_type": "display_data",
          "data": {
            "image/png": "[encoded data removed]",
            "text/plain": [
              "<matplotlib.figure.Figure at 0x7f236fb19160>"
            ]
          },
          "metadata": {
            "tags": []
          }
        }
      ]
    },
    {
      "cell_type": "code",
      "metadata": {
        "id": "batRfbrgOfgc",
        "colab_type": "code",
        "outputId": "aff4d3b3-bcda-4cbe-fa8f-2f3aa7285649",
        "colab": {}
      },
      "source": [
        "y_pred = model.predict(X_test_pad)  \n",
        "y_pred=np.reshape(np.round(y_pred,0),(len(y_pred)))\n",
        "print(pd.crosstab(y_test, y_pred,rownames=['true'], colnames=['pred']))\n",
        "print(\"Acc = \",np.sum(y_test==y_pred)/len(y_test))"
      ],
      "execution_count": 0,
      "outputs": [
        {
          "output_type": "stream",
          "text": [
            "pred   0.0   1.0\n",
            "true            \n",
            "0     2178   233\n",
            "1      371  2218\n",
            "Acc =  0.8792\n"
          ],
          "name": "stdout"
        }
      ]
    }
  ]
}