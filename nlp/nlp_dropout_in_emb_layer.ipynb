{
  "nbformat": 4,
  "nbformat_minor": 0,
  "metadata": {
    "colab": {
      "name": "nlp_dropout_in_emb_layer.ipynb",
      "version": "0.3.2",
      "provenance": []
    },
    "kernelspec": {
      "name": "python3",
      "display_name": "Python 3"
    }
  },
  "cells": [
    {
      "cell_type": "code",
      "metadata": {
        "id": "8dktZvFQ7MYx",
        "colab_type": "code",
        "colab": {
          "base_uri": "https://localhost:8080/",
          "height": 34
        },
        "outputId": "91b3ffab-6483-4189-eab5-4df39245c1bf"
      },
      "source": [
        "import numpy as np\n",
        "import pandas as pd\n",
        "import tensorflow as tf\n",
        "import matplotlib.pyplot as plt\n",
        "%matplotlib inline\n",
        "\n",
        "!pip install tqdm\n",
        "from tqdm import tqdm_notebook as tqdm\n",
        "\n",
        "\n",
        "\n"
      ],
      "execution_count": 1,
      "outputs": [
        {
          "output_type": "stream",
          "text": [
            "Requirement already satisfied: tqdm in /usr/local/lib/python3.6/dist-packages (4.28.1)\n"
          ],
          "name": "stdout"
        }
      ]
    },
    {
      "cell_type": "code",
      "metadata": {
        "id": "fdZR7KC77a6d",
        "colab_type": "code",
        "colab": {
          "base_uri": "https://localhost:8080/",
          "height": 272
        },
        "outputId": "d5f878a9-1618-4aa9-922a-63e877c160f2"
      },
      "source": [
        "from keras.models import Model\n",
        "from keras.layers import Input, Activation,Dense,RepeatVector,Permute,Lambda,SpatialDropout1D,multiply, Concatenate, Dropout, Embedding, Conv1D,GlobalMaxPooling1D, Flatten ,MaxPooling1D, GlobalAvgPool1D,BatchNormalization\n",
        "#EMBEDDING_DIM = 25\n",
        "from keras import backend as K\n",
        "\n",
        "EMBEDDING_DIM = 50\n",
        "word_index=100\n",
        "max_len=5\n",
        "vocab_size=word_index\n",
        "#vocab_size=899999\n",
        "#\n",
        "#\n",
        "\n",
        "\n",
        "\n",
        "a = Input(shape=(max_len,))\n",
        "x = Embedding(vocab_size, EMBEDDING_DIM)(a)\n",
        "b1= Dropout(0.5)(x,training=True)\n",
        "#out= Dense(15, activation='softmax')(b1)\n",
        "model = Model(inputs=a, outputs=b1)\n",
        "model.compile(loss='categorical_crossentropy', optimizer='adam', metrics=['accuracy'])\n",
        "\n",
        "\n",
        "\n",
        "\n",
        "print('Summary of the built model...')\n",
        "print(model.summary())\n",
        "\n"
      ],
      "execution_count": 35,
      "outputs": [
        {
          "output_type": "stream",
          "text": [
            "Summary of the built model...\n",
            "_________________________________________________________________\n",
            "Layer (type)                 Output Shape              Param #   \n",
            "=================================================================\n",
            "input_11 (InputLayer)        (None, 5)                 0         \n",
            "_________________________________________________________________\n",
            "embedding_11 (Embedding)     (None, 5, 50)             5000      \n",
            "_________________________________________________________________\n",
            "dropout_11 (Dropout)         (None, 5, 50)             0         \n",
            "=================================================================\n",
            "Total params: 5,000\n",
            "Trainable params: 5,000\n",
            "Non-trainable params: 0\n",
            "_________________________________________________________________\n",
            "None\n"
          ],
          "name": "stdout"
        }
      ]
    },
    {
      "cell_type": "code",
      "metadata": {
        "id": "uxWAQBMq8UMI",
        "colab_type": "code",
        "colab": {
          "base_uri": "https://localhost:8080/",
          "height": 34
        },
        "outputId": "3d1c5077-2578-4c05-d522-17f8d0d5f50e"
      },
      "source": [
        "testseq=np.array([5,19,21,4,5])\n",
        "testseq=np.expand_dims(testseq,axis=0)\n",
        "testseq.shape"
      ],
      "execution_count": 36,
      "outputs": [
        {
          "output_type": "execute_result",
          "data": {
            "text/plain": [
              "(1, 5)"
            ]
          },
          "metadata": {
            "tags": []
          },
          "execution_count": 36
        }
      ]
    },
    {
      "cell_type": "code",
      "metadata": {
        "id": "0eIv33Wt7a9P",
        "colab_type": "code",
        "colab": {
          "base_uri": "https://localhost:8080/",
          "height": 1000
        },
        "outputId": "89bf10a8-f580-4742-da71-c607228f0a6a"
      },
      "source": [
        "model.predict(testseq)### dropout random dim for every word"
      ],
      "execution_count": 37,
      "outputs": [
        {
          "output_type": "execute_result",
          "data": {
            "text/plain": [
              "array([[[ 0.02935059, -0.0655386 , -0.00304959, -0.0820678 ,\n",
              "         -0.04016483, -0.        ,  0.00765166,  0.05864883,\n",
              "          0.        ,  0.07843233,  0.09957042, -0.09765065,\n",
              "          0.06645498,  0.05456755,  0.05794091,  0.        ,\n",
              "          0.        , -0.05023823, -0.        ,  0.        ,\n",
              "         -0.04370644, -0.        , -0.        , -0.        ,\n",
              "         -0.07408814,  0.0769804 , -0.        ,  0.00500302,\n",
              "         -0.        , -0.07050109,  0.02524874,  0.06231064,\n",
              "         -0.        , -0.02076216,  0.        , -0.        ,\n",
              "         -0.01174545, -0.        ,  0.        , -0.        ,\n",
              "         -0.07989578, -0.05111156, -0.01164367, -0.        ,\n",
              "         -0.        ,  0.01521406,  0.01451113,  0.074601  ,\n",
              "          0.06767235,  0.        ],\n",
              "        [-0.        , -0.        , -0.0729892 , -0.        ,\n",
              "          0.0682862 , -0.04103761,  0.        ,  0.        ,\n",
              "         -0.        , -0.04953165, -0.05160744, -0.06910598,\n",
              "          0.09080733,  0.0517798 , -0.03887634, -0.        ,\n",
              "         -0.0021116 ,  0.03194766, -0.06161265,  0.        ,\n",
              "         -0.        ,  0.        , -0.        ,  0.        ,\n",
              "         -0.        ,  0.08682168,  0.09119623,  0.        ,\n",
              "         -0.00022249, -0.06393962,  0.        , -0.        ,\n",
              "         -0.        ,  0.        ,  0.        , -0.08294382,\n",
              "         -0.04670808,  0.036824  , -0.03776434, -0.        ,\n",
              "         -0.08572097, -0.04574091,  0.0937444 ,  0.        ,\n",
              "         -0.        ,  0.        , -0.06157975,  0.02111892,\n",
              "          0.0952894 , -0.00828655],\n",
              "        [ 0.08949509, -0.        , -0.        , -0.07115791,\n",
              "         -0.        , -0.01157975, -0.        ,  0.08071464,\n",
              "          0.00993445,  0.01843233, -0.        , -0.06995015,\n",
              "         -0.01754825,  0.        , -0.        , -0.09392364,\n",
              "          0.        ,  0.        , -0.        ,  0.        ,\n",
              "          0.01662602, -0.05915332,  0.        ,  0.        ,\n",
              "          0.03468578,  0.        , -0.        , -0.08645766,\n",
              "          0.        ,  0.09792151,  0.        , -0.01909361,\n",
              "          0.        ,  0.        ,  0.        ,  0.        ,\n",
              "         -0.07350667, -0.        ,  0.06157691,  0.04496837,\n",
              "         -0.        ,  0.01634459,  0.06542533, -0.08583818,\n",
              "         -0.        , -0.        , -0.02106974, -0.03787878,\n",
              "          0.        ,  0.00454531],\n",
              "        [-0.        , -0.        ,  0.        , -0.02097158,\n",
              "          0.04586317, -0.09397357,  0.04640944,  0.02851289,\n",
              "         -0.04787533,  0.        , -0.048083  ,  0.09639866,\n",
              "         -0.        ,  0.        ,  0.        , -0.06361432,\n",
              "         -0.        ,  0.        ,  0.08273115, -0.02959661,\n",
              "          0.        , -0.        ,  0.        ,  0.02410066,\n",
              "          0.091523  ,  0.        ,  0.05101878,  0.        ,\n",
              "         -0.        , -0.09472316,  0.        ,  0.09633348,\n",
              "          0.        , -0.        , -0.08518467,  0.06015899,\n",
              "         -0.08242297,  0.04475027, -0.0464654 ,  0.01695704,\n",
              "         -0.        , -0.01164293,  0.07575076, -0.01449833,\n",
              "         -0.        ,  0.04291537, -0.        , -0.04869008,\n",
              "         -0.        ,  0.02794137],\n",
              "        [ 0.02935059, -0.        , -0.        , -0.0820678 ,\n",
              "         -0.        , -0.        ,  0.        ,  0.        ,\n",
              "          0.        ,  0.07843233,  0.        , -0.09765065,\n",
              "          0.        ,  0.        ,  0.05794091,  0.        ,\n",
              "          0.        , -0.05023823, -0.        ,  0.        ,\n",
              "         -0.        , -0.0563436 , -0.08205714, -0.05572519,\n",
              "         -0.        ,  0.        , -0.        ,  0.00500302,\n",
              "         -0.        , -0.07050109,  0.02524874,  0.06231064,\n",
              "         -0.09388631, -0.02076216,  0.09138649, -0.06898739,\n",
              "         -0.        , -0.        ,  0.        , -0.05168967,\n",
              "         -0.07989578, -0.        , -0.        , -0.06136041,\n",
              "         -0.07025085,  0.        ,  0.01451113,  0.        ,\n",
              "          0.        ,  0.        ]]], dtype=float32)"
            ]
          },
          "metadata": {
            "tags": []
          },
          "execution_count": 37
        }
      ]
    },
    {
      "cell_type": "code",
      "metadata": {
        "id": "oO854m1M8KFb",
        "colab_type": "code",
        "colab": {
          "base_uri": "https://localhost:8080/",
          "height": 272
        },
        "outputId": "0ba073df-f2cb-4530-8bbc-66f7e99c863d"
      },
      "source": [
        "from keras.models import Model\n",
        "from keras.layers import Input, Activation,Dense,RepeatVector,Permute,Lambda,SpatialDropout1D,multiply, Concatenate, Dropout, Embedding, Conv1D,GlobalMaxPooling1D, Flatten ,MaxPooling1D, GlobalAvgPool1D,BatchNormalization\n",
        "#EMBEDDING_DIM = 25\n",
        "from keras import backend as K\n",
        "\n",
        "EMBEDDING_DIM = 50\n",
        "word_index=100\n",
        "max_len=5\n",
        "vocab_size=word_index\n",
        "#vocab_size=899999\n",
        "#\n",
        "#\n",
        "\n",
        "\n",
        "\n",
        "a = Input(shape=(max_len,))\n",
        "x = Embedding(vocab_size, EMBEDDING_DIM)(a)\n",
        "b1= SpatialDropout1D(0.5)(x,training=True)\n",
        "#out= Dense(15, activation='softmax')(b1)\n",
        "model = Model(inputs=a, outputs=b1)\n",
        "model.compile(loss='categorical_crossentropy', optimizer='adam', metrics=['accuracy'])\n",
        "\n",
        "\n",
        "\n",
        "\n",
        "print('Summary of the built model...')\n",
        "print(model.summary())\n",
        "\n"
      ],
      "execution_count": 55,
      "outputs": [
        {
          "output_type": "stream",
          "text": [
            "Summary of the built model...\n",
            "_________________________________________________________________\n",
            "Layer (type)                 Output Shape              Param #   \n",
            "=================================================================\n",
            "input_19 (InputLayer)        (None, 5)                 0         \n",
            "_________________________________________________________________\n",
            "embedding_19 (Embedding)     (None, 5, 50)             5000      \n",
            "_________________________________________________________________\n",
            "spatial_dropout1d_5 (Spatial (None, 5, 50)             0         \n",
            "=================================================================\n",
            "Total params: 5,000\n",
            "Trainable params: 5,000\n",
            "Non-trainable params: 0\n",
            "_________________________________________________________________\n",
            "None\n"
          ],
          "name": "stdout"
        }
      ]
    },
    {
      "cell_type": "code",
      "metadata": {
        "id": "ivH6H7HF_TFk",
        "colab_type": "code",
        "colab": {
          "base_uri": "https://localhost:8080/",
          "height": 34
        },
        "outputId": "ad83a706-e7b2-4bf4-8976-c85e9641adf8"
      },
      "source": [
        "testseq=np.array([5,19,21,4,5])\n",
        "testseq=np.expand_dims(testseq,axis=0)\n",
        "testseq.shape"
      ],
      "execution_count": 56,
      "outputs": [
        {
          "output_type": "execute_result",
          "data": {
            "text/plain": [
              "(1, 5)"
            ]
          },
          "metadata": {
            "tags": []
          },
          "execution_count": 56
        }
      ]
    },
    {
      "cell_type": "code",
      "metadata": {
        "id": "2v_2AG92_Yy0",
        "colab_type": "code",
        "colab": {
          "base_uri": "https://localhost:8080/",
          "height": 1000
        },
        "outputId": "6f47b18a-e804-4fae-c448-4c29c4fd0272"
      },
      "source": [
        "np.round(model.predict(testseq),10)### dropout alsways same dim for every word"
      ],
      "execution_count": 57,
      "outputs": [
        {
          "output_type": "execute_result",
          "data": {
            "text/plain": [
              "array([[[-0.09888957, -0.05011601,  0.06946423, -0.        ,\n",
              "         -0.0478812 , -0.04922638, -0.06934235, -0.00950596,\n",
              "          0.        , -0.06383459,  0.        ,  0.        ,\n",
              "         -0.        , -0.        ,  0.        , -0.06073535,\n",
              "         -0.07352469, -0.        ,  0.02084033,  0.        ,\n",
              "          0.05813644, -0.        ,  0.08254982, -0.        ,\n",
              "         -0.09732921,  0.02401636,  0.04400039, -0.05034044,\n",
              "          0.0233411 , -0.00933423,  0.        , -0.        ,\n",
              "          0.01211102,  0.02125838,  0.00114415, -0.00576691,\n",
              "          0.        ,  0.04411326,  0.05909744,  0.        ,\n",
              "          0.        , -0.        , -0.0315157 ,  0.        ,\n",
              "         -0.        , -0.        , -0.00505529,  0.01786246,\n",
              "          0.05755208,  0.09003895],\n",
              "        [-0.02984195,  0.01247153,  0.03177883,  0.        ,\n",
              "         -0.0287112 , -0.02997501,  0.08107729,  0.05591104,\n",
              "          0.        ,  0.03352533,  0.        ,  0.        ,\n",
              "         -0.        ,  0.        ,  0.        , -0.08238117,\n",
              "         -0.03241589,  0.        , -0.07526076, -0.        ,\n",
              "         -0.09950316,  0.        ,  0.04257137, -0.        ,\n",
              "         -0.03860354, -0.01145728, -0.07821119, -0.04396577,\n",
              "          0.00930429,  0.05102477, -0.        ,  0.        ,\n",
              "          0.04915752,  0.07657526, -0.07207139, -0.06815863,\n",
              "          0.        ,  0.07013748,  0.03747692, -0.        ,\n",
              "          0.        , -0.        , -0.08134131, -0.        ,\n",
              "         -0.        , -0.        , -0.0230732 ,  0.02549446,\n",
              "         -0.0734365 , -0.02055915],\n",
              "        [-0.02410722,  0.09691372,  0.08903485, -0.        ,\n",
              "          0.08447223, -0.08698273,  0.00011747, -0.03649437,\n",
              "          0.        , -0.03031895,  0.        ,  0.        ,\n",
              "          0.        , -0.        , -0.        , -0.02320428,\n",
              "         -0.0975075 ,  0.        , -0.01968396, -0.        ,\n",
              "         -0.00829329, -0.        ,  0.05191118, -0.        ,\n",
              "         -0.04923763,  0.08770976, -0.0048486 , -0.05555313,\n",
              "          0.06149651, -0.0454371 ,  0.        ,  0.        ,\n",
              "         -0.03924258,  0.08385222,  0.09572492, -0.03483506,\n",
              "         -0.        ,  0.08281917, -0.01792733, -0.        ,\n",
              "         -0.        , -0.        , -0.09266837,  0.        ,\n",
              "         -0.        , -0.        , -0.03706968,  0.09173208,\n",
              "         -0.02444384,  0.05523226],\n",
              "        [ 0.03508816, -0.05237248,  0.09178653,  0.        ,\n",
              "         -0.04133628,  0.04719203, -0.06065622,  0.0818517 ,\n",
              "          0.        , -0.03000133, -0.        ,  0.        ,\n",
              "          0.        , -0.        ,  0.        , -0.04577196,\n",
              "          0.00272708,  0.        , -0.00062923,  0.        ,\n",
              "          0.05404521,  0.        ,  0.00252581, -0.        ,\n",
              "         -0.06093683,  0.03059185, -0.06811705, -0.00282006,\n",
              "         -0.05091217, -0.09635913, -0.        ,  0.        ,\n",
              "          0.03192366,  0.05088044,  0.02605622,  0.00669754,\n",
              "         -0.        , -0.04029799,  0.04001356, -0.        ,\n",
              "         -0.        ,  0.        , -0.00665476,  0.        ,\n",
              "         -0.        ,  0.        ,  0.06717827,  0.04883044,\n",
              "          0.01849048,  0.00914891],\n",
              "        [-0.09888957, -0.05011601,  0.06946423, -0.        ,\n",
              "         -0.0478812 , -0.04922638, -0.06934235, -0.00950596,\n",
              "          0.        , -0.06383459,  0.        ,  0.        ,\n",
              "         -0.        , -0.        ,  0.        , -0.06073535,\n",
              "         -0.07352469, -0.        ,  0.02084033,  0.        ,\n",
              "          0.05813644, -0.        ,  0.08254982, -0.        ,\n",
              "         -0.09732921,  0.02401636,  0.04400039, -0.05034044,\n",
              "          0.0233411 , -0.00933423,  0.        , -0.        ,\n",
              "          0.01211102,  0.02125838,  0.00114415, -0.00576691,\n",
              "          0.        ,  0.04411326,  0.05909744,  0.        ,\n",
              "          0.        , -0.        , -0.0315157 ,  0.        ,\n",
              "         -0.        , -0.        , -0.00505529,  0.01786246,\n",
              "          0.05755208,  0.09003895]]], dtype=float32)"
            ]
          },
          "metadata": {
            "tags": []
          },
          "execution_count": 57
        }
      ]
    },
    {
      "cell_type": "code",
      "metadata": {
        "id": "505Bgnvs_Zdb",
        "colab_type": "code",
        "colab": {
          "base_uri": "https://localhost:8080/",
          "height": 289
        },
        "outputId": "7b20ec25-d7ba-4cbb-c60a-163998dedd5e"
      },
      "source": [
        "from keras.models import Model\n",
        "from keras.layers import Input, Activation,Dense,RepeatVector,Permute,Lambda,SpatialDropout1D,multiply, Concatenate, Dropout, Embedding, Conv1D,GlobalMaxPooling1D, Flatten ,MaxPooling1D, GlobalAvgPool1D,BatchNormalization\n",
        "#EMBEDDING_DIM = 25\n",
        "from keras import backend as K\n",
        "\n",
        "EMBEDDING_DIM = 50\n",
        "word_index=100\n",
        "max_len=5\n",
        "vocab_size=word_index\n",
        "#vocab_size=899999\n",
        "#\n",
        "#\n",
        "\n",
        "\n",
        "\n",
        "a = Input(shape=(max_len,))\n",
        "a1= Dropout(0.99)(a,training=True)\n",
        "x = Embedding(vocab_size+1, EMBEDDING_DIM)(a1)\n",
        "#b1= SpatialDropout1D(0.5)(x,training=True)\n",
        "#out= Dense(15, activation='softmax')(b1)\n",
        "model = Model(inputs=a, outputs=x)\n",
        "model.compile(loss='categorical_crossentropy', optimizer='adam', metrics=['accuracy'])\n",
        "\n",
        "\n",
        "\n",
        "\n",
        "print('Summary of the built model...')\n",
        "print(model.summary())\n",
        "\n"
      ],
      "execution_count": 101,
      "outputs": [
        {
          "output_type": "stream",
          "text": [
            "W0717 08:33:11.076184 140063519668096 nn_ops.py:4224] Large dropout rate: 0.99 (>0.5). In TensorFlow 2.x, dropout() uses dropout rate instead of keep_prob. Please ensure that this is intended.\n"
          ],
          "name": "stderr"
        },
        {
          "output_type": "stream",
          "text": [
            "Summary of the built model...\n",
            "_________________________________________________________________\n",
            "Layer (type)                 Output Shape              Param #   \n",
            "=================================================================\n",
            "input_35 (InputLayer)        (None, 5)                 0         \n",
            "_________________________________________________________________\n",
            "dropout_26 (Dropout)         (None, 5)                 0         \n",
            "_________________________________________________________________\n",
            "embedding_30 (Embedding)     (None, 5, 50)             5050      \n",
            "=================================================================\n",
            "Total params: 5,050\n",
            "Trainable params: 5,050\n",
            "Non-trainable params: 0\n",
            "_________________________________________________________________\n",
            "None\n"
          ],
          "name": "stdout"
        }
      ]
    },
    {
      "cell_type": "code",
      "metadata": {
        "id": "SPWnCmqjCXKM",
        "colab_type": "code",
        "colab": {
          "base_uri": "https://localhost:8080/",
          "height": 34
        },
        "outputId": "b2a76dfa-e8ce-4530-c1bd-ac38cb24c101"
      },
      "source": [
        "testseq=np.array([5,19,21,4,5])\n",
        "testseq=np.expand_dims(testseq,axis=0)\n",
        "testseq.shape"
      ],
      "execution_count": 102,
      "outputs": [
        {
          "output_type": "execute_result",
          "data": {
            "text/plain": [
              "(1, 5)"
            ]
          },
          "metadata": {
            "tags": []
          },
          "execution_count": 102
        }
      ]
    },
    {
      "cell_type": "code",
      "metadata": {
        "colab_type": "code",
        "outputId": "381fd761-ec37-4458-eb77-42a576aac79b",
        "id": "7dtQ3saeClt8",
        "colab": {
          "base_uri": "https://localhost:8080/",
          "height": 1000
        }
      },
      "source": [
        "np.round(model.predict(testseq),10)### dropout entire words so they will get embeded into the zero emv which mean no \"word\", same as padded values"
      ],
      "execution_count": 103,
      "outputs": [
        {
          "output_type": "execute_result",
          "data": {
            "text/plain": [
              "array([[[-0.0498526 ,  0.04098625,  0.02621908, -0.00907226,\n",
              "         -0.04208113,  0.04791751, -0.00604559,  0.01061754,\n",
              "          0.04684165, -0.0373794 , -0.01383855,  0.04947985,\n",
              "         -0.00774201, -0.03742703, -0.01366746,  0.03107513,\n",
              "          0.04727856,  0.04942063,  0.04497379,  0.0456886 ,\n",
              "         -0.03045985, -0.00958824,  0.00659988,  0.03145171,\n",
              "          0.03841816, -0.04362762,  0.04773254,  0.04471997,\n",
              "          0.02733273,  0.01417663,  0.01988235, -0.0068737 ,\n",
              "          0.03105542, -0.04371386, -0.04041026, -0.02718751,\n",
              "         -0.0486551 , -0.01497795, -0.02060671,  0.01000934,\n",
              "         -0.01002468, -0.03475279, -0.01961537,  0.03150955,\n",
              "          0.04816509, -0.00308361, -0.00108596,  0.02490118,\n",
              "          0.01285899,  0.01536772],\n",
              "        [-0.0498526 ,  0.04098625,  0.02621908, -0.00907226,\n",
              "         -0.04208113,  0.04791751, -0.00604559,  0.01061754,\n",
              "          0.04684165, -0.0373794 , -0.01383855,  0.04947985,\n",
              "         -0.00774201, -0.03742703, -0.01366746,  0.03107513,\n",
              "          0.04727856,  0.04942063,  0.04497379,  0.0456886 ,\n",
              "         -0.03045985, -0.00958824,  0.00659988,  0.03145171,\n",
              "          0.03841816, -0.04362762,  0.04773254,  0.04471997,\n",
              "          0.02733273,  0.01417663,  0.01988235, -0.0068737 ,\n",
              "          0.03105542, -0.04371386, -0.04041026, -0.02718751,\n",
              "         -0.0486551 , -0.01497795, -0.02060671,  0.01000934,\n",
              "         -0.01002468, -0.03475279, -0.01961537,  0.03150955,\n",
              "          0.04816509, -0.00308361, -0.00108596,  0.02490118,\n",
              "          0.01285899,  0.01536772],\n",
              "        [-0.0498526 ,  0.04098625,  0.02621908, -0.00907226,\n",
              "         -0.04208113,  0.04791751, -0.00604559,  0.01061754,\n",
              "          0.04684165, -0.0373794 , -0.01383855,  0.04947985,\n",
              "         -0.00774201, -0.03742703, -0.01366746,  0.03107513,\n",
              "          0.04727856,  0.04942063,  0.04497379,  0.0456886 ,\n",
              "         -0.03045985, -0.00958824,  0.00659988,  0.03145171,\n",
              "          0.03841816, -0.04362762,  0.04773254,  0.04471997,\n",
              "          0.02733273,  0.01417663,  0.01988235, -0.0068737 ,\n",
              "          0.03105542, -0.04371386, -0.04041026, -0.02718751,\n",
              "         -0.0486551 , -0.01497795, -0.02060671,  0.01000934,\n",
              "         -0.01002468, -0.03475279, -0.01961537,  0.03150955,\n",
              "          0.04816509, -0.00308361, -0.00108596,  0.02490118,\n",
              "          0.01285899,  0.01536772],\n",
              "        [-0.0498526 ,  0.04098625,  0.02621908, -0.00907226,\n",
              "         -0.04208113,  0.04791751, -0.00604559,  0.01061754,\n",
              "          0.04684165, -0.0373794 , -0.01383855,  0.04947985,\n",
              "         -0.00774201, -0.03742703, -0.01366746,  0.03107513,\n",
              "          0.04727856,  0.04942063,  0.04497379,  0.0456886 ,\n",
              "         -0.03045985, -0.00958824,  0.00659988,  0.03145171,\n",
              "          0.03841816, -0.04362762,  0.04773254,  0.04471997,\n",
              "          0.02733273,  0.01417663,  0.01988235, -0.0068737 ,\n",
              "          0.03105542, -0.04371386, -0.04041026, -0.02718751,\n",
              "         -0.0486551 , -0.01497795, -0.02060671,  0.01000934,\n",
              "         -0.01002468, -0.03475279, -0.01961537,  0.03150955,\n",
              "          0.04816509, -0.00308361, -0.00108596,  0.02490118,\n",
              "          0.01285899,  0.01536772],\n",
              "        [-0.0498526 ,  0.04098625,  0.02621908, -0.00907226,\n",
              "         -0.04208113,  0.04791751, -0.00604559,  0.01061754,\n",
              "          0.04684165, -0.0373794 , -0.01383855,  0.04947985,\n",
              "         -0.00774201, -0.03742703, -0.01366746,  0.03107513,\n",
              "          0.04727856,  0.04942063,  0.04497379,  0.0456886 ,\n",
              "         -0.03045985, -0.00958824,  0.00659988,  0.03145171,\n",
              "          0.03841816, -0.04362762,  0.04773254,  0.04471997,\n",
              "          0.02733273,  0.01417663,  0.01988235, -0.0068737 ,\n",
              "          0.03105542, -0.04371386, -0.04041026, -0.02718751,\n",
              "         -0.0486551 , -0.01497795, -0.02060671,  0.01000934,\n",
              "         -0.01002468, -0.03475279, -0.01961537,  0.03150955,\n",
              "          0.04816509, -0.00308361, -0.00108596,  0.02490118,\n",
              "          0.01285899,  0.01536772]]], dtype=float32)"
            ]
          },
          "metadata": {
            "tags": []
          },
          "execution_count": 103
        }
      ]
    },
    {
      "cell_type": "code",
      "metadata": {
        "id": "2MUvmY1VCqcr",
        "colab_type": "code",
        "colab": {}
      },
      "source": [
        ""
      ],
      "execution_count": 0,
      "outputs": []
    }
  ]
}